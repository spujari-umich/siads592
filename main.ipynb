{
 "cells": [
  {
   "cell_type": "markdown",
   "metadata": {
    "collapsed": true
   },
   "source": [
    "# SIADS 591 Milestone\n",
    "## Causality & Mitigations - Analysis of NYC accidents\n",
    "\n",
    "- Amit Kumar Jha (amitjha)\n",
    "- Sahil Pujari (pujari)\n"
   ]
  },
  {
   "cell_type": "markdown",
   "metadata": {},
   "source": [
    "# Table of Contents\n",
    "1. [Datasets](#datasets)\n",
    "2. [Required packages](#required_packages)\n",
    "3. [Downloading required data](#downloading_required_data)\n",
    "4. [Joining Datasets](#joining_datasets)\n",
    "5. [Q1. Most common causes of traffic accidents in New York?](#q1_start)\n",
    "6. [Q2. Are there any locations which are more prone to traffic accidents than others?](#q2_start)\n",
    "7. [Q3. Are there any sections of society which are more prone to accidents, causal/victims like pedestrians, cyclists or bike users in specific locations?](#q3_start)\n",
    "7. [Q4. Attributes of vehicles with most accidents](#q4_start)"
   ]
  },
  {
   "cell_type": "markdown",
   "metadata": {},
   "source": [
    "## Datasets  <a class=\"anchor\" id=\"datasets\"></a>"
   ]
  },
  {
   "cell_type": "code",
   "execution_count": 1,
   "metadata": {},
   "outputs": [],
   "source": [
    "HOSPITALS_HIFLD = 'Hospitals.csv'\n",
    "MOTOR_VEHICLE_COLLISIONS_CRASHES = 'Motor_Vehicle_Collisions_-_Crashes.csv'\n",
    "MOTOR_VEHICLE_COLLISIONS_PERSONS = 'Motor_Vehicle_Collisions_-_Person.csv'\n",
    "MOTOR_VEHICLE_COLLISIONS_VEHICLES = 'Motor_Vehicle_Collisions_-_Vehicles.csv'\n",
    "TRAFFIC_VOLUME_COUNTS = 'Traffic_Volume_Counts__2014-2019_.csv'\n",
    "TRAFFIC_SPEEDS = 'DOT_Traffic_Speeds_NBE.csv'\n",
    "\n",
    "datasets_and_uris = {}\n",
    "datasets_and_uris[HOSPITALS_HIFLD] = 'https://opendata.arcgis.com/api/v3/datasets/6ac5e325468c4cb9b905f1728d6fbf0f_0/downloads/data?format=csv&spatialRefId=3857'\n",
    "datasets_and_uris[MOTOR_VEHICLE_COLLISIONS_CRASHES] = 'https://data.cityofnewyork.us/api/views/h9gi-nx95/rows.csv?accessType=DOWNLOAD'\n",
    "datasets_and_uris[MOTOR_VEHICLE_COLLISIONS_PERSONS] = 'https://data.cityofnewyork.us/api/views/f55k-p6yu/rows.csv?accessType=DOWNLOAD'\n",
    "datasets_and_uris[MOTOR_VEHICLE_COLLISIONS_VEHICLES] = 'https://data.cityofnewyork.us/api/views/bm4k-52h4/rows.csv?accessType=DOWNLOAD'\n",
    "datasets_and_uris[TRAFFIC_VOLUME_COUNTS] = 'https://data.cityofnewyork.us/api/views/ertz-hr4r/rows.csv?accessType=DOWNLOAD'\n",
    "datasets_and_uris[TRAFFIC_SPEEDS] = 'https://data.cityofnewyork.us/api/views/i4gi-tjb9/rows.csv?accessType=DOWNLOAD'"
   ]
  },
  {
   "cell_type": "markdown",
   "metadata": {},
   "source": [
    "## Required packages <a class=\"anchor\" id=\"required_packages\"></a>"
   ]
  },
  {
   "cell_type": "code",
   "execution_count": 2,
   "metadata": {},
   "outputs": [],
   "source": [
    "import numpy as np\n",
    "import pandas as pd\n",
    "import altair as alt\n",
    "import requests\n",
    "import random\n",
    "import os\n",
    "import warnings\n",
    "warnings.simplefilter(action=\"ignore\", category=FutureWarning)\n",
    "\n",
    "import matplotlib.pyplot as plt\n",
    "import folium\n",
    "from folium import plugins\n",
    "import geopandas as gpd\n",
    "from folium import Marker, Circle, CircleMarker, Choropleth  \n",
    "from folium.plugins import MarkerCluster, HeatMap\n",
    "from geopandas.tools import geocode\n",
    "from shapely.geometry import Point \n",
    "plt.style.use('seaborn')"
   ]
  },
  {
   "cell_type": "code",
   "execution_count": 3,
   "metadata": {},
   "outputs": [],
   "source": [
    "# Helper routines\n",
    "\n",
    "city_geo_dict = {}\n",
    "def city_geocoder(city):\n",
    "    ''' geocodes the city, which we want to explore\n",
    "    city - name of the city you wish to explore'''\n",
    "    try:\n",
    "        print(city)\n",
    "        if city in city_geo_dict:\n",
    "            print('getting from lookup')\n",
    "            result = city_geo_dict[city]\n",
    "        else:\n",
    "            result = geocode(city, provider='nominatim').geometry.iloc[0]\n",
    "            city_geo_dict[city] = result\n",
    "        return(result)\n",
    "    except:\n",
    "        print('could not geocode the city')\n",
    "        return None            \n",
    "    \n",
    "def geo_preprocessing(data):\n",
    "    data = data.copy()\n",
    "    geometry = [Point(float(x),float(y)) for x,y in zip(data['longitude'], data['latitude'])]\n",
    "    crs = ('epsg:5179')\n",
    "    data = gpd.GeoDataFrame(data, crs=crs, geometry=geometry)\n",
    "    return(data)  "
   ]
  },
  {
   "cell_type": "markdown",
   "metadata": {},
   "source": [
    "## Downloading required data  <a class=\"anchor\" id=\"downloading_required_data\"></a>"
   ]
  },
  {
   "cell_type": "code",
   "execution_count": 4,
   "metadata": {},
   "outputs": [
    {
     "name": "stdout",
     "output_type": "stream",
     "text": [
      "assets/datasets/Hospitals.csv\n",
      "file already exists, no need to download\n",
      "assets/datasets/Motor_Vehicle_Collisions_-_Crashes.csv\n",
      "file already exists, no need to download\n",
      "assets/datasets/Motor_Vehicle_Collisions_-_Person.csv\n",
      "file already exists, no need to download\n",
      "assets/datasets/Motor_Vehicle_Collisions_-_Vehicles.csv\n",
      "file already exists, no need to download\n",
      "assets/datasets/Traffic_Volume_Counts__2014-2019_.csv\n",
      "file already exists, no need to download\n",
      "assets/datasets/DOT_Traffic_Speeds_NBE.csv\n",
      "file already exists, no need to download\n"
     ]
    }
   ],
   "source": [
    "def download_data(uri, path, filename):\n",
    "    \"\"\"\n",
    "    Downloads file from a direct URL\n",
    "    \n",
    "    @param uri: URI of the file\n",
    "    @param path: path to write the file\n",
    "    @param filename: Name to give the downloaded resource\n",
    "    \"\"\"\n",
    "    filepath = path + \"/\" + filename\n",
    "    if os.path.isfile(filepath):\n",
    "        print(filepath)\n",
    "        print('file already exists, no need to download')\n",
    "    else:\n",
    "        result = requests.get(uri) \n",
    "        with open(filepath, 'wb') as f:\n",
    "            f.write(result.content)\n",
    "            \n",
    "ASSETS_PATH = 'assets/datasets'\n",
    "\n",
    "for filename, uri in datasets_and_uris.items():\n",
    "    download_data(uri, ASSETS_PATH, filename)"
   ]
  },
  {
   "cell_type": "markdown",
   "metadata": {},
   "source": [
    "### Convert to dataframes and postprocess / join <a class=\"anchor\" id=\"joining_datasets\"></a>"
   ]
  },
  {
   "cell_type": "code",
   "execution_count": 5,
   "metadata": {
    "pycharm": {
     "is_executing": true
    }
   },
   "outputs": [],
   "source": [
    "# Crashes\n",
    "mv_crashes_df = pd.read_csv(ASSETS_PATH + '/' + MOTOR_VEHICLE_COLLISIONS_CRASHES, low_memory=False)\n",
    "mv_crashes_df['CRASH DATE'] = pd.to_datetime(mv_crashes_df['CRASH DATE'])\n",
    "mv_crashes_df.set_index('COLLISION_ID', inplace=True)"
   ]
  },
  {
   "cell_type": "code",
   "execution_count": 6,
   "metadata": {
    "pycharm": {
     "is_executing": true
    }
   },
   "outputs": [],
   "source": [
    "# Persons\n",
    "mv_persons_df = pd.read_csv(ASSETS_PATH + '/' + MOTOR_VEHICLE_COLLISIONS_PERSONS, low_memory=False)\n",
    "mv_persons_df.set_index('COLLISION_ID', inplace=True)"
   ]
  },
  {
   "cell_type": "code",
   "execution_count": 7,
   "metadata": {
    "pycharm": {
     "is_executing": true
    }
   },
   "outputs": [],
   "source": [
    "# Vehicles\n",
    "mv_vehicles_df = pd.read_csv(ASSETS_PATH + '/' + MOTOR_VEHICLE_COLLISIONS_VEHICLES, low_memory=False)\n",
    "mv_vehicles_df.set_index('COLLISION_ID', inplace=True)"
   ]
  },
  {
   "cell_type": "code",
   "execution_count": 8,
   "metadata": {
    "pycharm": {
     "is_executing": true
    }
   },
   "outputs": [],
   "source": [
    "# Join all datasets on (COLLISION_ID)\n",
    "mv_combined_df = mv_crashes_df.merge(mv_persons_df, on='COLLISION_ID', how='left')\n",
    "mv_combined_df = mv_combined_df.merge(mv_vehicles_df, on='COLLISION_ID', how='left')"
   ]
  },
  {
   "cell_type": "code",
   "execution_count": 9,
   "metadata": {
    "pycharm": {
     "is_executing": true
    }
   },
   "outputs": [],
   "source": [
    "# Create a sample for 2018 for development\n",
    "sample_mv_combined_df = mv_combined_df[mv_combined_df['CRASH DATE'].dt.year == 2018]"
   ]
  },
  {
   "cell_type": "code",
   "execution_count": 10,
   "metadata": {
    "pycharm": {
     "is_executing": true
    }
   },
   "outputs": [
    {
     "data": {
      "text/plain": [
       "{'CRASH DATE': {4027122.0: Timestamp('2018-11-14 00:00:00')},\n",
       " 'CRASH TIME': {4027122.0: '13:30'},\n",
       " 'BOROUGH': {4027122.0: nan},\n",
       " 'ZIP CODE': {4027122.0: nan},\n",
       " 'LATITUDE': {4027122.0: nan},\n",
       " 'LONGITUDE': {4027122.0: nan},\n",
       " 'LOCATION': {4027122.0: nan},\n",
       " 'ON STREET NAME': {4027122.0: 'HENRY HUDSON PARKWAY            '},\n",
       " 'CROSS STREET NAME': {4027122.0: nan},\n",
       " 'OFF STREET NAME': {4027122.0: nan},\n",
       " 'NUMBER OF PERSONS INJURED': {4027122.0: 0.0},\n",
       " 'NUMBER OF PERSONS KILLED': {4027122.0: 0.0},\n",
       " 'NUMBER OF PEDESTRIANS INJURED': {4027122.0: 0},\n",
       " 'NUMBER OF PEDESTRIANS KILLED': {4027122.0: 0},\n",
       " 'NUMBER OF CYCLIST INJURED': {4027122.0: 0},\n",
       " 'NUMBER OF CYCLIST KILLED': {4027122.0: 0},\n",
       " 'NUMBER OF MOTORIST INJURED': {4027122.0: 0},\n",
       " 'NUMBER OF MOTORIST KILLED': {4027122.0: 0},\n",
       " 'CONTRIBUTING FACTOR VEHICLE 1': {4027122.0: 'Following Too Closely'},\n",
       " 'CONTRIBUTING FACTOR VEHICLE 2': {4027122.0: 'Unspecified'},\n",
       " 'CONTRIBUTING FACTOR VEHICLE 3': {4027122.0: nan},\n",
       " 'CONTRIBUTING FACTOR VEHICLE 4': {4027122.0: nan},\n",
       " 'CONTRIBUTING FACTOR VEHICLE 5': {4027122.0: nan},\n",
       " 'VEHICLE TYPE CODE 1': {4027122.0: 'Sedan'},\n",
       " 'VEHICLE TYPE CODE 2': {4027122.0: 'Sedan'},\n",
       " 'VEHICLE TYPE CODE 3': {4027122.0: nan},\n",
       " 'VEHICLE TYPE CODE 4': {4027122.0: nan},\n",
       " 'VEHICLE TYPE CODE 5': {4027122.0: nan},\n",
       " 'UNIQUE_ID_x': {4027122.0: '9396308'},\n",
       " 'CRASH_DATE_x': {4027122.0: '11/14/2018'},\n",
       " 'CRASH_TIME_x': {4027122.0: '13:30'},\n",
       " 'PERSON_ID': {4027122.0: '9396f1ac-e2a0-4e27-916e-f9325493923d'},\n",
       " 'PERSON_TYPE': {4027122.0: 'Occupant'},\n",
       " 'PERSON_INJURY': {4027122.0: 'Unspecified'},\n",
       " 'VEHICLE_ID_x': {4027122.0: 18717727.0},\n",
       " 'PERSON_AGE': {4027122.0: 59.0},\n",
       " 'EJECTION': {4027122.0: nan},\n",
       " 'EMOTIONAL_STATUS': {4027122.0: nan},\n",
       " 'BODILY_INJURY': {4027122.0: nan},\n",
       " 'POSITION_IN_VEHICLE': {4027122.0: nan},\n",
       " 'SAFETY_EQUIPMENT': {4027122.0: nan},\n",
       " 'PED_LOCATION': {4027122.0: nan},\n",
       " 'PED_ACTION': {4027122.0: nan},\n",
       " 'COMPLAINT': {4027122.0: nan},\n",
       " 'PED_ROLE': {4027122.0: 'Registrant'},\n",
       " 'CONTRIBUTING_FACTOR_1_x': {4027122.0: nan},\n",
       " 'CONTRIBUTING_FACTOR_2_x': {4027122.0: nan},\n",
       " 'PERSON_SEX': {4027122.0: 'M'},\n",
       " 'UNIQUE_ID_y': {4027122.0: 18717726.0},\n",
       " 'CRASH_DATE_y': {4027122.0: '11/14/2018'},\n",
       " 'CRASH_TIME_y': {4027122.0: '13:30'},\n",
       " 'VEHICLE_ID_y': {4027122.0: 'fc64bcfb-5d6e-4478-85e5-7c46c4f706de'},\n",
       " 'STATE_REGISTRATION': {4027122.0: 'NY'},\n",
       " 'VEHICLE_TYPE': {4027122.0: 'Sedan'},\n",
       " 'VEHICLE_MAKE': {4027122.0: 'HYUN -CAR/SUV'},\n",
       " 'VEHICLE_MODEL': {4027122.0: nan},\n",
       " 'VEHICLE_YEAR': {4027122.0: 2016.0},\n",
       " 'TRAVEL_DIRECTION': {4027122.0: 'North'},\n",
       " 'VEHICLE_OCCUPANTS': {4027122.0: 1.0},\n",
       " 'DRIVER_SEX': {4027122.0: 'M'},\n",
       " 'DRIVER_LICENSE_STATUS': {4027122.0: 'Licensed'},\n",
       " 'DRIVER_LICENSE_JURISDICTION': {4027122.0: 'NY'},\n",
       " 'PRE_CRASH': {4027122.0: 'Going Straight Ahead'},\n",
       " 'POINT_OF_IMPACT': {4027122.0: 'Center Back End'},\n",
       " 'VEHICLE_DAMAGE': {4027122.0: 'Left Rear Bumper'},\n",
       " 'VEHICLE_DAMAGE_1': {4027122.0: 'Left Rear Bumper'},\n",
       " 'VEHICLE_DAMAGE_2': {4027122.0: 'No Damage'},\n",
       " 'VEHICLE_DAMAGE_3': {4027122.0: nan},\n",
       " 'PUBLIC_PROPERTY_DAMAGE': {4027122.0: 'N'},\n",
       " 'PUBLIC_PROPERTY_DAMAGE_TYPE': {4027122.0: nan},\n",
       " 'CONTRIBUTING_FACTOR_1_y': {4027122.0: 'Unspecified'},\n",
       " 'CONTRIBUTING_FACTOR_2_y': {4027122.0: 'Alcohol Involvement'}}"
      ]
     },
     "execution_count": 10,
     "metadata": {},
     "output_type": "execute_result"
    }
   ],
   "source": [
    "sample_mv_combined_df.head(4).to_dict()"
   ]
  },
  {
   "cell_type": "markdown",
   "metadata": {},
   "source": [
    "## Q1. Most common causes of traffic accidents in New York? <a class=\"anchor\" id=\"q1_start\"></a>"
   ]
  },
  {
   "cell_type": "markdown",
   "metadata": {},
   "source": [
    "### Contributing Factors"
   ]
  },
  {
   "cell_type": "code",
   "execution_count": 11,
   "metadata": {
    "pycharm": {
     "is_executing": true
    }
   },
   "outputs": [
    {
     "data": {
      "text/plain": [
       "[('Driver Inattention/Distraction', 484333),\n",
       " ('Following Too Closely', 222202),\n",
       " ('Failure to Yield Right-of-Way', 124127),\n",
       " ('Passing or Lane Usage Improper', 90386),\n",
       " ('Unsafe Lane Changing', 74033),\n",
       " ('Passing Too Closely', 73316),\n",
       " ('Other Vehicular', 72862),\n",
       " ('Backing Unsafely', 71767),\n",
       " ('Turning Improperly', 45840),\n",
       " ('Traffic Control Disregarded', 37355)]"
      ]
     },
     "execution_count": 11,
     "metadata": {},
     "output_type": "execute_result"
    }
   ],
   "source": [
    "from collections import Counter\n",
    "\n",
    "# For the purpose of finding prominent contributing factors, we need to combine X / Y parties of the accident\n",
    "contributing_factor_1_y = sample_mv_combined_df['CONTRIBUTING_FACTOR_1_y'].value_counts().to_dict()\n",
    "contributing_factor_2_y = sample_mv_combined_df['CONTRIBUTING_FACTOR_2_y'].value_counts().to_dict()\n",
    "# Combine with vehicle factors\n",
    "cf_vehicle_1 = sample_mv_combined_df['CONTRIBUTING FACTOR VEHICLE 1'].value_counts().to_dict()\n",
    "cf_vehicle_2 = sample_mv_combined_df['CONTRIBUTING FACTOR VEHICLE 2'].value_counts().to_dict()\n",
    "cf_vehicle_3 = sample_mv_combined_df['CONTRIBUTING FACTOR VEHICLE 3'].value_counts().to_dict()\n",
    "cf_vehicle_4 = sample_mv_combined_df['CONTRIBUTING FACTOR VEHICLE 4'].value_counts().to_dict()\n",
    "cf_vehicle_5 = sample_mv_combined_df['CONTRIBUTING FACTOR VEHICLE 5'].value_counts().to_dict()\n",
    "# Create a combined freq dict\n",
    "cf_combined = Counter(contributing_factor_1_y) + Counter(contributing_factor_2_y) + Counter(cf_vehicle_1) + Counter(cf_vehicle_2) + Counter(cf_vehicle_3) + Counter(cf_vehicle_4) + Counter(cf_vehicle_5)\n",
    "del cf_combined['Unspecified']\n",
    "\n",
    "# Top 10 contributing factors\n",
    "cf_combined.most_common(10)"
   ]
  },
  {
   "cell_type": "markdown",
   "metadata": {},
   "source": [
    "### Bar Chart contributing factors"
   ]
  },
  {
   "cell_type": "code",
   "execution_count": 12,
   "metadata": {
    "pycharm": {
     "is_executing": true
    }
   },
   "outputs": [
    {
     "data": {
      "text/html": [
       "\n",
       "<div id=\"altair-viz-798c3865a0d8405c96f5d3d8c34bd20c\"></div>\n",
       "<script type=\"text/javascript\">\n",
       "  (function(spec, embedOpt){\n",
       "    let outputDiv = document.currentScript.previousElementSibling;\n",
       "    if (outputDiv.id !== \"altair-viz-798c3865a0d8405c96f5d3d8c34bd20c\") {\n",
       "      outputDiv = document.getElementById(\"altair-viz-798c3865a0d8405c96f5d3d8c34bd20c\");\n",
       "    }\n",
       "    const paths = {\n",
       "      \"vega\": \"https://cdn.jsdelivr.net/npm//vega@5?noext\",\n",
       "      \"vega-lib\": \"https://cdn.jsdelivr.net/npm//vega-lib?noext\",\n",
       "      \"vega-lite\": \"https://cdn.jsdelivr.net/npm//vega-lite@4.8.1?noext\",\n",
       "      \"vega-embed\": \"https://cdn.jsdelivr.net/npm//vega-embed@6?noext\",\n",
       "    };\n",
       "\n",
       "    function loadScript(lib) {\n",
       "      return new Promise(function(resolve, reject) {\n",
       "        var s = document.createElement('script');\n",
       "        s.src = paths[lib];\n",
       "        s.async = true;\n",
       "        s.onload = () => resolve(paths[lib]);\n",
       "        s.onerror = () => reject(`Error loading script: ${paths[lib]}`);\n",
       "        document.getElementsByTagName(\"head\")[0].appendChild(s);\n",
       "      });\n",
       "    }\n",
       "\n",
       "    function showError(err) {\n",
       "      outputDiv.innerHTML = `<div class=\"error\" style=\"color:red;\">${err}</div>`;\n",
       "      throw err;\n",
       "    }\n",
       "\n",
       "    function displayChart(vegaEmbed) {\n",
       "      vegaEmbed(outputDiv, spec, embedOpt)\n",
       "        .catch(err => showError(`Javascript Error: ${err.message}<br>This usually means there's a typo in your chart specification. See the javascript console for the full traceback.`));\n",
       "    }\n",
       "\n",
       "    if(typeof define === \"function\" && define.amd) {\n",
       "      requirejs.config({paths});\n",
       "      require([\"vega-embed\"], displayChart, err => showError(`Error loading script: ${err.message}`));\n",
       "    } else if (typeof vegaEmbed === \"function\") {\n",
       "      displayChart(vegaEmbed);\n",
       "    } else {\n",
       "      loadScript(\"vega\")\n",
       "        .then(() => loadScript(\"vega-lite\"))\n",
       "        .then(() => loadScript(\"vega-embed\"))\n",
       "        .catch(showError)\n",
       "        .then(() => displayChart(vegaEmbed));\n",
       "    }\n",
       "  })({\"config\": {\"view\": {\"continuousWidth\": 400, \"continuousHeight\": 300}}, \"data\": {\"name\": \"data-2e42b377ad15381e2b3b1fae62ec2a7d\"}, \"mark\": \"bar\", \"encoding\": {\"x\": {\"type\": \"quantitative\", \"field\": \"Count\"}, \"y\": {\"type\": \"nominal\", \"field\": \"Factor\", \"sort\": \"-x\"}}, \"$schema\": \"https://vega.github.io/schema/vega-lite/v4.8.1.json\", \"datasets\": {\"data-2e42b377ad15381e2b3b1fae62ec2a7d\": [{\"Factor\": \"Driver Inattention/Distraction\", \"Count\": 484333}, {\"Factor\": \"Following Too Closely\", \"Count\": 222202}, {\"Factor\": \"Failure to Yield Right-of-Way\", \"Count\": 124127}, {\"Factor\": \"Passing or Lane Usage Improper\", \"Count\": 90386}, {\"Factor\": \"Backing Unsafely\", \"Count\": 71767}, {\"Factor\": \"Passing Too Closely\", \"Count\": 73316}, {\"Factor\": \"Unsafe Lane Changing\", \"Count\": 74033}, {\"Factor\": \"Other Vehicular\", \"Count\": 72862}, {\"Factor\": \"Turning Improperly\", \"Count\": 45840}, {\"Factor\": \"Traffic Control Disregarded\", \"Count\": 37355}, {\"Factor\": \"Reaction to Uninvolved Vehicle\", \"Count\": 33961}, {\"Factor\": \"Unsafe Speed\", \"Count\": 35675}, {\"Factor\": \"Driver Inexperience\", \"Count\": 35133}, {\"Factor\": \"Pavement Slippery\", \"Count\": 22903}, {\"Factor\": \"Alcohol Involvement\", \"Count\": 19112}, {\"Factor\": \"View Obstructed/Limited\", \"Count\": 17011}, {\"Factor\": \"Oversized Vehicle\", \"Count\": 11817}, {\"Factor\": \"Pedestrian/Bicyclist/Other Pedestrian Error/Confusion\", \"Count\": 9246}, {\"Factor\": \"Aggressive Driving/Road Rage\", \"Count\": 8642}, {\"Factor\": \"Passenger Distraction\", \"Count\": 6732}, {\"Factor\": \"Brakes Defective\", \"Count\": 7414}, {\"Factor\": \"Fell Asleep\", \"Count\": 4796}, {\"Factor\": \"Outside Car Distraction\", \"Count\": 4579}, {\"Factor\": \"Obstruction/Debris\", \"Count\": 3423}, {\"Factor\": \"Glare\", \"Count\": 3497}, {\"Factor\": \"Failure to Keep Right\", \"Count\": 2960}, {\"Factor\": \"Tire Failure/Inadequate\", \"Count\": 2128}, {\"Factor\": \"Steering Failure\", \"Count\": 2085}, {\"Factor\": \"Pavement Defective\", \"Count\": 1551}, {\"Factor\": \"Illnes\", \"Count\": 2022}, {\"Factor\": \"Fatigued/Drowsy\", \"Count\": 2098}, {\"Factor\": \"Lane Marking Improper/Inadequate\", \"Count\": 1744}, {\"Factor\": \"Lost Consciousness\", \"Count\": 1600}, {\"Factor\": \"Driverless/Runaway Vehicle\", \"Count\": 1330}, {\"Factor\": \"Traffic Control Device Improper/Non-Working\", \"Count\": 1245}, {\"Factor\": \"Animals Action\", \"Count\": 1033}, {\"Factor\": \"Drugs (illegal)\", \"Count\": 1062}, {\"Factor\": \"Accelerator Defective\", \"Count\": 1082}, {\"Factor\": \"Cell Phone (hand-Held)\", \"Count\": 904}, {\"Factor\": \"Physical Disability\", \"Count\": 567}, {\"Factor\": \"Other Electronic Device\", \"Count\": 367}, {\"Factor\": \"Other Lighting Defects\", \"Count\": 261}, {\"Factor\": \"Using On Board Navigation Device\", \"Count\": 213}, {\"Factor\": \"Tinted Windows\", \"Count\": 194}, {\"Factor\": \"Eating or Drinking\", \"Count\": 210}, {\"Factor\": \"Vehicle Vandalism\", \"Count\": 131}, {\"Factor\": \"Tow Hitch Defective\", \"Count\": 128}, {\"Factor\": \"Headlights Defective\", \"Count\": 116}, {\"Factor\": \"Prescription Medication\", \"Count\": 139}, {\"Factor\": \"Cell Phone (hands-free)\", \"Count\": 135}, {\"Factor\": \"Texting\", \"Count\": 83}, {\"Factor\": \"Windshield Inadequate\", \"Count\": 71}, {\"Factor\": \"Shoulders Defective/Improper\", \"Count\": 83}, {\"Factor\": \"Listening/Using Headphones\", \"Count\": 43}, {\"Factor\": \"Reaction to Other Uninvolved Vehicle\", \"Count\": 4}]}}, {\"mode\": \"vega-lite\"});\n",
       "</script>"
      ],
      "text/plain": [
       "alt.Chart(...)"
      ]
     },
     "execution_count": 12,
     "metadata": {},
     "output_type": "execute_result"
    }
   ],
   "source": [
    "# Create mapping for the contributing factor strings to fit in the heatmap / future analysis\n",
    "all_factors_list = cf_combined.keys()\n",
    "# factors_to_int_mapping = dict([(y,x+1) for x,y in enumerate(sorted(set(all_factors_list)))])\n",
    "\n",
    "cf_combined_df = pd.DataFrame(cf_combined.items(), columns=['Factor', 'Count'])\n",
    "\n",
    "alt.Chart(cf_combined_df).mark_bar().encode(\n",
    "    x='Count:Q',\n",
    "    y=alt.Y('Factor:N', sort='-x')\n",
    ")"
   ]
  },
  {
   "cell_type": "markdown",
   "metadata": {
    "pycharm": {
     "is_executing": true
    }
   },
   "source": [
    "### Pre-Crash Most Common Events"
   ]
  },
  {
   "cell_type": "code",
   "execution_count": 13,
   "metadata": {},
   "outputs": [
    {
     "data": {
      "text/plain": [
       "[('Going Straight Ahead', 446540),\n",
       " ('Parked', 117386),\n",
       " ('Making Left Turn', 53697),\n",
       " ('Stopped in Traffic', 51042),\n",
       " ('Making Right Turn', 46225),\n",
       " ('Slowing or Stopping', 39591),\n",
       " ('Changing Lanes', 30142),\n",
       " ('Backing', 29954),\n",
       " ('Merging', 16141),\n",
       " ('Starting from Parking', 16132)]"
      ]
     },
     "execution_count": 13,
     "metadata": {},
     "output_type": "execute_result"
    }
   ],
   "source": [
    "pre_crash_combined = Counter(sample_mv_combined_df['PRE_CRASH'].value_counts().to_dict())\n",
    "\n",
    "pre_crash_combined_df = pd.DataFrame(pre_crash_combined.items(), columns=['Factor', 'Count'])\n",
    "\n",
    "# Top 10 pre crash events\n",
    "pre_crash_combined.most_common(10)"
   ]
  },
  {
   "cell_type": "code",
   "execution_count": 14,
   "metadata": {},
   "outputs": [
    {
     "data": {
      "text/html": [
       "\n",
       "<div id=\"altair-viz-9716fd3ada8d4ba1815d3b080fee58bb\"></div>\n",
       "<script type=\"text/javascript\">\n",
       "  (function(spec, embedOpt){\n",
       "    let outputDiv = document.currentScript.previousElementSibling;\n",
       "    if (outputDiv.id !== \"altair-viz-9716fd3ada8d4ba1815d3b080fee58bb\") {\n",
       "      outputDiv = document.getElementById(\"altair-viz-9716fd3ada8d4ba1815d3b080fee58bb\");\n",
       "    }\n",
       "    const paths = {\n",
       "      \"vega\": \"https://cdn.jsdelivr.net/npm//vega@5?noext\",\n",
       "      \"vega-lib\": \"https://cdn.jsdelivr.net/npm//vega-lib?noext\",\n",
       "      \"vega-lite\": \"https://cdn.jsdelivr.net/npm//vega-lite@4.8.1?noext\",\n",
       "      \"vega-embed\": \"https://cdn.jsdelivr.net/npm//vega-embed@6?noext\",\n",
       "    };\n",
       "\n",
       "    function loadScript(lib) {\n",
       "      return new Promise(function(resolve, reject) {\n",
       "        var s = document.createElement('script');\n",
       "        s.src = paths[lib];\n",
       "        s.async = true;\n",
       "        s.onload = () => resolve(paths[lib]);\n",
       "        s.onerror = () => reject(`Error loading script: ${paths[lib]}`);\n",
       "        document.getElementsByTagName(\"head\")[0].appendChild(s);\n",
       "      });\n",
       "    }\n",
       "\n",
       "    function showError(err) {\n",
       "      outputDiv.innerHTML = `<div class=\"error\" style=\"color:red;\">${err}</div>`;\n",
       "      throw err;\n",
       "    }\n",
       "\n",
       "    function displayChart(vegaEmbed) {\n",
       "      vegaEmbed(outputDiv, spec, embedOpt)\n",
       "        .catch(err => showError(`Javascript Error: ${err.message}<br>This usually means there's a typo in your chart specification. See the javascript console for the full traceback.`));\n",
       "    }\n",
       "\n",
       "    if(typeof define === \"function\" && define.amd) {\n",
       "      requirejs.config({paths});\n",
       "      require([\"vega-embed\"], displayChart, err => showError(`Error loading script: ${err.message}`));\n",
       "    } else if (typeof vegaEmbed === \"function\") {\n",
       "      displayChart(vegaEmbed);\n",
       "    } else {\n",
       "      loadScript(\"vega\")\n",
       "        .then(() => loadScript(\"vega-lite\"))\n",
       "        .then(() => loadScript(\"vega-embed\"))\n",
       "        .catch(showError)\n",
       "        .then(() => displayChart(vegaEmbed));\n",
       "    }\n",
       "  })({\"config\": {\"view\": {\"continuousWidth\": 400, \"continuousHeight\": 300}}, \"data\": {\"name\": \"data-cab0e0d013e7a5406cae08dac83e5c1e\"}, \"mark\": \"bar\", \"encoding\": {\"x\": {\"type\": \"quantitative\", \"field\": \"Count\"}, \"y\": {\"type\": \"nominal\", \"field\": \"Factor\", \"sort\": \"-x\"}}, \"$schema\": \"https://vega.github.io/schema/vega-lite/v4.8.1.json\", \"datasets\": {\"data-cab0e0d013e7a5406cae08dac83e5c1e\": [{\"Factor\": \"Going Straight Ahead\", \"Count\": 446540}, {\"Factor\": \"Parked\", \"Count\": 117386}, {\"Factor\": \"Making Left Turn\", \"Count\": 53697}, {\"Factor\": \"Stopped in Traffic\", \"Count\": 51042}, {\"Factor\": \"Making Right Turn\", \"Count\": 46225}, {\"Factor\": \"Slowing or Stopping\", \"Count\": 39591}, {\"Factor\": \"Changing Lanes\", \"Count\": 30142}, {\"Factor\": \"Backing\", \"Count\": 29954}, {\"Factor\": \"Merging\", \"Count\": 16141}, {\"Factor\": \"Starting from Parking\", \"Count\": 16132}, {\"Factor\": \"Entering Parked Position\", \"Count\": 11367}, {\"Factor\": \"Making U Turn\", \"Count\": 7349}, {\"Factor\": \"Passing\", \"Count\": 7134}, {\"Factor\": \"Other*\", \"Count\": 5261}, {\"Factor\": \"Starting in Traffic\", \"Count\": 4059}, {\"Factor\": \"Avoiding Object in Roadway\", \"Count\": 832}, {\"Factor\": \"Police Pursuit\", \"Count\": 137}, {\"Factor\": \"Making Right Turn on Red\", \"Count\": 108}, {\"Factor\": \"Making Left Turn on Red\", \"Count\": 103}]}}, {\"mode\": \"vega-lite\"});\n",
       "</script>"
      ],
      "text/plain": [
       "alt.Chart(...)"
      ]
     },
     "execution_count": 14,
     "metadata": {},
     "output_type": "execute_result"
    }
   ],
   "source": [
    "alt.Chart(pre_crash_combined_df).mark_bar().encode(\n",
    "    x='Count:Q',\n",
    "    y=alt.Y('Factor:N', sort='-x')\n",
    ")"
   ]
  },
  {
   "cell_type": "markdown",
   "metadata": {},
   "source": [
    "### Most Common - Emotional Status / Bodily Injuries"
   ]
  },
  {
   "cell_type": "code",
   "execution_count": 15,
   "metadata": {},
   "outputs": [
    {
     "data": {
      "text/plain": [
       "[('Shock', 1210),\n",
       " ('Semiconscious', 237),\n",
       " ('Apparent Death', 225),\n",
       " ('Incoherent', 171),\n",
       " ('Unconscious', 166)]"
      ]
     },
     "execution_count": 15,
     "metadata": {},
     "output_type": "execute_result"
    }
   ],
   "source": [
    "# Emotional Status (Ignoring Conscious)\n",
    "emotional_status_combined = Counter(sample_mv_combined_df['EMOTIONAL_STATUS'].value_counts().to_dict())\n",
    "emotional_status_combined.pop('Does Not Apply', None)\n",
    "emotional_status_combined.pop('Unknown', None)\n",
    "emotional_status_combined.pop('Conscious', None)\n",
    "emotional_status_combined_df = pd.DataFrame(emotional_status_combined.items(), columns=['Factor', 'Count'])\n",
    "emotional_status_combined_df.set_index('Factor', inplace=True)\n",
    "# Top 10 pre crash events\n",
    "emotional_status_combined.most_common(10)"
   ]
  },
  {
   "cell_type": "code",
   "execution_count": 16,
   "metadata": {},
   "outputs": [
    {
     "data": {
      "text/plain": [
       "<AxesSubplot:ylabel='Count'>"
      ]
     },
     "execution_count": 16,
     "metadata": {},
     "output_type": "execute_result"
    },
    {
     "data": {
      "image/png": "[encoded data removed]",
      "text/plain": [
       "<Figure size 576x576 with 1 Axes>"
      ]
     },
     "metadata": {},
     "output_type": "display_data"
    }
   ],
   "source": [
    "emotional_status_combined_df.plot.pie(x='Factor', y='Count', figsize=(8, 8), autopct='%1.1f%%')"
   ]
  },
  {
   "cell_type": "code",
   "execution_count": 17,
   "metadata": {},
   "outputs": [
    {
     "data": {
      "text/plain": [
       "[('Neck', 10620),\n",
       " ('Back', 10136),\n",
       " ('Head', 6997),\n",
       " ('Knee-Lower Leg Foot', 6223),\n",
       " ('Entire Body', 4158),\n",
       " ('Shoulder - Upper Arm', 3445),\n",
       " ('Elbow-Lower-Arm-Hand', 3076),\n",
       " ('Chest', 2289),\n",
       " ('Hip-Upper Leg', 1474),\n",
       " ('Face', 1282)]"
      ]
     },
     "execution_count": 17,
     "metadata": {},
     "output_type": "execute_result"
    }
   ],
   "source": [
    "# Bodily Injury\n",
    "bodily_injury_combined = Counter(sample_mv_combined_df['BODILY_INJURY'].value_counts().to_dict())\n",
    "bodily_injury_combined.pop('Does Not Apply', None)\n",
    "bodily_injury_combined.pop('Unknown', None)\n",
    "bodily_injury_combined_df = pd.DataFrame(bodily_injury_combined.items(), columns=['Factor', 'Count'])\n",
    "\n",
    "# Top 10 pre crash events\n",
    "bodily_injury_combined.most_common(10)"
   ]
  },
  {
   "cell_type": "code",
   "execution_count": 18,
   "metadata": {},
   "outputs": [
    {
     "data": {
      "text/html": [
       "\n",
       "<div id=\"altair-viz-526a604cb91a4a0cb849a66b2af395f4\"></div>\n",
       "<script type=\"text/javascript\">\n",
       "  (function(spec, embedOpt){\n",
       "    let outputDiv = document.currentScript.previousElementSibling;\n",
       "    if (outputDiv.id !== \"altair-viz-526a604cb91a4a0cb849a66b2af395f4\") {\n",
       "      outputDiv = document.getElementById(\"altair-viz-526a604cb91a4a0cb849a66b2af395f4\");\n",
       "    }\n",
       "    const paths = {\n",
       "      \"vega\": \"https://cdn.jsdelivr.net/npm//vega@5?noext\",\n",
       "      \"vega-lib\": \"https://cdn.jsdelivr.net/npm//vega-lib?noext\",\n",
       "      \"vega-lite\": \"https://cdn.jsdelivr.net/npm//vega-lite@4.8.1?noext\",\n",
       "      \"vega-embed\": \"https://cdn.jsdelivr.net/npm//vega-embed@6?noext\",\n",
       "    };\n",
       "\n",
       "    function loadScript(lib) {\n",
       "      return new Promise(function(resolve, reject) {\n",
       "        var s = document.createElement('script');\n",
       "        s.src = paths[lib];\n",
       "        s.async = true;\n",
       "        s.onload = () => resolve(paths[lib]);\n",
       "        s.onerror = () => reject(`Error loading script: ${paths[lib]}`);\n",
       "        document.getElementsByTagName(\"head\")[0].appendChild(s);\n",
       "      });\n",
       "    }\n",
       "\n",
       "    function showError(err) {\n",
       "      outputDiv.innerHTML = `<div class=\"error\" style=\"color:red;\">${err}</div>`;\n",
       "      throw err;\n",
       "    }\n",
       "\n",
       "    function displayChart(vegaEmbed) {\n",
       "      vegaEmbed(outputDiv, spec, embedOpt)\n",
       "        .catch(err => showError(`Javascript Error: ${err.message}<br>This usually means there's a typo in your chart specification. See the javascript console for the full traceback.`));\n",
       "    }\n",
       "\n",
       "    if(typeof define === \"function\" && define.amd) {\n",
       "      requirejs.config({paths});\n",
       "      require([\"vega-embed\"], displayChart, err => showError(`Error loading script: ${err.message}`));\n",
       "    } else if (typeof vegaEmbed === \"function\") {\n",
       "      displayChart(vegaEmbed);\n",
       "    } else {\n",
       "      loadScript(\"vega\")\n",
       "        .then(() => loadScript(\"vega-lite\"))\n",
       "        .then(() => loadScript(\"vega-embed\"))\n",
       "        .catch(showError)\n",
       "        .then(() => displayChart(vegaEmbed));\n",
       "    }\n",
       "  })({\"config\": {\"view\": {\"continuousWidth\": 400, \"continuousHeight\": 300}}, \"data\": {\"name\": \"data-92beff802eed9ab19787089a7f93aaac\"}, \"mark\": \"bar\", \"encoding\": {\"x\": {\"type\": \"quantitative\", \"field\": \"Count\"}, \"y\": {\"type\": \"nominal\", \"field\": \"Factor\", \"sort\": \"-x\"}}, \"$schema\": \"https://vega.github.io/schema/vega-lite/v4.8.1.json\", \"datasets\": {\"data-92beff802eed9ab19787089a7f93aaac\": [{\"Factor\": \"Neck\", \"Count\": 10620}, {\"Factor\": \"Back\", \"Count\": 10136}, {\"Factor\": \"Head\", \"Count\": 6997}, {\"Factor\": \"Knee-Lower Leg Foot\", \"Count\": 6223}, {\"Factor\": \"Entire Body\", \"Count\": 4158}, {\"Factor\": \"Shoulder - Upper Arm\", \"Count\": 3445}, {\"Factor\": \"Elbow-Lower-Arm-Hand\", \"Count\": 3076}, {\"Factor\": \"Chest\", \"Count\": 2289}, {\"Factor\": \"Hip-Upper Leg\", \"Count\": 1474}, {\"Factor\": \"Face\", \"Count\": 1282}, {\"Factor\": \"Abdomen - Pelvis\", \"Count\": 923}, {\"Factor\": \"Eye\", \"Count\": 107}]}}, {\"mode\": \"vega-lite\"});\n",
       "</script>"
      ],
      "text/plain": [
       "alt.Chart(...)"
      ]
     },
     "execution_count": 18,
     "metadata": {},
     "output_type": "execute_result"
    }
   ],
   "source": [
    "alt.Chart(bodily_injury_combined_df).mark_bar().encode(\n",
    "    x='Count:Q',\n",
    "    y=alt.Y('Factor:N', sort='-x')\n",
    ")"
   ]
  },
  {
   "cell_type": "code",
   "execution_count": 19,
   "metadata": {},
   "outputs": [
    {
     "data": {
      "text/plain": [
       "<AxesSubplot:ylabel='Count'>"
      ]
     },
     "execution_count": 19,
     "metadata": {},
     "output_type": "execute_result"
    },
    {
     "data": {
      "image/png": "[encoded data removed]",
      "text/plain": [
       "<Figure size 576x576 with 1 Axes>"
      ]
     },
     "metadata": {},
     "output_type": "display_data"
    }
   ],
   "source": [
    "bodily_injury_combined_pie_df = bodily_injury_combined_df.copy()\n",
    "bodily_injury_combined_pie_df.set_index('Factor', inplace=True)\n",
    "bodily_injury_combined_pie_df.plot.pie(x='Factor', y='Count', figsize=(8, 8), autopct='%1.1f%%', legend=False)"
   ]
  },
  {
   "cell_type": "markdown",
   "metadata": {},
   "source": [
    "### Pedestrian | Most Common - Pre-Crash Pedestrian Action"
   ]
  },
  {
   "cell_type": "code",
   "execution_count": 20,
   "metadata": {},
   "outputs": [
    {
     "data": {
      "text/plain": [
       "[('Crossing With Signal', 2196),\n",
       " ('Crossing, No Signal, or Crosswalk', 994),\n",
       " ('Crossing, No Signal, Marked Crosswalk', 470),\n",
       " ('Other Actions in Roadway', 454),\n",
       " ('Crossing Against Signal', 431),\n",
       " ('Not in Roadway', 301),\n",
       " ('Emerging from in Front of/Behind Parked Vehicle', 208),\n",
       " ('Working in Roadway', 99),\n",
       " ('Getting On/Off Vehicle Other Than School Bus', 89),\n",
       " ('Riding/Walking Along Highway With Traffic', 45)]"
      ]
     },
     "execution_count": 20,
     "metadata": {},
     "output_type": "execute_result"
    }
   ],
   "source": [
    "# What pedestrian was doing before the crash\n",
    "ped_action_combined = Counter(sample_mv_combined_df['PED_ACTION'].value_counts().to_dict())\n",
    "ped_action_combined.pop('Does Not Apply', None)\n",
    "ped_action_combined.pop('Unknown', None)\n",
    "ped_action_combined_combined_df = pd.DataFrame(ped_action_combined.items(), columns=['Factor', 'Count'])\n",
    "\n",
    "# Top 10 pre crash events\n",
    "ped_action_combined.most_common(10)"
   ]
  },
  {
   "cell_type": "code",
   "execution_count": 21,
   "metadata": {},
   "outputs": [
    {
     "data": {
      "text/html": [
       "\n",
       "<div id=\"altair-viz-3844eef3c59743f3a9f531ae0b1119c7\"></div>\n",
       "<script type=\"text/javascript\">\n",
       "  (function(spec, embedOpt){\n",
       "    let outputDiv = document.currentScript.previousElementSibling;\n",
       "    if (outputDiv.id !== \"altair-viz-3844eef3c59743f3a9f531ae0b1119c7\") {\n",
       "      outputDiv = document.getElementById(\"altair-viz-3844eef3c59743f3a9f531ae0b1119c7\");\n",
       "    }\n",
       "    const paths = {\n",
       "      \"vega\": \"https://cdn.jsdelivr.net/npm//vega@5?noext\",\n",
       "      \"vega-lib\": \"https://cdn.jsdelivr.net/npm//vega-lib?noext\",\n",
       "      \"vega-lite\": \"https://cdn.jsdelivr.net/npm//vega-lite@4.8.1?noext\",\n",
       "      \"vega-embed\": \"https://cdn.jsdelivr.net/npm//vega-embed@6?noext\",\n",
       "    };\n",
       "\n",
       "    function loadScript(lib) {\n",
       "      return new Promise(function(resolve, reject) {\n",
       "        var s = document.createElement('script');\n",
       "        s.src = paths[lib];\n",
       "        s.async = true;\n",
       "        s.onload = () => resolve(paths[lib]);\n",
       "        s.onerror = () => reject(`Error loading script: ${paths[lib]}`);\n",
       "        document.getElementsByTagName(\"head\")[0].appendChild(s);\n",
       "      });\n",
       "    }\n",
       "\n",
       "    function showError(err) {\n",
       "      outputDiv.innerHTML = `<div class=\"error\" style=\"color:red;\">${err}</div>`;\n",
       "      throw err;\n",
       "    }\n",
       "\n",
       "    function displayChart(vegaEmbed) {\n",
       "      vegaEmbed(outputDiv, spec, embedOpt)\n",
       "        .catch(err => showError(`Javascript Error: ${err.message}<br>This usually means there's a typo in your chart specification. See the javascript console for the full traceback.`));\n",
       "    }\n",
       "\n",
       "    if(typeof define === \"function\" && define.amd) {\n",
       "      requirejs.config({paths});\n",
       "      require([\"vega-embed\"], displayChart, err => showError(`Error loading script: ${err.message}`));\n",
       "    } else if (typeof vegaEmbed === \"function\") {\n",
       "      displayChart(vegaEmbed);\n",
       "    } else {\n",
       "      loadScript(\"vega\")\n",
       "        .then(() => loadScript(\"vega-lite\"))\n",
       "        .then(() => loadScript(\"vega-embed\"))\n",
       "        .catch(showError)\n",
       "        .then(() => displayChart(vegaEmbed));\n",
       "    }\n",
       "  })({\"config\": {\"view\": {\"continuousWidth\": 400, \"continuousHeight\": 300}}, \"data\": {\"name\": \"data-ec55dfcc049944ddd19afed742b001f0\"}, \"mark\": \"bar\", \"encoding\": {\"x\": {\"type\": \"quantitative\", \"field\": \"Count\"}, \"y\": {\"type\": \"nominal\", \"field\": \"Factor\", \"sort\": \"-x\"}}, \"$schema\": \"https://vega.github.io/schema/vega-lite/v4.8.1.json\", \"datasets\": {\"data-ec55dfcc049944ddd19afed742b001f0\": [{\"Factor\": \"Crossing With Signal\", \"Count\": 2196}, {\"Factor\": \"Crossing, No Signal, or Crosswalk\", \"Count\": 994}, {\"Factor\": \"Crossing, No Signal, Marked Crosswalk\", \"Count\": 470}, {\"Factor\": \"Other Actions in Roadway\", \"Count\": 454}, {\"Factor\": \"Crossing Against Signal\", \"Count\": 431}, {\"Factor\": \"Not in Roadway\", \"Count\": 301}, {\"Factor\": \"Emerging from in Front of/Behind Parked Vehicle\", \"Count\": 208}, {\"Factor\": \"Working in Roadway\", \"Count\": 99}, {\"Factor\": \"Getting On/Off Vehicle Other Than School Bus\", \"Count\": 89}, {\"Factor\": \"Riding/Walking Along Highway With Traffic\", \"Count\": 45}, {\"Factor\": \"Playing in Roadway\", \"Count\": 35}, {\"Factor\": \"Pushing/Working on Car\", \"Count\": 21}, {\"Factor\": \"Riding/Walking Along Highway Against Traffic\", \"Count\": 15}, {\"Factor\": \"Going to/From Stopped School Bus\", \"Count\": 5}]}}, {\"mode\": \"vega-lite\"});\n",
       "</script>"
      ],
      "text/plain": [
       "alt.Chart(...)"
      ]
     },
     "execution_count": 21,
     "metadata": {},
     "output_type": "execute_result"
    }
   ],
   "source": [
    "alt.Chart(ped_action_combined_combined_df).mark_bar().encode(\n",
    "    x='Count:Q',\n",
    "    y=alt.Y('Factor:N', sort='-x')\n",
    ")"
   ]
  },
  {
   "cell_type": "code",
   "execution_count": 22,
   "metadata": {},
   "outputs": [
    {
     "data": {
      "text/plain": [
       "<AxesSubplot:ylabel='Count'>"
      ]
     },
     "execution_count": 22,
     "metadata": {},
     "output_type": "execute_result"
    },
    {
     "data": {
      "image/png": "[encoded data removed]",
      "text/plain": [
       "<Figure size 720x720 with 1 Axes>"
      ]
     },
     "metadata": {},
     "output_type": "display_data"
    }
   ],
   "source": [
    "ped_action_combined_combined_pie_df = ped_action_combined_combined_df.copy()\n",
    "ped_action_combined_combined_pie_df.set_index('Factor', inplace=True)\n",
    "ped_action_combined_combined_pie_df.plot.pie(x='Factor', y='Count', figsize=(10, 10), autopct='%1.1f%%', legend=False)"
   ]
  },
  {
   "cell_type": "markdown",
   "metadata": {},
   "source": [
    "### Driver | License Status - Guaging driving prowess"
   ]
  },
  {
   "cell_type": "code",
   "execution_count": 23,
   "metadata": {},
   "outputs": [
    {
     "data": {
      "text/plain": [
       "[('Licensed', 744164), ('Unlicensed', 10191), ('Permit', 4401)]"
      ]
     },
     "execution_count": 23,
     "metadata": {},
     "output_type": "execute_result"
    }
   ],
   "source": [
    "dl_status_combined = Counter(sample_mv_combined_df['DRIVER_LICENSE_STATUS'].value_counts().to_dict())\n",
    "dl_status_combined.pop('Does Not Apply', None)\n",
    "dl_status_combined.pop('Unknown', None)\n",
    "dl_status_combined_df = pd.DataFrame(dl_status_combined.items(), columns=['Factor', 'Count'])\n",
    "\n",
    "# Top 10 pre crash events\n",
    "dl_status_combined.most_common(10)"
   ]
  },
  {
   "cell_type": "code",
   "execution_count": 24,
   "metadata": {},
   "outputs": [
    {
     "data": {
      "text/html": [
       "\n",
       "<div id=\"altair-viz-3f515e75c28f45e488135a2e87fe10f5\"></div>\n",
       "<script type=\"text/javascript\">\n",
       "  (function(spec, embedOpt){\n",
       "    let outputDiv = document.currentScript.previousElementSibling;\n",
       "    if (outputDiv.id !== \"altair-viz-3f515e75c28f45e488135a2e87fe10f5\") {\n",
       "      outputDiv = document.getElementById(\"altair-viz-3f515e75c28f45e488135a2e87fe10f5\");\n",
       "    }\n",
       "    const paths = {\n",
       "      \"vega\": \"https://cdn.jsdelivr.net/npm//vega@5?noext\",\n",
       "      \"vega-lib\": \"https://cdn.jsdelivr.net/npm//vega-lib?noext\",\n",
       "      \"vega-lite\": \"https://cdn.jsdelivr.net/npm//vega-lite@4.8.1?noext\",\n",
       "      \"vega-embed\": \"https://cdn.jsdelivr.net/npm//vega-embed@6?noext\",\n",
       "    };\n",
       "\n",
       "    function loadScript(lib) {\n",
       "      return new Promise(function(resolve, reject) {\n",
       "        var s = document.createElement('script');\n",
       "        s.src = paths[lib];\n",
       "        s.async = true;\n",
       "        s.onload = () => resolve(paths[lib]);\n",
       "        s.onerror = () => reject(`Error loading script: ${paths[lib]}`);\n",
       "        document.getElementsByTagName(\"head\")[0].appendChild(s);\n",
       "      });\n",
       "    }\n",
       "\n",
       "    function showError(err) {\n",
       "      outputDiv.innerHTML = `<div class=\"error\" style=\"color:red;\">${err}</div>`;\n",
       "      throw err;\n",
       "    }\n",
       "\n",
       "    function displayChart(vegaEmbed) {\n",
       "      vegaEmbed(outputDiv, spec, embedOpt)\n",
       "        .catch(err => showError(`Javascript Error: ${err.message}<br>This usually means there's a typo in your chart specification. See the javascript console for the full traceback.`));\n",
       "    }\n",
       "\n",
       "    if(typeof define === \"function\" && define.amd) {\n",
       "      requirejs.config({paths});\n",
       "      require([\"vega-embed\"], displayChart, err => showError(`Error loading script: ${err.message}`));\n",
       "    } else if (typeof vegaEmbed === \"function\") {\n",
       "      displayChart(vegaEmbed);\n",
       "    } else {\n",
       "      loadScript(\"vega\")\n",
       "        .then(() => loadScript(\"vega-lite\"))\n",
       "        .then(() => loadScript(\"vega-embed\"))\n",
       "        .catch(showError)\n",
       "        .then(() => displayChart(vegaEmbed));\n",
       "    }\n",
       "  })({\"config\": {\"view\": {\"continuousWidth\": 400, \"continuousHeight\": 300}}, \"data\": {\"name\": \"data-d40cbe79f0baa9aeca7dd4556c0b595f\"}, \"mark\": \"bar\", \"encoding\": {\"x\": {\"type\": \"quantitative\", \"field\": \"Count\"}, \"y\": {\"type\": \"nominal\", \"field\": \"Factor\", \"sort\": \"-x\"}}, \"$schema\": \"https://vega.github.io/schema/vega-lite/v4.8.1.json\", \"datasets\": {\"data-d40cbe79f0baa9aeca7dd4556c0b595f\": [{\"Factor\": \"Licensed\", \"Count\": 744164}, {\"Factor\": \"Unlicensed\", \"Count\": 10191}, {\"Factor\": \"Permit\", \"Count\": 4401}]}}, {\"mode\": \"vega-lite\"});\n",
       "</script>"
      ],
      "text/plain": [
       "alt.Chart(...)"
      ]
     },
     "execution_count": 24,
     "metadata": {},
     "output_type": "execute_result"
    }
   ],
   "source": [
    "alt.Chart(dl_status_combined_df).mark_bar().encode(\n",
    "    x='Count:Q',\n",
    "    y=alt.Y('Factor:N', sort='-x')\n",
    ")"
   ]
  },
  {
   "cell_type": "code",
   "execution_count": 25,
   "metadata": {},
   "outputs": [
    {
     "data": {
      "text/plain": [
       "<AxesSubplot:ylabel='Count'>"
      ]
     },
     "execution_count": 25,
     "metadata": {},
     "output_type": "execute_result"
    },
    {
     "data": {
      "image/png": "[encoded data removed]",
      "text/plain": [
       "<Figure size 720x720 with 1 Axes>"
      ]
     },
     "metadata": {},
     "output_type": "display_data"
    }
   ],
   "source": [
    "dl_status_combined_pie_df = dl_status_combined_df.copy()\n",
    "dl_status_combined_pie_df.set_index('Factor', inplace=True)\n",
    "dl_status_combined_pie_df.plot.pie(x='Factor', y='Count', figsize=(10, 10), autopct='%1.1f%%', legend=False)"
   ]
  },
  {
   "cell_type": "markdown",
   "metadata": {},
   "source": [
    "### Driver | Age - Guaging driving prowess"
   ]
  },
  {
   "cell_type": "code",
   "execution_count": 26,
   "metadata": {},
   "outputs": [
    {
     "data": {
      "text/plain": [
       "age_range\n",
       "23.5-28.0    79256\n",
       "32.5-37.0    72461\n",
       "28.0-32.5    65483\n",
       "41.5-46.0    59587\n",
       "50.5-55.0    57475\n",
       "37.0-41.5    52941\n",
       "46.0-50.5    48071\n",
       "19.0-23.5    42334\n",
       "55.0-59.5    39577\n",
       "59.5-64.0    38889\n",
       "Name: Count, dtype: int64"
      ]
     },
     "execution_count": 26,
     "metadata": {},
     "output_type": "execute_result"
    }
   ],
   "source": [
    "dl_age_combined = Counter(sample_mv_combined_df['PERSON_AGE'].value_counts().to_dict())\n",
    "dl_age_combined.pop(0.0, None)\n",
    "\n",
    "dl_age_clean = Counter({})\n",
    "\n",
    "for key, value in dl_age_combined.items():\n",
    "    if key >= 10 and key <= 100:\n",
    "        dl_age_clean[key] = value\n",
    "\n",
    "dl_age_combined = dl_age_clean\n",
    "\n",
    "# Create bins of 5 year range\n",
    "dl_age_combined_df_raw = pd.DataFrame(dl_age_combined.items(), columns=['Factor', 'Count'])\n",
    "dl_age_combined_df = dl_age_combined_df_raw.copy()\n",
    "dl_age_combined_df['age_bin'] = pd.qcut(dl_age_combined_df['Factor'], q=20)\n",
    "dl_age_combined_df['age_range'] = dl_age_combined_df.apply(lambda row: str(row.age_bin.left) + '-' + str(row.age_bin.right), axis=1)\n",
    "dl_age_combined_df['age_range'] = dl_age_combined_df['age_range'].astype(str)\n",
    "dl_age_combined_df = dl_age_combined_df.drop('age_bin', 1)\n",
    "# Top 10 pre crash events\n",
    "(dl_age_combined_df.groupby(['age_range'], sort=False)['Count'].sum()).nlargest(10)"
   ]
  },
  {
   "cell_type": "code",
   "execution_count": 27,
   "metadata": {},
   "outputs": [
    {
     "data": {
      "text/html": [
       "\n",
       "<div id=\"altair-viz-8b092714d14d413298b3a0f7dcdc5eb8\"></div>\n",
       "<script type=\"text/javascript\">\n",
       "  (function(spec, embedOpt){\n",
       "    let outputDiv = document.currentScript.previousElementSibling;\n",
       "    if (outputDiv.id !== \"altair-viz-8b092714d14d413298b3a0f7dcdc5eb8\") {\n",
       "      outputDiv = document.getElementById(\"altair-viz-8b092714d14d413298b3a0f7dcdc5eb8\");\n",
       "    }\n",
       "    const paths = {\n",
       "      \"vega\": \"https://cdn.jsdelivr.net/npm//vega@5?noext\",\n",
       "      \"vega-lib\": \"https://cdn.jsdelivr.net/npm//vega-lib?noext\",\n",
       "      \"vega-lite\": \"https://cdn.jsdelivr.net/npm//vega-lite@4.8.1?noext\",\n",
       "      \"vega-embed\": \"https://cdn.jsdelivr.net/npm//vega-embed@6?noext\",\n",
       "    };\n",
       "\n",
       "    function loadScript(lib) {\n",
       "      return new Promise(function(resolve, reject) {\n",
       "        var s = document.createElement('script');\n",
       "        s.src = paths[lib];\n",
       "        s.async = true;\n",
       "        s.onload = () => resolve(paths[lib]);\n",
       "        s.onerror = () => reject(`Error loading script: ${paths[lib]}`);\n",
       "        document.getElementsByTagName(\"head\")[0].appendChild(s);\n",
       "      });\n",
       "    }\n",
       "\n",
       "    function showError(err) {\n",
       "      outputDiv.innerHTML = `<div class=\"error\" style=\"color:red;\">${err}</div>`;\n",
       "      throw err;\n",
       "    }\n",
       "\n",
       "    function displayChart(vegaEmbed) {\n",
       "      vegaEmbed(outputDiv, spec, embedOpt)\n",
       "        .catch(err => showError(`Javascript Error: ${err.message}<br>This usually means there's a typo in your chart specification. See the javascript console for the full traceback.`));\n",
       "    }\n",
       "\n",
       "    if(typeof define === \"function\" && define.amd) {\n",
       "      requirejs.config({paths});\n",
       "      require([\"vega-embed\"], displayChart, err => showError(`Error loading script: ${err.message}`));\n",
       "    } else if (typeof vegaEmbed === \"function\") {\n",
       "      displayChart(vegaEmbed);\n",
       "    } else {\n",
       "      loadScript(\"vega\")\n",
       "        .then(() => loadScript(\"vega-lite\"))\n",
       "        .then(() => loadScript(\"vega-embed\"))\n",
       "        .catch(showError)\n",
       "        .then(() => displayChart(vegaEmbed));\n",
       "    }\n",
       "  })({\"config\": {\"view\": {\"continuousWidth\": 400, \"continuousHeight\": 300}}, \"data\": {\"name\": \"data-bb06c4c675da7717a2b61706e2b4ad1c\"}, \"mark\": \"bar\", \"encoding\": {\"x\": {\"type\": \"quantitative\", \"aggregate\": \"sum\", \"field\": \"Count\"}, \"y\": {\"type\": \"nominal\", \"field\": \"age_range\", \"sort\": \"-x\"}}, \"$schema\": \"https://vega.github.io/schema/vega-lite/v4.8.1.json\", \"datasets\": {\"data-bb06c4c675da7717a2b61706e2b4ad1c\": [{\"Factor\": 28.0, \"Count\": 17305, \"age_range\": \"23.5-28.0\"}, {\"Factor\": 27.0, \"Count\": 16877, \"age_range\": \"23.5-28.0\"}, {\"Factor\": 29.0, \"Count\": 16849, \"age_range\": \"28.0-32.5\"}, {\"Factor\": 30.0, \"Count\": 16803, \"age_range\": \"28.0-32.5\"}, {\"Factor\": 31.0, \"Count\": 16025, \"age_range\": \"28.0-32.5\"}, {\"Factor\": 32.0, \"Count\": 15806, \"age_range\": \"28.0-32.5\"}, {\"Factor\": 26.0, \"Count\": 15758, \"age_range\": \"23.5-28.0\"}, {\"Factor\": 33.0, \"Count\": 15611, \"age_range\": \"32.5-37.0\"}, {\"Factor\": 25.0, \"Count\": 15155, \"age_range\": \"23.5-28.0\"}, {\"Factor\": 35.0, \"Count\": 14742, \"age_range\": \"32.5-37.0\"}, {\"Factor\": 34.0, \"Count\": 14647, \"age_range\": \"32.5-37.0\"}, {\"Factor\": 24.0, \"Count\": 14161, \"age_range\": \"23.5-28.0\"}, {\"Factor\": 37.0, \"Count\": 13956, \"age_range\": \"32.5-37.0\"}, {\"Factor\": 38.0, \"Count\": 13593, \"age_range\": \"37.0-41.5\"}, {\"Factor\": 36.0, \"Count\": 13505, \"age_range\": \"32.5-37.0\"}, {\"Factor\": 23.0, \"Count\": 13342, \"age_range\": \"19.0-23.5\"}, {\"Factor\": 40.0, \"Count\": 13237, \"age_range\": \"37.0-41.5\"}, {\"Factor\": 39.0, \"Count\": 13106, \"age_range\": \"37.0-41.5\"}, {\"Factor\": 41.0, \"Count\": 13005, \"age_range\": \"37.0-41.5\"}, {\"Factor\": 47.0, \"Count\": 12472, \"age_range\": \"46.0-50.5\"}, {\"Factor\": 42.0, \"Count\": 12297, \"age_range\": \"41.5-46.0\"}, {\"Factor\": 48.0, \"Count\": 12292, \"age_range\": \"46.0-50.5\"}, {\"Factor\": 43.0, \"Count\": 12115, \"age_range\": \"41.5-46.0\"}, {\"Factor\": 49.0, \"Count\": 11877, \"age_range\": \"46.0-50.5\"}, {\"Factor\": 45.0, \"Count\": 11780, \"age_range\": \"41.5-46.0\"}, {\"Factor\": 53.0, \"Count\": 11729, \"age_range\": \"50.5-55.0\"}, {\"Factor\": 44.0, \"Count\": 11709, \"age_range\": \"41.5-46.0\"}, {\"Factor\": 46.0, \"Count\": 11686, \"age_range\": \"41.5-46.0\"}, {\"Factor\": 52.0, \"Count\": 11658, \"age_range\": \"50.5-55.0\"}, {\"Factor\": 54.0, \"Count\": 11452, \"age_range\": \"50.5-55.0\"}, {\"Factor\": 55.0, \"Count\": 11446, \"age_range\": \"50.5-55.0\"}, {\"Factor\": 50.0, \"Count\": 11430, \"age_range\": \"46.0-50.5\"}, {\"Factor\": 22.0, \"Count\": 11388, \"age_range\": \"19.0-23.5\"}, {\"Factor\": 51.0, \"Count\": 11190, \"age_range\": \"50.5-55.0\"}, {\"Factor\": 56.0, \"Count\": 10260, \"age_range\": \"55.0-59.5\"}, {\"Factor\": 57.0, \"Count\": 9924, \"age_range\": \"55.0-59.5\"}, {\"Factor\": 58.0, \"Count\": 9910, \"age_range\": \"55.0-59.5\"}, {\"Factor\": 21.0, \"Count\": 9793, \"age_range\": \"19.0-23.5\"}, {\"Factor\": 59.0, \"Count\": 9483, \"age_range\": \"55.0-59.5\"}, {\"Factor\": 60.0, \"Count\": 8999, \"age_range\": \"59.5-64.0\"}, {\"Factor\": 61.0, \"Count\": 8538, \"age_range\": \"59.5-64.0\"}, {\"Factor\": 62.0, \"Count\": 7948, \"age_range\": \"59.5-64.0\"}, {\"Factor\": 20.0, \"Count\": 7811, \"age_range\": \"19.0-23.5\"}, {\"Factor\": 63.0, \"Count\": 7172, \"age_range\": \"59.5-64.0\"}, {\"Factor\": 19.0, \"Count\": 6372, \"age_range\": \"14.5-19.0\"}, {\"Factor\": 64.0, \"Count\": 6232, \"age_range\": \"59.5-64.0\"}, {\"Factor\": 65.0, \"Count\": 5749, \"age_range\": \"64.0-68.5\"}, {\"Factor\": 66.0, \"Count\": 5272, \"age_range\": \"64.0-68.5\"}, {\"Factor\": 18.0, \"Count\": 5050, \"age_range\": \"14.5-19.0\"}, {\"Factor\": 67.0, \"Count\": 4860, \"age_range\": \"64.0-68.5\"}, {\"Factor\": 68.0, \"Count\": 4531, \"age_range\": \"64.0-68.5\"}, {\"Factor\": 69.0, \"Count\": 3957, \"age_range\": \"68.5-73.0\"}, {\"Factor\": 70.0, \"Count\": 3800, \"age_range\": \"68.5-73.0\"}, {\"Factor\": 71.0, \"Count\": 3646, \"age_range\": \"68.5-73.0\"}, {\"Factor\": 17.0, \"Count\": 3241, \"age_range\": \"14.5-19.0\"}, {\"Factor\": 72.0, \"Count\": 2956, \"age_range\": \"68.5-73.0\"}, {\"Factor\": 10.0, \"Count\": 2443, \"age_range\": \"9.999-14.5\"}, {\"Factor\": 73.0, \"Count\": 2395, \"age_range\": \"68.5-73.0\"}, {\"Factor\": 11.0, \"Count\": 2292, \"age_range\": \"9.999-14.5\"}, {\"Factor\": 74.0, \"Count\": 2273, \"age_range\": \"73.0-77.5\"}, {\"Factor\": 12.0, \"Count\": 2125, \"age_range\": \"9.999-14.5\"}, {\"Factor\": 75.0, \"Count\": 2036, \"age_range\": \"73.0-77.5\"}, {\"Factor\": 13.0, \"Count\": 1920, \"age_range\": \"9.999-14.5\"}, {\"Factor\": 16.0, \"Count\": 1888, \"age_range\": \"14.5-19.0\"}, {\"Factor\": 76.0, \"Count\": 1820, \"age_range\": \"73.0-77.5\"}, {\"Factor\": 14.0, \"Count\": 1771, \"age_range\": \"9.999-14.5\"}, {\"Factor\": 77.0, \"Count\": 1700, \"age_range\": \"73.0-77.5\"}, {\"Factor\": 15.0, \"Count\": 1668, \"age_range\": \"14.5-19.0\"}, {\"Factor\": 78.0, \"Count\": 1420, \"age_range\": \"77.5-82.0\"}, {\"Factor\": 79.0, \"Count\": 1274, \"age_range\": \"77.5-82.0\"}, {\"Factor\": 80.0, \"Count\": 1137, \"age_range\": \"77.5-82.0\"}, {\"Factor\": 81.0, \"Count\": 982, \"age_range\": \"77.5-82.0\"}, {\"Factor\": 82.0, \"Count\": 817, \"age_range\": \"77.5-82.0\"}, {\"Factor\": 83.0, \"Count\": 662, \"age_range\": \"82.0-86.5\"}, {\"Factor\": 84.0, \"Count\": 655, \"age_range\": \"82.0-86.5\"}, {\"Factor\": 86.0, \"Count\": 444, \"age_range\": \"82.0-86.5\"}, {\"Factor\": 85.0, \"Count\": 427, \"age_range\": \"82.0-86.5\"}, {\"Factor\": 87.0, \"Count\": 394, \"age_range\": \"86.5-91.0\"}, {\"Factor\": 88.0, \"Count\": 342, \"age_range\": \"86.5-91.0\"}, {\"Factor\": 90.0, \"Count\": 270, \"age_range\": \"86.5-91.0\"}, {\"Factor\": 89.0, \"Count\": 235, \"age_range\": \"86.5-91.0\"}, {\"Factor\": 99.0, \"Count\": 175, \"age_range\": \"95.5-100.0\"}, {\"Factor\": 91.0, \"Count\": 168, \"age_range\": \"86.5-91.0\"}, {\"Factor\": 92.0, \"Count\": 127, \"age_range\": \"91.0-95.5\"}, {\"Factor\": 93.0, \"Count\": 92, \"age_range\": \"91.0-95.5\"}, {\"Factor\": 95.0, \"Count\": 70, \"age_range\": \"91.0-95.5\"}, {\"Factor\": 94.0, \"Count\": 65, \"age_range\": \"91.0-95.5\"}, {\"Factor\": 98.0, \"Count\": 53, \"age_range\": \"95.5-100.0\"}, {\"Factor\": 96.0, \"Count\": 34, \"age_range\": \"95.5-100.0\"}, {\"Factor\": 97.0, \"Count\": 8, \"age_range\": \"95.5-100.0\"}, {\"Factor\": 100.0, \"Count\": 2, \"age_range\": \"95.5-100.0\"}]}}, {\"mode\": \"vega-lite\"});\n",
       "</script>"
      ],
      "text/plain": [
       "alt.Chart(...)"
      ]
     },
     "execution_count": 27,
     "metadata": {},
     "output_type": "execute_result"
    }
   ],
   "source": [
    "alt.Chart(dl_age_combined_df).mark_bar().encode(\n",
    "    x='sum(Count)',\n",
    "    y=alt.Y('age_range:N',sort='-x')\n",
    ")"
   ]
  },
  {
   "cell_type": "markdown",
   "metadata": {},
   "source": [
    "## Q2. Are there any locations which are more prone to traffic accidents than others? <a class=\"anchor\" id=\"q2_start\"></a>"
   ]
  },
  {
   "cell_type": "markdown",
   "metadata": {},
   "source": [
    "### Pedestrian | Location:  Location of pedestrian at time of accident"
   ]
  },
  {
   "cell_type": "code",
   "execution_count": 28,
   "metadata": {},
   "outputs": [
    {
     "data": {
      "text/plain": [
       "[('Pedestrian/Bicyclist/Other Pedestrian at Intersection', 3543),\n",
       " ('Pedestrian/Bicyclist/Other Pedestrian Not at Intersection', 1921)]"
      ]
     },
     "execution_count": 28,
     "metadata": {},
     "output_type": "execute_result"
    }
   ],
   "source": [
    "ped_loc_combined = Counter(sample_mv_combined_df['PED_LOCATION'].value_counts().to_dict())\n",
    "ped_loc_combined.pop('Does Not Apply', None)\n",
    "ped_loc_combined.pop('Unknown', None)\n",
    "ped_loc_combined_df = pd.DataFrame(ped_loc_combined.items(), columns=['Factor', 'Count'])\n",
    "\n",
    "# Top 10 pre crash events\n",
    "ped_loc_combined.most_common(10)"
   ]
  },
  {
   "cell_type": "code",
   "execution_count": 29,
   "metadata": {},
   "outputs": [
    {
     "data": {
      "text/plain": [
       "<AxesSubplot:ylabel='Count'>"
      ]
     },
     "execution_count": 29,
     "metadata": {},
     "output_type": "execute_result"
    },
    {
     "data": {
      "image/png": "[encoded data removed]",
      "text/plain": [
       "<Figure size 720x720 with 1 Axes>"
      ]
     },
     "metadata": {},
     "output_type": "display_data"
    }
   ],
   "source": [
    "ped_loc_combined_pie_df = ped_loc_combined_df.copy()\n",
    "ped_loc_combined_pie_df.set_index('Factor', inplace=True)\n",
    "ped_loc_combined_pie_df.plot.pie(x='Factor', y='Count', figsize=(10, 10), autopct='%1.1f%%', legend=False)"
   ]
  },
  {
   "cell_type": "markdown",
   "metadata": {},
   "source": [
    "### Street | Location:  Street with most crashes"
   ]
  },
  {
   "cell_type": "code",
   "execution_count": 30,
   "metadata": {},
   "outputs": [
    {
     "data": {
      "text/plain": [
       "[('BELT PARKWAY                    ', 16378),\n",
       " ('LONG ISLAND EXPRESSWAY          ', 12146),\n",
       " ('BROOKLYN QUEENS EXPRESSWAY      ', 11231),\n",
       " ('GRAND CENTRAL PKWY              ', 9647),\n",
       " ('FDR DRIVE                       ', 8821),\n",
       " ('ATLANTIC AVENUE                 ', 7911),\n",
       " ('BROADWAY                        ', 7556),\n",
       " ('CROSS BRONX EXPY                ', 7240),\n",
       " ('3 AVENUE                        ', 6818),\n",
       " ('CROSS ISLAND PARKWAY            ', 6741)]"
      ]
     },
     "execution_count": 30,
     "metadata": {},
     "output_type": "execute_result"
    }
   ],
   "source": [
    "street_loc_combined = Counter(sample_mv_combined_df['ON STREET NAME'].value_counts().to_dict())\n",
    "street_loc_combined.pop('Does Not Apply', None)\n",
    "street_loc_combined.pop('Unknown', None)\n",
    "street_loc_combined_df = pd.DataFrame(street_loc_combined.items(), columns=['Factor', 'Count'])\n",
    "\n",
    "# Top 10 pre crash events\n",
    "street_loc_combined.most_common(10)"
   ]
  },
  {
   "cell_type": "code",
   "execution_count": 31,
   "metadata": {},
   "outputs": [
    {
     "data": {
      "text/html": [
       "\n",
       "<div id=\"altair-viz-77d27ee659854b78acd4fce9e26c3102\"></div>\n",
       "<script type=\"text/javascript\">\n",
       "  (function(spec, embedOpt){\n",
       "    let outputDiv = document.currentScript.previousElementSibling;\n",
       "    if (outputDiv.id !== \"altair-viz-77d27ee659854b78acd4fce9e26c3102\") {\n",
       "      outputDiv = document.getElementById(\"altair-viz-77d27ee659854b78acd4fce9e26c3102\");\n",
       "    }\n",
       "    const paths = {\n",
       "      \"vega\": \"https://cdn.jsdelivr.net/npm//vega@5?noext\",\n",
       "      \"vega-lib\": \"https://cdn.jsdelivr.net/npm//vega-lib?noext\",\n",
       "      \"vega-lite\": \"https://cdn.jsdelivr.net/npm//vega-lite@4.8.1?noext\",\n",
       "      \"vega-embed\": \"https://cdn.jsdelivr.net/npm//vega-embed@6?noext\",\n",
       "    };\n",
       "\n",
       "    function loadScript(lib) {\n",
       "      return new Promise(function(resolve, reject) {\n",
       "        var s = document.createElement('script');\n",
       "        s.src = paths[lib];\n",
       "        s.async = true;\n",
       "        s.onload = () => resolve(paths[lib]);\n",
       "        s.onerror = () => reject(`Error loading script: ${paths[lib]}`);\n",
       "        document.getElementsByTagName(\"head\")[0].appendChild(s);\n",
       "      });\n",
       "    }\n",
       "\n",
       "    function showError(err) {\n",
       "      outputDiv.innerHTML = `<div class=\"error\" style=\"color:red;\">${err}</div>`;\n",
       "      throw err;\n",
       "    }\n",
       "\n",
       "    function displayChart(vegaEmbed) {\n",
       "      vegaEmbed(outputDiv, spec, embedOpt)\n",
       "        .catch(err => showError(`Javascript Error: ${err.message}<br>This usually means there's a typo in your chart specification. See the javascript console for the full traceback.`));\n",
       "    }\n",
       "\n",
       "    if(typeof define === \"function\" && define.amd) {\n",
       "      requirejs.config({paths});\n",
       "      require([\"vega-embed\"], displayChart, err => showError(`Error loading script: ${err.message}`));\n",
       "    } else if (typeof vegaEmbed === \"function\") {\n",
       "      displayChart(vegaEmbed);\n",
       "    } else {\n",
       "      loadScript(\"vega\")\n",
       "        .then(() => loadScript(\"vega-lite\"))\n",
       "        .then(() => loadScript(\"vega-embed\"))\n",
       "        .catch(showError)\n",
       "        .then(() => displayChart(vegaEmbed));\n",
       "    }\n",
       "  })({\"config\": {\"view\": {\"continuousWidth\": 400, \"continuousHeight\": 300}}, \"data\": {\"name\": \"data-3a2c24362b379d8bd3b160de928ae74b\"}, \"mark\": \"bar\", \"encoding\": {\"x\": {\"type\": \"quantitative\", \"aggregate\": \"sum\", \"field\": \"Count\"}, \"y\": {\"type\": \"nominal\", \"field\": \"Factor\", \"sort\": \"-x\"}}, \"$schema\": \"https://vega.github.io/schema/vega-lite/v4.8.1.json\", \"datasets\": {\"data-3a2c24362b379d8bd3b160de928ae74b\": [{\"Factor\": \"BELT PARKWAY                    \", \"Count\": 16378}, {\"Factor\": \"LONG ISLAND EXPRESSWAY          \", \"Count\": 12146}, {\"Factor\": \"BROOKLYN QUEENS EXPRESSWAY      \", \"Count\": 11231}, {\"Factor\": \"GRAND CENTRAL PKWY              \", \"Count\": 9647}, {\"Factor\": \"FDR DRIVE                       \", \"Count\": 8821}, {\"Factor\": \"ATLANTIC AVENUE                 \", \"Count\": 7911}, {\"Factor\": \"BROADWAY                        \", \"Count\": 7556}, {\"Factor\": \"CROSS BRONX EXPY                \", \"Count\": 7240}, {\"Factor\": \"3 AVENUE                        \", \"Count\": 6818}, {\"Factor\": \"CROSS ISLAND PARKWAY            \", \"Count\": 6741}, {\"Factor\": \"MAJOR DEEGAN EXPRESSWAY         \", \"Count\": 6702}, {\"Factor\": \"NORTHERN BOULEVARD              \", \"Count\": 6006}, {\"Factor\": \"VAN WYCK EXPWY                  \", \"Count\": 5892}, {\"Factor\": \"LINDEN BOULEVARD                \", \"Count\": 5297}, {\"Factor\": \"BRUCKNER BOULEVARD              \", \"Count\": 5212}, {\"Factor\": \"2 AVENUE                        \", \"Count\": 5007}, {\"Factor\": \"BRUCKNER EXPRESSWAY             \", \"Count\": 4705}, {\"Factor\": \"VERRAZANO BRIDGE UPPER          \", \"Count\": 4652}, {\"Factor\": \"FLATBUSH AVENUE                 \", \"Count\": 4215}, {\"Factor\": \"QUEENS BOULEVARD                \", \"Count\": 4030}, {\"Factor\": \"BRONX RIVER PARKWAY             \", \"Count\": 3849}, {\"Factor\": \"HENRY HUDSON PARKWAY            \", \"Count\": 3247}, {\"Factor\": \"BRONX WHITESTONE BRIDGE         \", \"Count\": 3242}, {\"Factor\": \"HYLAN BOULEVARD                 \", \"Count\": 3227}, {\"Factor\": \"1 AVENUE                        \", \"Count\": 3224}]}}, {\"mode\": \"vega-lite\"});\n",
       "</script>"
      ],
      "text/plain": [
       "alt.Chart(...)"
      ]
     },
     "execution_count": 31,
     "metadata": {},
     "output_type": "execute_result"
    }
   ],
   "source": [
    "alt.Chart(street_loc_combined_df.nlargest(25, 'Count')).mark_bar().encode(\n",
    "    x='sum(Count)',\n",
    "    y=alt.Y('Factor:N',sort='-x')\n",
    ")"
   ]
  },
  {
   "cell_type": "markdown",
   "metadata": {},
   "source": [
    "### Borough | Location:  Boroughs with most crashes"
   ]
  },
  {
   "cell_type": "code",
   "execution_count": 32,
   "metadata": {},
   "outputs": [
    {
     "data": {
      "text/plain": [
       "[('BROOKLYN', 180720),\n",
       " ('QUEENS', 155947),\n",
       " ('MANHATTAN', 114898),\n",
       " ('BRONX', 87707),\n",
       " ('STATEN ISLAND', 23898)]"
      ]
     },
     "execution_count": 32,
     "metadata": {},
     "output_type": "execute_result"
    }
   ],
   "source": [
    "borough_loc_combined = Counter(sample_mv_combined_df['BOROUGH'].value_counts().to_dict())\n",
    "borough_loc_combined.pop('Does Not Apply', None)\n",
    "borough_loc_combined.pop('Unknown', None)\n",
    "borough_loc_combined_df = pd.DataFrame(borough_loc_combined.items(), columns=['Factor', 'Count'])\n",
    "\n",
    "# Top 10 pre crash events\n",
    "borough_loc_combined.most_common(10)"
   ]
  },
  {
   "cell_type": "code",
   "execution_count": 33,
   "metadata": {},
   "outputs": [
    {
     "data": {
      "text/plain": [
       "<AxesSubplot:ylabel='Count'>"
      ]
     },
     "execution_count": 33,
     "metadata": {},
     "output_type": "execute_result"
    },
    {
     "data": {
      "image/png": "[encoded data removed]",
      "text/plain": [
       "<Figure size 720x720 with 1 Axes>"
      ]
     },
     "metadata": {},
     "output_type": "display_data"
    }
   ],
   "source": [
    "borough_loc_combined_pie_df = borough_loc_combined_df.copy()\n",
    "borough_loc_combined_pie_df.set_index('Factor', inplace=True)\n",
    "borough_loc_combined_pie_df.plot.pie(x='Factor', y='Count', figsize=(10, 10), autopct='%1.1f%%', legend=False)"
   ]
  },
  {
   "cell_type": "markdown",
   "metadata": {},
   "source": [
    "### New York | Location:  Crashes across all of New York"
   ]
  },
  {
   "cell_type": "code",
   "execution_count": 48,
   "metadata": {},
   "outputs": [],
   "source": [
    "# Commenting for file size\n",
    "\n",
    "# new_york = city_geocoder('New York')\n",
    "# m_1 = folium.Map(location=[new_york.y, new_york.x], tiles='OpenStreetMap', zoom_start=10)\n",
    "\n",
    "# lat_long_df = sample_mv_combined_df[sample_mv_combined_df['LATITUDE'].notnull()]\n",
    "\n",
    "# mc = MarkerCluster()\n",
    "# for idx, row in lat_long_df.iterrows():\n",
    "#     mc.add_child(Marker([row['LATITUDE'], row['LONGITUDE']]))\n",
    "\n",
    "# m_1.add_child(mc)"
   ]
  },
  {
   "cell_type": "markdown",
   "metadata": {},
   "source": [
    "## Q3. Are there any sections of society which are more prone to accidents, causal/victims like pedestrians, cyclists or bike users in specific locations?\n",
    " <a class=\"anchor\" id=\"q3_start\"></a>"
   ]
  },
  {
   "cell_type": "markdown",
   "metadata": {},
   "source": [
    "### Injury | Comparison:  Comparing injury count of different victims"
   ]
  },
  {
   "cell_type": "code",
   "execution_count": 35,
   "metadata": {},
   "outputs": [
    {
     "data": {
      "text/html": [
       "<div>\n",
       "<style scoped>\n",
       "    .dataframe tbody tr th:only-of-type {\n",
       "        vertical-align: middle;\n",
       "    }\n",
       "\n",
       "    .dataframe tbody tr th {\n",
       "        vertical-align: top;\n",
       "    }\n",
       "\n",
       "    .dataframe thead th {\n",
       "        text-align: right;\n",
       "    }\n",
       "</style>\n",
       "<table border=\"1\" class=\"dataframe\">\n",
       "  <thead>\n",
       "    <tr style=\"text-align: right;\">\n",
       "      <th></th>\n",
       "      <th>Category</th>\n",
       "      <th>Count</th>\n",
       "      <th>Victim</th>\n",
       "    </tr>\n",
       "  </thead>\n",
       "  <tbody>\n",
       "    <tr>\n",
       "      <th>1</th>\n",
       "      <td>1.0</td>\n",
       "      <td>128479</td>\n",
       "      <td>Persons</td>\n",
       "    </tr>\n",
       "    <tr>\n",
       "      <th>2</th>\n",
       "      <td>2.0</td>\n",
       "      <td>39484</td>\n",
       "      <td>Persons</td>\n",
       "    </tr>\n",
       "    <tr>\n",
       "      <th>3</th>\n",
       "      <td>3.0</td>\n",
       "      <td>15930</td>\n",
       "      <td>Persons</td>\n",
       "    </tr>\n",
       "    <tr>\n",
       "      <th>4</th>\n",
       "      <td>4.0</td>\n",
       "      <td>7497</td>\n",
       "      <td>Persons</td>\n",
       "    </tr>\n",
       "    <tr>\n",
       "      <th>5</th>\n",
       "      <td>5.0</td>\n",
       "      <td>3620</td>\n",
       "      <td>Persons</td>\n",
       "    </tr>\n",
       "    <tr>\n",
       "      <th>6</th>\n",
       "      <td>6.0</td>\n",
       "      <td>1397</td>\n",
       "      <td>Persons</td>\n",
       "    </tr>\n",
       "    <tr>\n",
       "      <th>7</th>\n",
       "      <td>7.0</td>\n",
       "      <td>802</td>\n",
       "      <td>Persons</td>\n",
       "    </tr>\n",
       "    <tr>\n",
       "      <th>8</th>\n",
       "      <td>8.0</td>\n",
       "      <td>256</td>\n",
       "      <td>Persons</td>\n",
       "    </tr>\n",
       "    <tr>\n",
       "      <th>9</th>\n",
       "      <td>9.0</td>\n",
       "      <td>137</td>\n",
       "      <td>Persons</td>\n",
       "    </tr>\n",
       "    <tr>\n",
       "      <th>10</th>\n",
       "      <td>16.0</td>\n",
       "      <td>108</td>\n",
       "      <td>Persons</td>\n",
       "    </tr>\n",
       "    <tr>\n",
       "      <th>11</th>\n",
       "      <td>10.0</td>\n",
       "      <td>84</td>\n",
       "      <td>Persons</td>\n",
       "    </tr>\n",
       "    <tr>\n",
       "      <th>12</th>\n",
       "      <td>17.0</td>\n",
       "      <td>70</td>\n",
       "      <td>Persons</td>\n",
       "    </tr>\n",
       "    <tr>\n",
       "      <th>13</th>\n",
       "      <td>22.0</td>\n",
       "      <td>60</td>\n",
       "      <td>Persons</td>\n",
       "    </tr>\n",
       "    <tr>\n",
       "      <th>14</th>\n",
       "      <td>15.0</td>\n",
       "      <td>32</td>\n",
       "      <td>Persons</td>\n",
       "    </tr>\n",
       "    <tr>\n",
       "      <th>15</th>\n",
       "      <td>13.0</td>\n",
       "      <td>28</td>\n",
       "      <td>Persons</td>\n",
       "    </tr>\n",
       "    <tr>\n",
       "      <th>16</th>\n",
       "      <td>11.0</td>\n",
       "      <td>27</td>\n",
       "      <td>Persons</td>\n",
       "    </tr>\n",
       "    <tr>\n",
       "      <th>17</th>\n",
       "      <td>12.0</td>\n",
       "      <td>22</td>\n",
       "      <td>Persons</td>\n",
       "    </tr>\n",
       "    <tr>\n",
       "      <th>18</th>\n",
       "      <td>14.0</td>\n",
       "      <td>20</td>\n",
       "      <td>Persons</td>\n",
       "    </tr>\n",
       "    <tr>\n",
       "      <th>19</th>\n",
       "      <td>20.0</td>\n",
       "      <td>16</td>\n",
       "      <td>Persons</td>\n",
       "    </tr>\n",
       "    <tr>\n",
       "      <th>21</th>\n",
       "      <td>1.0</td>\n",
       "      <td>17448</td>\n",
       "      <td>Pedestrians</td>\n",
       "    </tr>\n",
       "    <tr>\n",
       "      <th>22</th>\n",
       "      <td>2.0</td>\n",
       "      <td>866</td>\n",
       "      <td>Pedestrians</td>\n",
       "    </tr>\n",
       "    <tr>\n",
       "      <th>23</th>\n",
       "      <td>3.0</td>\n",
       "      <td>142</td>\n",
       "      <td>Pedestrians</td>\n",
       "    </tr>\n",
       "    <tr>\n",
       "      <th>24</th>\n",
       "      <td>4.0</td>\n",
       "      <td>61</td>\n",
       "      <td>Pedestrians</td>\n",
       "    </tr>\n",
       "    <tr>\n",
       "      <th>25</th>\n",
       "      <td>6.0</td>\n",
       "      <td>16</td>\n",
       "      <td>Pedestrians</td>\n",
       "    </tr>\n",
       "    <tr>\n",
       "      <th>26</th>\n",
       "      <td>5.0</td>\n",
       "      <td>2</td>\n",
       "      <td>Pedestrians</td>\n",
       "    </tr>\n",
       "    <tr>\n",
       "      <th>28</th>\n",
       "      <td>1.0</td>\n",
       "      <td>14323</td>\n",
       "      <td>Cyclist</td>\n",
       "    </tr>\n",
       "    <tr>\n",
       "      <th>29</th>\n",
       "      <td>2.0</td>\n",
       "      <td>127</td>\n",
       "      <td>Cyclist</td>\n",
       "    </tr>\n",
       "    <tr>\n",
       "      <th>31</th>\n",
       "      <td>1.0</td>\n",
       "      <td>98614</td>\n",
       "      <td>Motorist</td>\n",
       "    </tr>\n",
       "    <tr>\n",
       "      <th>32</th>\n",
       "      <td>2.0</td>\n",
       "      <td>38141</td>\n",
       "      <td>Motorist</td>\n",
       "    </tr>\n",
       "    <tr>\n",
       "      <th>33</th>\n",
       "      <td>3.0</td>\n",
       "      <td>15654</td>\n",
       "      <td>Motorist</td>\n",
       "    </tr>\n",
       "    <tr>\n",
       "      <th>34</th>\n",
       "      <td>4.0</td>\n",
       "      <td>7398</td>\n",
       "      <td>Motorist</td>\n",
       "    </tr>\n",
       "    <tr>\n",
       "      <th>35</th>\n",
       "      <td>5.0</td>\n",
       "      <td>3627</td>\n",
       "      <td>Motorist</td>\n",
       "    </tr>\n",
       "    <tr>\n",
       "      <th>36</th>\n",
       "      <td>6.0</td>\n",
       "      <td>1401</td>\n",
       "      <td>Motorist</td>\n",
       "    </tr>\n",
       "    <tr>\n",
       "      <th>37</th>\n",
       "      <td>7.0</td>\n",
       "      <td>782</td>\n",
       "      <td>Motorist</td>\n",
       "    </tr>\n",
       "    <tr>\n",
       "      <th>38</th>\n",
       "      <td>8.0</td>\n",
       "      <td>191</td>\n",
       "      <td>Motorist</td>\n",
       "    </tr>\n",
       "    <tr>\n",
       "      <th>39</th>\n",
       "      <td>9.0</td>\n",
       "      <td>137</td>\n",
       "      <td>Motorist</td>\n",
       "    </tr>\n",
       "    <tr>\n",
       "      <th>40</th>\n",
       "      <td>16.0</td>\n",
       "      <td>108</td>\n",
       "      <td>Motorist</td>\n",
       "    </tr>\n",
       "    <tr>\n",
       "      <th>41</th>\n",
       "      <td>10.0</td>\n",
       "      <td>84</td>\n",
       "      <td>Motorist</td>\n",
       "    </tr>\n",
       "    <tr>\n",
       "      <th>42</th>\n",
       "      <td>17.0</td>\n",
       "      <td>70</td>\n",
       "      <td>Motorist</td>\n",
       "    </tr>\n",
       "    <tr>\n",
       "      <th>43</th>\n",
       "      <td>21.0</td>\n",
       "      <td>60</td>\n",
       "      <td>Motorist</td>\n",
       "    </tr>\n",
       "    <tr>\n",
       "      <th>44</th>\n",
       "      <td>15.0</td>\n",
       "      <td>32</td>\n",
       "      <td>Motorist</td>\n",
       "    </tr>\n",
       "    <tr>\n",
       "      <th>45</th>\n",
       "      <td>13.0</td>\n",
       "      <td>28</td>\n",
       "      <td>Motorist</td>\n",
       "    </tr>\n",
       "    <tr>\n",
       "      <th>46</th>\n",
       "      <td>11.0</td>\n",
       "      <td>27</td>\n",
       "      <td>Motorist</td>\n",
       "    </tr>\n",
       "    <tr>\n",
       "      <th>47</th>\n",
       "      <td>12.0</td>\n",
       "      <td>22</td>\n",
       "      <td>Motorist</td>\n",
       "    </tr>\n",
       "    <tr>\n",
       "      <th>48</th>\n",
       "      <td>14.0</td>\n",
       "      <td>20</td>\n",
       "      <td>Motorist</td>\n",
       "    </tr>\n",
       "    <tr>\n",
       "      <th>49</th>\n",
       "      <td>20.0</td>\n",
       "      <td>16</td>\n",
       "      <td>Motorist</td>\n",
       "    </tr>\n",
       "  </tbody>\n",
       "</table>\n",
       "</div>"
      ],
      "text/plain": [
       "    Category   Count       Victim\n",
       "1        1.0  128479      Persons\n",
       "2        2.0   39484      Persons\n",
       "3        3.0   15930      Persons\n",
       "4        4.0    7497      Persons\n",
       "5        5.0    3620      Persons\n",
       "6        6.0    1397      Persons\n",
       "7        7.0     802      Persons\n",
       "8        8.0     256      Persons\n",
       "9        9.0     137      Persons\n",
       "10      16.0     108      Persons\n",
       "11      10.0      84      Persons\n",
       "12      17.0      70      Persons\n",
       "13      22.0      60      Persons\n",
       "14      15.0      32      Persons\n",
       "15      13.0      28      Persons\n",
       "16      11.0      27      Persons\n",
       "17      12.0      22      Persons\n",
       "18      14.0      20      Persons\n",
       "19      20.0      16      Persons\n",
       "21       1.0   17448  Pedestrians\n",
       "22       2.0     866  Pedestrians\n",
       "23       3.0     142  Pedestrians\n",
       "24       4.0      61  Pedestrians\n",
       "25       6.0      16  Pedestrians\n",
       "26       5.0       2  Pedestrians\n",
       "28       1.0   14323      Cyclist\n",
       "29       2.0     127      Cyclist\n",
       "31       1.0   98614     Motorist\n",
       "32       2.0   38141     Motorist\n",
       "33       3.0   15654     Motorist\n",
       "34       4.0    7398     Motorist\n",
       "35       5.0    3627     Motorist\n",
       "36       6.0    1401     Motorist\n",
       "37       7.0     782     Motorist\n",
       "38       8.0     191     Motorist\n",
       "39       9.0     137     Motorist\n",
       "40      16.0     108     Motorist\n",
       "41      10.0      84     Motorist\n",
       "42      17.0      70     Motorist\n",
       "43      21.0      60     Motorist\n",
       "44      15.0      32     Motorist\n",
       "45      13.0      28     Motorist\n",
       "46      11.0      27     Motorist\n",
       "47      12.0      22     Motorist\n",
       "48      14.0      20     Motorist\n",
       "49      20.0      16     Motorist"
      ]
     },
     "execution_count": 35,
     "metadata": {},
     "output_type": "execute_result"
    }
   ],
   "source": [
    "injury_persons_combined = Counter(sample_mv_combined_df['NUMBER OF PERSONS INJURED'].value_counts().to_dict())\n",
    "injury_pedestrians_combined = Counter(sample_mv_combined_df['NUMBER OF PEDESTRIANS INJURED'].value_counts().to_dict())\n",
    "injury_cyclists_combined = Counter(sample_mv_combined_df['NUMBER OF CYCLIST INJURED'].value_counts().to_dict())\n",
    "injury_motorists_combined = Counter(sample_mv_combined_df['NUMBER OF MOTORIST INJURED'].value_counts().to_dict())\n",
    "\n",
    "injury_comparison_combined_df = pd.DataFrame(injury_persons_combined.items(), columns=['Category', 'Count'])\n",
    "injury_comparison_combined_df['Victim'] = 'Persons'\n",
    "df  = pd.DataFrame(injury_pedestrians_combined.items(), columns=['Category', 'Count'])\n",
    "df['Victim'] = 'Pedestrians'\n",
    "injury_comparison_combined_df = pd.concat([injury_comparison_combined_df, df], axis =0).reset_index(drop=True)\n",
    "\n",
    "df  = pd.DataFrame(injury_cyclists_combined.items(), columns=['Category', 'Count'])\n",
    "df['Victim'] = 'Cyclist'\n",
    "injury_comparison_combined_df = pd.concat([injury_comparison_combined_df, df], axis =0).reset_index(drop=True)\n",
    "\n",
    "df  = pd.DataFrame(injury_motorists_combined.items(), columns=['Category', 'Count'])\n",
    "df['Victim'] = 'Motorist'\n",
    "injury_comparison_combined_df = pd.concat([injury_comparison_combined_df, df], axis =0).reset_index(drop=True)\n",
    "injury_comparison_combined_df = injury_comparison_combined_df[injury_comparison_combined_df.Category != 0.0]\n",
    "injury_comparison_combined_df"
   ]
  },
  {
   "cell_type": "code",
   "execution_count": 36,
   "metadata": {},
   "outputs": [
    {
     "data": {
      "text/html": [
       "\n",
       "<div id=\"altair-viz-e52146623908449985dc12ed1e2fe377\"></div>\n",
       "<script type=\"text/javascript\">\n",
       "  (function(spec, embedOpt){\n",
       "    let outputDiv = document.currentScript.previousElementSibling;\n",
       "    if (outputDiv.id !== \"altair-viz-e52146623908449985dc12ed1e2fe377\") {\n",
       "      outputDiv = document.getElementById(\"altair-viz-e52146623908449985dc12ed1e2fe377\");\n",
       "    }\n",
       "    const paths = {\n",
       "      \"vega\": \"https://cdn.jsdelivr.net/npm//vega@5?noext\",\n",
       "      \"vega-lib\": \"https://cdn.jsdelivr.net/npm//vega-lib?noext\",\n",
       "      \"vega-lite\": \"https://cdn.jsdelivr.net/npm//vega-lite@4.8.1?noext\",\n",
       "      \"vega-embed\": \"https://cdn.jsdelivr.net/npm//vega-embed@6?noext\",\n",
       "    };\n",
       "\n",
       "    function loadScript(lib) {\n",
       "      return new Promise(function(resolve, reject) {\n",
       "        var s = document.createElement('script');\n",
       "        s.src = paths[lib];\n",
       "        s.async = true;\n",
       "        s.onload = () => resolve(paths[lib]);\n",
       "        s.onerror = () => reject(`Error loading script: ${paths[lib]}`);\n",
       "        document.getElementsByTagName(\"head\")[0].appendChild(s);\n",
       "      });\n",
       "    }\n",
       "\n",
       "    function showError(err) {\n",
       "      outputDiv.innerHTML = `<div class=\"error\" style=\"color:red;\">${err}</div>`;\n",
       "      throw err;\n",
       "    }\n",
       "\n",
       "    function displayChart(vegaEmbed) {\n",
       "      vegaEmbed(outputDiv, spec, embedOpt)\n",
       "        .catch(err => showError(`Javascript Error: ${err.message}<br>This usually means there's a typo in your chart specification. See the javascript console for the full traceback.`));\n",
       "    }\n",
       "\n",
       "    if(typeof define === \"function\" && define.amd) {\n",
       "      requirejs.config({paths});\n",
       "      require([\"vega-embed\"], displayChart, err => showError(`Error loading script: ${err.message}`));\n",
       "    } else if (typeof vegaEmbed === \"function\") {\n",
       "      displayChart(vegaEmbed);\n",
       "    } else {\n",
       "      loadScript(\"vega\")\n",
       "        .then(() => loadScript(\"vega-lite\"))\n",
       "        .then(() => loadScript(\"vega-embed\"))\n",
       "        .catch(showError)\n",
       "        .then(() => displayChart(vegaEmbed));\n",
       "    }\n",
       "  })({\"config\": {\"view\": {\"continuousWidth\": 400, \"continuousHeight\": 300}}, \"data\": {\"name\": \"data-b5849f8c11cfea12d0e9e284426be1a4\"}, \"mark\": \"bar\", \"encoding\": {\"color\": {\"type\": \"nominal\", \"field\": \"Victim\"}, \"column\": {\"type\": \"nominal\", \"field\": \"Category\"}, \"x\": {\"type\": \"ordinal\", \"field\": \"Victim\"}, \"y\": {\"type\": \"quantitative\", \"aggregate\": \"sum\", \"field\": \"Count\"}}, \"$schema\": \"https://vega.github.io/schema/vega-lite/v4.8.1.json\", \"datasets\": {\"data-b5849f8c11cfea12d0e9e284426be1a4\": [{\"Category\": 1.0, \"Count\": 128479, \"Victim\": \"Persons\"}, {\"Category\": 1.0, \"Count\": 17448, \"Victim\": \"Pedestrians\"}, {\"Category\": 1.0, \"Count\": 14323, \"Victim\": \"Cyclist\"}, {\"Category\": 1.0, \"Count\": 98614, \"Victim\": \"Motorist\"}]}}, {\"mode\": \"vega-lite\"});\n",
       "</script>"
      ],
      "text/plain": [
       "alt.Chart(...)"
      ]
     },
     "metadata": {},
     "output_type": "display_data"
    },
    {
     "data": {
      "text/html": [
       "\n",
       "<div id=\"altair-viz-c64cf20160fa4eb09c26491b12678c6d\"></div>\n",
       "<script type=\"text/javascript\">\n",
       "  (function(spec, embedOpt){\n",
       "    let outputDiv = document.currentScript.previousElementSibling;\n",
       "    if (outputDiv.id !== \"altair-viz-c64cf20160fa4eb09c26491b12678c6d\") {\n",
       "      outputDiv = document.getElementById(\"altair-viz-c64cf20160fa4eb09c26491b12678c6d\");\n",
       "    }\n",
       "    const paths = {\n",
       "      \"vega\": \"https://cdn.jsdelivr.net/npm//vega@5?noext\",\n",
       "      \"vega-lib\": \"https://cdn.jsdelivr.net/npm//vega-lib?noext\",\n",
       "      \"vega-lite\": \"https://cdn.jsdelivr.net/npm//vega-lite@4.8.1?noext\",\n",
       "      \"vega-embed\": \"https://cdn.jsdelivr.net/npm//vega-embed@6?noext\",\n",
       "    };\n",
       "\n",
       "    function loadScript(lib) {\n",
       "      return new Promise(function(resolve, reject) {\n",
       "        var s = document.createElement('script');\n",
       "        s.src = paths[lib];\n",
       "        s.async = true;\n",
       "        s.onload = () => resolve(paths[lib]);\n",
       "        s.onerror = () => reject(`Error loading script: ${paths[lib]}`);\n",
       "        document.getElementsByTagName(\"head\")[0].appendChild(s);\n",
       "      });\n",
       "    }\n",
       "\n",
       "    function showError(err) {\n",
       "      outputDiv.innerHTML = `<div class=\"error\" style=\"color:red;\">${err}</div>`;\n",
       "      throw err;\n",
       "    }\n",
       "\n",
       "    function displayChart(vegaEmbed) {\n",
       "      vegaEmbed(outputDiv, spec, embedOpt)\n",
       "        .catch(err => showError(`Javascript Error: ${err.message}<br>This usually means there's a typo in your chart specification. See the javascript console for the full traceback.`));\n",
       "    }\n",
       "\n",
       "    if(typeof define === \"function\" && define.amd) {\n",
       "      requirejs.config({paths});\n",
       "      require([\"vega-embed\"], displayChart, err => showError(`Error loading script: ${err.message}`));\n",
       "    } else if (typeof vegaEmbed === \"function\") {\n",
       "      displayChart(vegaEmbed);\n",
       "    } else {\n",
       "      loadScript(\"vega\")\n",
       "        .then(() => loadScript(\"vega-lite\"))\n",
       "        .then(() => loadScript(\"vega-embed\"))\n",
       "        .catch(showError)\n",
       "        .then(() => displayChart(vegaEmbed));\n",
       "    }\n",
       "  })({\"config\": {\"view\": {\"continuousWidth\": 400, \"continuousHeight\": 300}}, \"data\": {\"name\": \"data-ca97505b664006f7aacca77031700b98\"}, \"mark\": \"bar\", \"encoding\": {\"color\": {\"type\": \"nominal\", \"field\": \"Victim\"}, \"column\": {\"type\": \"nominal\", \"field\": \"Category\"}, \"x\": {\"type\": \"ordinal\", \"field\": \"Victim\"}, \"y\": {\"type\": \"quantitative\", \"aggregate\": \"sum\", \"field\": \"Count\"}}, \"$schema\": \"https://vega.github.io/schema/vega-lite/v4.8.1.json\", \"datasets\": {\"data-ca97505b664006f7aacca77031700b98\": [{\"Category\": 2.0, \"Count\": 39484, \"Victim\": \"Persons\"}, {\"Category\": 2.0, \"Count\": 866, \"Victim\": \"Pedestrians\"}, {\"Category\": 2.0, \"Count\": 127, \"Victim\": \"Cyclist\"}, {\"Category\": 2.0, \"Count\": 38141, \"Victim\": \"Motorist\"}]}}, {\"mode\": \"vega-lite\"});\n",
       "</script>"
      ],
      "text/plain": [
       "alt.Chart(...)"
      ]
     },
     "metadata": {},
     "output_type": "display_data"
    },
    {
     "data": {
      "text/html": [
       "\n",
       "<div id=\"altair-viz-f04dfae860dd4701b800487c4cf85a5c\"></div>\n",
       "<script type=\"text/javascript\">\n",
       "  (function(spec, embedOpt){\n",
       "    let outputDiv = document.currentScript.previousElementSibling;\n",
       "    if (outputDiv.id !== \"altair-viz-f04dfae860dd4701b800487c4cf85a5c\") {\n",
       "      outputDiv = document.getElementById(\"altair-viz-f04dfae860dd4701b800487c4cf85a5c\");\n",
       "    }\n",
       "    const paths = {\n",
       "      \"vega\": \"https://cdn.jsdelivr.net/npm//vega@5?noext\",\n",
       "      \"vega-lib\": \"https://cdn.jsdelivr.net/npm//vega-lib?noext\",\n",
       "      \"vega-lite\": \"https://cdn.jsdelivr.net/npm//vega-lite@4.8.1?noext\",\n",
       "      \"vega-embed\": \"https://cdn.jsdelivr.net/npm//vega-embed@6?noext\",\n",
       "    };\n",
       "\n",
       "    function loadScript(lib) {\n",
       "      return new Promise(function(resolve, reject) {\n",
       "        var s = document.createElement('script');\n",
       "        s.src = paths[lib];\n",
       "        s.async = true;\n",
       "        s.onload = () => resolve(paths[lib]);\n",
       "        s.onerror = () => reject(`Error loading script: ${paths[lib]}`);\n",
       "        document.getElementsByTagName(\"head\")[0].appendChild(s);\n",
       "      });\n",
       "    }\n",
       "\n",
       "    function showError(err) {\n",
       "      outputDiv.innerHTML = `<div class=\"error\" style=\"color:red;\">${err}</div>`;\n",
       "      throw err;\n",
       "    }\n",
       "\n",
       "    function displayChart(vegaEmbed) {\n",
       "      vegaEmbed(outputDiv, spec, embedOpt)\n",
       "        .catch(err => showError(`Javascript Error: ${err.message}<br>This usually means there's a typo in your chart specification. See the javascript console for the full traceback.`));\n",
       "    }\n",
       "\n",
       "    if(typeof define === \"function\" && define.amd) {\n",
       "      requirejs.config({paths});\n",
       "      require([\"vega-embed\"], displayChart, err => showError(`Error loading script: ${err.message}`));\n",
       "    } else if (typeof vegaEmbed === \"function\") {\n",
       "      displayChart(vegaEmbed);\n",
       "    } else {\n",
       "      loadScript(\"vega\")\n",
       "        .then(() => loadScript(\"vega-lite\"))\n",
       "        .then(() => loadScript(\"vega-embed\"))\n",
       "        .catch(showError)\n",
       "        .then(() => displayChart(vegaEmbed));\n",
       "    }\n",
       "  })({\"config\": {\"view\": {\"continuousWidth\": 400, \"continuousHeight\": 300}}, \"data\": {\"name\": \"data-47b8d8cd65c10404ff64a8357022b5a8\"}, \"mark\": \"bar\", \"encoding\": {\"color\": {\"type\": \"nominal\", \"field\": \"Victim\"}, \"column\": {\"type\": \"nominal\", \"field\": \"Category\"}, \"x\": {\"type\": \"ordinal\", \"field\": \"Victim\"}, \"y\": {\"type\": \"quantitative\", \"aggregate\": \"sum\", \"field\": \"Count\"}}, \"$schema\": \"https://vega.github.io/schema/vega-lite/v4.8.1.json\", \"datasets\": {\"data-47b8d8cd65c10404ff64a8357022b5a8\": [{\"Category\": 3.0, \"Count\": 15930, \"Victim\": \"Persons\"}, {\"Category\": 3.0, \"Count\": 142, \"Victim\": \"Pedestrians\"}, {\"Category\": 3.0, \"Count\": 15654, \"Victim\": \"Motorist\"}]}}, {\"mode\": \"vega-lite\"});\n",
       "</script>"
      ],
      "text/plain": [
       "alt.Chart(...)"
      ]
     },
     "metadata": {},
     "output_type": "display_data"
    },
    {
     "data": {
      "text/html": [
       "\n",
       "<div id=\"altair-viz-bdd41ef468384df6998afaf9be2e9195\"></div>\n",
       "<script type=\"text/javascript\">\n",
       "  (function(spec, embedOpt){\n",
       "    let outputDiv = document.currentScript.previousElementSibling;\n",
       "    if (outputDiv.id !== \"altair-viz-bdd41ef468384df6998afaf9be2e9195\") {\n",
       "      outputDiv = document.getElementById(\"altair-viz-bdd41ef468384df6998afaf9be2e9195\");\n",
       "    }\n",
       "    const paths = {\n",
       "      \"vega\": \"https://cdn.jsdelivr.net/npm//vega@5?noext\",\n",
       "      \"vega-lib\": \"https://cdn.jsdelivr.net/npm//vega-lib?noext\",\n",
       "      \"vega-lite\": \"https://cdn.jsdelivr.net/npm//vega-lite@4.8.1?noext\",\n",
       "      \"vega-embed\": \"https://cdn.jsdelivr.net/npm//vega-embed@6?noext\",\n",
       "    };\n",
       "\n",
       "    function loadScript(lib) {\n",
       "      return new Promise(function(resolve, reject) {\n",
       "        var s = document.createElement('script');\n",
       "        s.src = paths[lib];\n",
       "        s.async = true;\n",
       "        s.onload = () => resolve(paths[lib]);\n",
       "        s.onerror = () => reject(`Error loading script: ${paths[lib]}`);\n",
       "        document.getElementsByTagName(\"head\")[0].appendChild(s);\n",
       "      });\n",
       "    }\n",
       "\n",
       "    function showError(err) {\n",
       "      outputDiv.innerHTML = `<div class=\"error\" style=\"color:red;\">${err}</div>`;\n",
       "      throw err;\n",
       "    }\n",
       "\n",
       "    function displayChart(vegaEmbed) {\n",
       "      vegaEmbed(outputDiv, spec, embedOpt)\n",
       "        .catch(err => showError(`Javascript Error: ${err.message}<br>This usually means there's a typo in your chart specification. See the javascript console for the full traceback.`));\n",
       "    }\n",
       "\n",
       "    if(typeof define === \"function\" && define.amd) {\n",
       "      requirejs.config({paths});\n",
       "      require([\"vega-embed\"], displayChart, err => showError(`Error loading script: ${err.message}`));\n",
       "    } else if (typeof vegaEmbed === \"function\") {\n",
       "      displayChart(vegaEmbed);\n",
       "    } else {\n",
       "      loadScript(\"vega\")\n",
       "        .then(() => loadScript(\"vega-lite\"))\n",
       "        .then(() => loadScript(\"vega-embed\"))\n",
       "        .catch(showError)\n",
       "        .then(() => displayChart(vegaEmbed));\n",
       "    }\n",
       "  })({\"config\": {\"view\": {\"continuousWidth\": 400, \"continuousHeight\": 300}}, \"data\": {\"name\": \"data-f0b0884cc8787ad74c1171dd43b7927c\"}, \"mark\": \"bar\", \"encoding\": {\"color\": {\"type\": \"nominal\", \"field\": \"Victim\"}, \"column\": {\"type\": \"nominal\", \"field\": \"Category\"}, \"x\": {\"type\": \"ordinal\", \"field\": \"Victim\"}, \"y\": {\"type\": \"quantitative\", \"aggregate\": \"sum\", \"field\": \"Count\"}}, \"$schema\": \"https://vega.github.io/schema/vega-lite/v4.8.1.json\", \"datasets\": {\"data-f0b0884cc8787ad74c1171dd43b7927c\": [{\"Category\": 4.0, \"Count\": 7497, \"Victim\": \"Persons\"}, {\"Category\": 4.0, \"Count\": 61, \"Victim\": \"Pedestrians\"}, {\"Category\": 4.0, \"Count\": 7398, \"Victim\": \"Motorist\"}]}}, {\"mode\": \"vega-lite\"});\n",
       "</script>"
      ],
      "text/plain": [
       "alt.Chart(...)"
      ]
     },
     "metadata": {},
     "output_type": "display_data"
    },
    {
     "data": {
      "text/html": [
       "\n",
       "<div id=\"altair-viz-ab25a2b5af11441fb1e2344161a7bfe7\"></div>\n",
       "<script type=\"text/javascript\">\n",
       "  (function(spec, embedOpt){\n",
       "    let outputDiv = document.currentScript.previousElementSibling;\n",
       "    if (outputDiv.id !== \"altair-viz-ab25a2b5af11441fb1e2344161a7bfe7\") {\n",
       "      outputDiv = document.getElementById(\"altair-viz-ab25a2b5af11441fb1e2344161a7bfe7\");\n",
       "    }\n",
       "    const paths = {\n",
       "      \"vega\": \"https://cdn.jsdelivr.net/npm//vega@5?noext\",\n",
       "      \"vega-lib\": \"https://cdn.jsdelivr.net/npm//vega-lib?noext\",\n",
       "      \"vega-lite\": \"https://cdn.jsdelivr.net/npm//vega-lite@4.8.1?noext\",\n",
       "      \"vega-embed\": \"https://cdn.jsdelivr.net/npm//vega-embed@6?noext\",\n",
       "    };\n",
       "\n",
       "    function loadScript(lib) {\n",
       "      return new Promise(function(resolve, reject) {\n",
       "        var s = document.createElement('script');\n",
       "        s.src = paths[lib];\n",
       "        s.async = true;\n",
       "        s.onload = () => resolve(paths[lib]);\n",
       "        s.onerror = () => reject(`Error loading script: ${paths[lib]}`);\n",
       "        document.getElementsByTagName(\"head\")[0].appendChild(s);\n",
       "      });\n",
       "    }\n",
       "\n",
       "    function showError(err) {\n",
       "      outputDiv.innerHTML = `<div class=\"error\" style=\"color:red;\">${err}</div>`;\n",
       "      throw err;\n",
       "    }\n",
       "\n",
       "    function displayChart(vegaEmbed) {\n",
       "      vegaEmbed(outputDiv, spec, embedOpt)\n",
       "        .catch(err => showError(`Javascript Error: ${err.message}<br>This usually means there's a typo in your chart specification. See the javascript console for the full traceback.`));\n",
       "    }\n",
       "\n",
       "    if(typeof define === \"function\" && define.amd) {\n",
       "      requirejs.config({paths});\n",
       "      require([\"vega-embed\"], displayChart, err => showError(`Error loading script: ${err.message}`));\n",
       "    } else if (typeof vegaEmbed === \"function\") {\n",
       "      displayChart(vegaEmbed);\n",
       "    } else {\n",
       "      loadScript(\"vega\")\n",
       "        .then(() => loadScript(\"vega-lite\"))\n",
       "        .then(() => loadScript(\"vega-embed\"))\n",
       "        .catch(showError)\n",
       "        .then(() => displayChart(vegaEmbed));\n",
       "    }\n",
       "  })({\"config\": {\"view\": {\"continuousWidth\": 400, \"continuousHeight\": 300}}, \"data\": {\"name\": \"data-16f7911e5b3dea46cae4506e8d78c72e\"}, \"mark\": \"bar\", \"encoding\": {\"color\": {\"type\": \"nominal\", \"field\": \"Victim\"}, \"column\": {\"type\": \"nominal\", \"field\": \"Category\"}, \"x\": {\"type\": \"ordinal\", \"field\": \"Victim\"}, \"y\": {\"type\": \"quantitative\", \"aggregate\": \"sum\", \"field\": \"Count\"}}, \"$schema\": \"https://vega.github.io/schema/vega-lite/v4.8.1.json\", \"datasets\": {\"data-16f7911e5b3dea46cae4506e8d78c72e\": [{\"Category\": 5.0, \"Count\": 3620, \"Victim\": \"Persons\"}, {\"Category\": 5.0, \"Count\": 2, \"Victim\": \"Pedestrians\"}, {\"Category\": 5.0, \"Count\": 3627, \"Victim\": \"Motorist\"}]}}, {\"mode\": \"vega-lite\"});\n",
       "</script>"
      ],
      "text/plain": [
       "alt.Chart(...)"
      ]
     },
     "metadata": {},
     "output_type": "display_data"
    },
    {
     "data": {
      "text/html": [
       "\n",
       "<div id=\"altair-viz-0a139f2aaf294457951a29d51ca7aab7\"></div>\n",
       "<script type=\"text/javascript\">\n",
       "  (function(spec, embedOpt){\n",
       "    let outputDiv = document.currentScript.previousElementSibling;\n",
       "    if (outputDiv.id !== \"altair-viz-0a139f2aaf294457951a29d51ca7aab7\") {\n",
       "      outputDiv = document.getElementById(\"altair-viz-0a139f2aaf294457951a29d51ca7aab7\");\n",
       "    }\n",
       "    const paths = {\n",
       "      \"vega\": \"https://cdn.jsdelivr.net/npm//vega@5?noext\",\n",
       "      \"vega-lib\": \"https://cdn.jsdelivr.net/npm//vega-lib?noext\",\n",
       "      \"vega-lite\": \"https://cdn.jsdelivr.net/npm//vega-lite@4.8.1?noext\",\n",
       "      \"vega-embed\": \"https://cdn.jsdelivr.net/npm//vega-embed@6?noext\",\n",
       "    };\n",
       "\n",
       "    function loadScript(lib) {\n",
       "      return new Promise(function(resolve, reject) {\n",
       "        var s = document.createElement('script');\n",
       "        s.src = paths[lib];\n",
       "        s.async = true;\n",
       "        s.onload = () => resolve(paths[lib]);\n",
       "        s.onerror = () => reject(`Error loading script: ${paths[lib]}`);\n",
       "        document.getElementsByTagName(\"head\")[0].appendChild(s);\n",
       "      });\n",
       "    }\n",
       "\n",
       "    function showError(err) {\n",
       "      outputDiv.innerHTML = `<div class=\"error\" style=\"color:red;\">${err}</div>`;\n",
       "      throw err;\n",
       "    }\n",
       "\n",
       "    function displayChart(vegaEmbed) {\n",
       "      vegaEmbed(outputDiv, spec, embedOpt)\n",
       "        .catch(err => showError(`Javascript Error: ${err.message}<br>This usually means there's a typo in your chart specification. See the javascript console for the full traceback.`));\n",
       "    }\n",
       "\n",
       "    if(typeof define === \"function\" && define.amd) {\n",
       "      requirejs.config({paths});\n",
       "      require([\"vega-embed\"], displayChart, err => showError(`Error loading script: ${err.message}`));\n",
       "    } else if (typeof vegaEmbed === \"function\") {\n",
       "      displayChart(vegaEmbed);\n",
       "    } else {\n",
       "      loadScript(\"vega\")\n",
       "        .then(() => loadScript(\"vega-lite\"))\n",
       "        .then(() => loadScript(\"vega-embed\"))\n",
       "        .catch(showError)\n",
       "        .then(() => displayChart(vegaEmbed));\n",
       "    }\n",
       "  })({\"config\": {\"view\": {\"continuousWidth\": 400, \"continuousHeight\": 300}}, \"data\": {\"name\": \"data-99b72181bceb4cdc429395aa2345ae6c\"}, \"mark\": \"bar\", \"encoding\": {\"color\": {\"type\": \"nominal\", \"field\": \"Victim\"}, \"column\": {\"type\": \"nominal\", \"field\": \"Category\"}, \"x\": {\"type\": \"ordinal\", \"field\": \"Victim\"}, \"y\": {\"type\": \"quantitative\", \"aggregate\": \"sum\", \"field\": \"Count\"}}, \"$schema\": \"https://vega.github.io/schema/vega-lite/v4.8.1.json\", \"datasets\": {\"data-99b72181bceb4cdc429395aa2345ae6c\": [{\"Category\": 6.0, \"Count\": 1397, \"Victim\": \"Persons\"}, {\"Category\": 6.0, \"Count\": 16, \"Victim\": \"Pedestrians\"}, {\"Category\": 6.0, \"Count\": 1401, \"Victim\": \"Motorist\"}]}}, {\"mode\": \"vega-lite\"});\n",
       "</script>"
      ],
      "text/plain": [
       "alt.Chart(...)"
      ]
     },
     "metadata": {},
     "output_type": "display_data"
    },
    {
     "data": {
      "text/html": [
       "\n",
       "<div id=\"altair-viz-0e49c654bfb449f38d97206d5ae0b272\"></div>\n",
       "<script type=\"text/javascript\">\n",
       "  (function(spec, embedOpt){\n",
       "    let outputDiv = document.currentScript.previousElementSibling;\n",
       "    if (outputDiv.id !== \"altair-viz-0e49c654bfb449f38d97206d5ae0b272\") {\n",
       "      outputDiv = document.getElementById(\"altair-viz-0e49c654bfb449f38d97206d5ae0b272\");\n",
       "    }\n",
       "    const paths = {\n",
       "      \"vega\": \"https://cdn.jsdelivr.net/npm//vega@5?noext\",\n",
       "      \"vega-lib\": \"https://cdn.jsdelivr.net/npm//vega-lib?noext\",\n",
       "      \"vega-lite\": \"https://cdn.jsdelivr.net/npm//vega-lite@4.8.1?noext\",\n",
       "      \"vega-embed\": \"https://cdn.jsdelivr.net/npm//vega-embed@6?noext\",\n",
       "    };\n",
       "\n",
       "    function loadScript(lib) {\n",
       "      return new Promise(function(resolve, reject) {\n",
       "        var s = document.createElement('script');\n",
       "        s.src = paths[lib];\n",
       "        s.async = true;\n",
       "        s.onload = () => resolve(paths[lib]);\n",
       "        s.onerror = () => reject(`Error loading script: ${paths[lib]}`);\n",
       "        document.getElementsByTagName(\"head\")[0].appendChild(s);\n",
       "      });\n",
       "    }\n",
       "\n",
       "    function showError(err) {\n",
       "      outputDiv.innerHTML = `<div class=\"error\" style=\"color:red;\">${err}</div>`;\n",
       "      throw err;\n",
       "    }\n",
       "\n",
       "    function displayChart(vegaEmbed) {\n",
       "      vegaEmbed(outputDiv, spec, embedOpt)\n",
       "        .catch(err => showError(`Javascript Error: ${err.message}<br>This usually means there's a typo in your chart specification. See the javascript console for the full traceback.`));\n",
       "    }\n",
       "\n",
       "    if(typeof define === \"function\" && define.amd) {\n",
       "      requirejs.config({paths});\n",
       "      require([\"vega-embed\"], displayChart, err => showError(`Error loading script: ${err.message}`));\n",
       "    } else if (typeof vegaEmbed === \"function\") {\n",
       "      displayChart(vegaEmbed);\n",
       "    } else {\n",
       "      loadScript(\"vega\")\n",
       "        .then(() => loadScript(\"vega-lite\"))\n",
       "        .then(() => loadScript(\"vega-embed\"))\n",
       "        .catch(showError)\n",
       "        .then(() => displayChart(vegaEmbed));\n",
       "    }\n",
       "  })({\"config\": {\"view\": {\"continuousWidth\": 400, \"continuousHeight\": 300}}, \"data\": {\"name\": \"data-492541c90176d17aa092a14353e98621\"}, \"mark\": \"bar\", \"encoding\": {\"color\": {\"type\": \"nominal\", \"field\": \"Victim\"}, \"column\": {\"type\": \"nominal\", \"field\": \"Category\"}, \"x\": {\"type\": \"ordinal\", \"field\": \"Victim\"}, \"y\": {\"type\": \"quantitative\", \"aggregate\": \"sum\", \"field\": \"Count\"}}, \"$schema\": \"https://vega.github.io/schema/vega-lite/v4.8.1.json\", \"datasets\": {\"data-492541c90176d17aa092a14353e98621\": [{\"Category\": 7.0, \"Count\": 802, \"Victim\": \"Persons\"}, {\"Category\": 7.0, \"Count\": 782, \"Victim\": \"Motorist\"}]}}, {\"mode\": \"vega-lite\"});\n",
       "</script>"
      ],
      "text/plain": [
       "alt.Chart(...)"
      ]
     },
     "metadata": {},
     "output_type": "display_data"
    },
    {
     "data": {
      "text/html": [
       "\n",
       "<div id=\"altair-viz-c1775c40bdbe415a88cd98badfd79385\"></div>\n",
       "<script type=\"text/javascript\">\n",
       "  (function(spec, embedOpt){\n",
       "    let outputDiv = document.currentScript.previousElementSibling;\n",
       "    if (outputDiv.id !== \"altair-viz-c1775c40bdbe415a88cd98badfd79385\") {\n",
       "      outputDiv = document.getElementById(\"altair-viz-c1775c40bdbe415a88cd98badfd79385\");\n",
       "    }\n",
       "    const paths = {\n",
       "      \"vega\": \"https://cdn.jsdelivr.net/npm//vega@5?noext\",\n",
       "      \"vega-lib\": \"https://cdn.jsdelivr.net/npm//vega-lib?noext\",\n",
       "      \"vega-lite\": \"https://cdn.jsdelivr.net/npm//vega-lite@4.8.1?noext\",\n",
       "      \"vega-embed\": \"https://cdn.jsdelivr.net/npm//vega-embed@6?noext\",\n",
       "    };\n",
       "\n",
       "    function loadScript(lib) {\n",
       "      return new Promise(function(resolve, reject) {\n",
       "        var s = document.createElement('script');\n",
       "        s.src = paths[lib];\n",
       "        s.async = true;\n",
       "        s.onload = () => resolve(paths[lib]);\n",
       "        s.onerror = () => reject(`Error loading script: ${paths[lib]}`);\n",
       "        document.getElementsByTagName(\"head\")[0].appendChild(s);\n",
       "      });\n",
       "    }\n",
       "\n",
       "    function showError(err) {\n",
       "      outputDiv.innerHTML = `<div class=\"error\" style=\"color:red;\">${err}</div>`;\n",
       "      throw err;\n",
       "    }\n",
       "\n",
       "    function displayChart(vegaEmbed) {\n",
       "      vegaEmbed(outputDiv, spec, embedOpt)\n",
       "        .catch(err => showError(`Javascript Error: ${err.message}<br>This usually means there's a typo in your chart specification. See the javascript console for the full traceback.`));\n",
       "    }\n",
       "\n",
       "    if(typeof define === \"function\" && define.amd) {\n",
       "      requirejs.config({paths});\n",
       "      require([\"vega-embed\"], displayChart, err => showError(`Error loading script: ${err.message}`));\n",
       "    } else if (typeof vegaEmbed === \"function\") {\n",
       "      displayChart(vegaEmbed);\n",
       "    } else {\n",
       "      loadScript(\"vega\")\n",
       "        .then(() => loadScript(\"vega-lite\"))\n",
       "        .then(() => loadScript(\"vega-embed\"))\n",
       "        .catch(showError)\n",
       "        .then(() => displayChart(vegaEmbed));\n",
       "    }\n",
       "  })({\"config\": {\"view\": {\"continuousWidth\": 400, \"continuousHeight\": 300}}, \"data\": {\"name\": \"data-7d7b6549c16cd7684252ddcb6b4e4246\"}, \"mark\": \"bar\", \"encoding\": {\"color\": {\"type\": \"nominal\", \"field\": \"Victim\"}, \"column\": {\"type\": \"nominal\", \"field\": \"Category\"}, \"x\": {\"type\": \"ordinal\", \"field\": \"Victim\"}, \"y\": {\"type\": \"quantitative\", \"aggregate\": \"sum\", \"field\": \"Count\"}}, \"$schema\": \"https://vega.github.io/schema/vega-lite/v4.8.1.json\", \"datasets\": {\"data-7d7b6549c16cd7684252ddcb6b4e4246\": [{\"Category\": 8.0, \"Count\": 256, \"Victim\": \"Persons\"}, {\"Category\": 8.0, \"Count\": 191, \"Victim\": \"Motorist\"}]}}, {\"mode\": \"vega-lite\"});\n",
       "</script>"
      ],
      "text/plain": [
       "alt.Chart(...)"
      ]
     },
     "metadata": {},
     "output_type": "display_data"
    },
    {
     "data": {
      "text/html": [
       "\n",
       "<div id=\"altair-viz-e4aa6959ed854f60a445062e2df39d51\"></div>\n",
       "<script type=\"text/javascript\">\n",
       "  (function(spec, embedOpt){\n",
       "    let outputDiv = document.currentScript.previousElementSibling;\n",
       "    if (outputDiv.id !== \"altair-viz-e4aa6959ed854f60a445062e2df39d51\") {\n",
       "      outputDiv = document.getElementById(\"altair-viz-e4aa6959ed854f60a445062e2df39d51\");\n",
       "    }\n",
       "    const paths = {\n",
       "      \"vega\": \"https://cdn.jsdelivr.net/npm//vega@5?noext\",\n",
       "      \"vega-lib\": \"https://cdn.jsdelivr.net/npm//vega-lib?noext\",\n",
       "      \"vega-lite\": \"https://cdn.jsdelivr.net/npm//vega-lite@4.8.1?noext\",\n",
       "      \"vega-embed\": \"https://cdn.jsdelivr.net/npm//vega-embed@6?noext\",\n",
       "    };\n",
       "\n",
       "    function loadScript(lib) {\n",
       "      return new Promise(function(resolve, reject) {\n",
       "        var s = document.createElement('script');\n",
       "        s.src = paths[lib];\n",
       "        s.async = true;\n",
       "        s.onload = () => resolve(paths[lib]);\n",
       "        s.onerror = () => reject(`Error loading script: ${paths[lib]}`);\n",
       "        document.getElementsByTagName(\"head\")[0].appendChild(s);\n",
       "      });\n",
       "    }\n",
       "\n",
       "    function showError(err) {\n",
       "      outputDiv.innerHTML = `<div class=\"error\" style=\"color:red;\">${err}</div>`;\n",
       "      throw err;\n",
       "    }\n",
       "\n",
       "    function displayChart(vegaEmbed) {\n",
       "      vegaEmbed(outputDiv, spec, embedOpt)\n",
       "        .catch(err => showError(`Javascript Error: ${err.message}<br>This usually means there's a typo in your chart specification. See the javascript console for the full traceback.`));\n",
       "    }\n",
       "\n",
       "    if(typeof define === \"function\" && define.amd) {\n",
       "      requirejs.config({paths});\n",
       "      require([\"vega-embed\"], displayChart, err => showError(`Error loading script: ${err.message}`));\n",
       "    } else if (typeof vegaEmbed === \"function\") {\n",
       "      displayChart(vegaEmbed);\n",
       "    } else {\n",
       "      loadScript(\"vega\")\n",
       "        .then(() => loadScript(\"vega-lite\"))\n",
       "        .then(() => loadScript(\"vega-embed\"))\n",
       "        .catch(showError)\n",
       "        .then(() => displayChart(vegaEmbed));\n",
       "    }\n",
       "  })({\"config\": {\"view\": {\"continuousWidth\": 400, \"continuousHeight\": 300}}, \"data\": {\"name\": \"data-61c842309aeacc5b67987dc0e052db6e\"}, \"mark\": \"bar\", \"encoding\": {\"color\": {\"type\": \"nominal\", \"field\": \"Victim\"}, \"column\": {\"type\": \"nominal\", \"field\": \"Category\"}, \"x\": {\"type\": \"ordinal\", \"field\": \"Victim\"}, \"y\": {\"type\": \"quantitative\", \"aggregate\": \"sum\", \"field\": \"Count\"}}, \"$schema\": \"https://vega.github.io/schema/vega-lite/v4.8.1.json\", \"datasets\": {\"data-61c842309aeacc5b67987dc0e052db6e\": [{\"Category\": 9.0, \"Count\": 137, \"Victim\": \"Persons\"}, {\"Category\": 9.0, \"Count\": 137, \"Victim\": \"Motorist\"}]}}, {\"mode\": \"vega-lite\"});\n",
       "</script>"
      ],
      "text/plain": [
       "alt.Chart(...)"
      ]
     },
     "metadata": {},
     "output_type": "display_data"
    },
    {
     "data": {
      "text/html": [
       "\n",
       "<div id=\"altair-viz-28b1a2e90fec409c912dfe2f73c66843\"></div>\n",
       "<script type=\"text/javascript\">\n",
       "  (function(spec, embedOpt){\n",
       "    let outputDiv = document.currentScript.previousElementSibling;\n",
       "    if (outputDiv.id !== \"altair-viz-28b1a2e90fec409c912dfe2f73c66843\") {\n",
       "      outputDiv = document.getElementById(\"altair-viz-28b1a2e90fec409c912dfe2f73c66843\");\n",
       "    }\n",
       "    const paths = {\n",
       "      \"vega\": \"https://cdn.jsdelivr.net/npm//vega@5?noext\",\n",
       "      \"vega-lib\": \"https://cdn.jsdelivr.net/npm//vega-lib?noext\",\n",
       "      \"vega-lite\": \"https://cdn.jsdelivr.net/npm//vega-lite@4.8.1?noext\",\n",
       "      \"vega-embed\": \"https://cdn.jsdelivr.net/npm//vega-embed@6?noext\",\n",
       "    };\n",
       "\n",
       "    function loadScript(lib) {\n",
       "      return new Promise(function(resolve, reject) {\n",
       "        var s = document.createElement('script');\n",
       "        s.src = paths[lib];\n",
       "        s.async = true;\n",
       "        s.onload = () => resolve(paths[lib]);\n",
       "        s.onerror = () => reject(`Error loading script: ${paths[lib]}`);\n",
       "        document.getElementsByTagName(\"head\")[0].appendChild(s);\n",
       "      });\n",
       "    }\n",
       "\n",
       "    function showError(err) {\n",
       "      outputDiv.innerHTML = `<div class=\"error\" style=\"color:red;\">${err}</div>`;\n",
       "      throw err;\n",
       "    }\n",
       "\n",
       "    function displayChart(vegaEmbed) {\n",
       "      vegaEmbed(outputDiv, spec, embedOpt)\n",
       "        .catch(err => showError(`Javascript Error: ${err.message}<br>This usually means there's a typo in your chart specification. See the javascript console for the full traceback.`));\n",
       "    }\n",
       "\n",
       "    if(typeof define === \"function\" && define.amd) {\n",
       "      requirejs.config({paths});\n",
       "      require([\"vega-embed\"], displayChart, err => showError(`Error loading script: ${err.message}`));\n",
       "    } else if (typeof vegaEmbed === \"function\") {\n",
       "      displayChart(vegaEmbed);\n",
       "    } else {\n",
       "      loadScript(\"vega\")\n",
       "        .then(() => loadScript(\"vega-lite\"))\n",
       "        .then(() => loadScript(\"vega-embed\"))\n",
       "        .catch(showError)\n",
       "        .then(() => displayChart(vegaEmbed));\n",
       "    }\n",
       "  })({\"config\": {\"view\": {\"continuousWidth\": 400, \"continuousHeight\": 300}}, \"data\": {\"name\": \"data-2d6e97f669099530e06c6912227a651b\"}, \"mark\": \"bar\", \"encoding\": {\"color\": {\"type\": \"nominal\", \"field\": \"Victim\"}, \"column\": {\"type\": \"nominal\", \"field\": \"Category\"}, \"x\": {\"type\": \"ordinal\", \"field\": \"Victim\"}, \"y\": {\"type\": \"quantitative\", \"aggregate\": \"sum\", \"field\": \"Count\"}}, \"$schema\": \"https://vega.github.io/schema/vega-lite/v4.8.1.json\", \"datasets\": {\"data-2d6e97f669099530e06c6912227a651b\": [{\"Category\": 16.0, \"Count\": 108, \"Victim\": \"Persons\"}, {\"Category\": 16.0, \"Count\": 108, \"Victim\": \"Motorist\"}]}}, {\"mode\": \"vega-lite\"});\n",
       "</script>"
      ],
      "text/plain": [
       "alt.Chart(...)"
      ]
     },
     "metadata": {},
     "output_type": "display_data"
    },
    {
     "data": {
      "text/html": [
       "\n",
       "<div id=\"altair-viz-ffc127caebc34bc09ec6251381752c2f\"></div>\n",
       "<script type=\"text/javascript\">\n",
       "  (function(spec, embedOpt){\n",
       "    let outputDiv = document.currentScript.previousElementSibling;\n",
       "    if (outputDiv.id !== \"altair-viz-ffc127caebc34bc09ec6251381752c2f\") {\n",
       "      outputDiv = document.getElementById(\"altair-viz-ffc127caebc34bc09ec6251381752c2f\");\n",
       "    }\n",
       "    const paths = {\n",
       "      \"vega\": \"https://cdn.jsdelivr.net/npm//vega@5?noext\",\n",
       "      \"vega-lib\": \"https://cdn.jsdelivr.net/npm//vega-lib?noext\",\n",
       "      \"vega-lite\": \"https://cdn.jsdelivr.net/npm//vega-lite@4.8.1?noext\",\n",
       "      \"vega-embed\": \"https://cdn.jsdelivr.net/npm//vega-embed@6?noext\",\n",
       "    };\n",
       "\n",
       "    function loadScript(lib) {\n",
       "      return new Promise(function(resolve, reject) {\n",
       "        var s = document.createElement('script');\n",
       "        s.src = paths[lib];\n",
       "        s.async = true;\n",
       "        s.onload = () => resolve(paths[lib]);\n",
       "        s.onerror = () => reject(`Error loading script: ${paths[lib]}`);\n",
       "        document.getElementsByTagName(\"head\")[0].appendChild(s);\n",
       "      });\n",
       "    }\n",
       "\n",
       "    function showError(err) {\n",
       "      outputDiv.innerHTML = `<div class=\"error\" style=\"color:red;\">${err}</div>`;\n",
       "      throw err;\n",
       "    }\n",
       "\n",
       "    function displayChart(vegaEmbed) {\n",
       "      vegaEmbed(outputDiv, spec, embedOpt)\n",
       "        .catch(err => showError(`Javascript Error: ${err.message}<br>This usually means there's a typo in your chart specification. See the javascript console for the full traceback.`));\n",
       "    }\n",
       "\n",
       "    if(typeof define === \"function\" && define.amd) {\n",
       "      requirejs.config({paths});\n",
       "      require([\"vega-embed\"], displayChart, err => showError(`Error loading script: ${err.message}`));\n",
       "    } else if (typeof vegaEmbed === \"function\") {\n",
       "      displayChart(vegaEmbed);\n",
       "    } else {\n",
       "      loadScript(\"vega\")\n",
       "        .then(() => loadScript(\"vega-lite\"))\n",
       "        .then(() => loadScript(\"vega-embed\"))\n",
       "        .catch(showError)\n",
       "        .then(() => displayChart(vegaEmbed));\n",
       "    }\n",
       "  })({\"config\": {\"view\": {\"continuousWidth\": 400, \"continuousHeight\": 300}}, \"data\": {\"name\": \"data-636babd4b3188f6d21e56c714cef3847\"}, \"mark\": \"bar\", \"encoding\": {\"color\": {\"type\": \"nominal\", \"field\": \"Victim\"}, \"column\": {\"type\": \"nominal\", \"field\": \"Category\"}, \"x\": {\"type\": \"ordinal\", \"field\": \"Victim\"}, \"y\": {\"type\": \"quantitative\", \"aggregate\": \"sum\", \"field\": \"Count\"}}, \"$schema\": \"https://vega.github.io/schema/vega-lite/v4.8.1.json\", \"datasets\": {\"data-636babd4b3188f6d21e56c714cef3847\": [{\"Category\": 10.0, \"Count\": 84, \"Victim\": \"Persons\"}, {\"Category\": 10.0, \"Count\": 84, \"Victim\": \"Motorist\"}]}}, {\"mode\": \"vega-lite\"});\n",
       "</script>"
      ],
      "text/plain": [
       "alt.Chart(...)"
      ]
     },
     "metadata": {},
     "output_type": "display_data"
    },
    {
     "data": {
      "text/html": [
       "\n",
       "<div id=\"altair-viz-69c9f630bb2d4279a888d1468795c7b1\"></div>\n",
       "<script type=\"text/javascript\">\n",
       "  (function(spec, embedOpt){\n",
       "    let outputDiv = document.currentScript.previousElementSibling;\n",
       "    if (outputDiv.id !== \"altair-viz-69c9f630bb2d4279a888d1468795c7b1\") {\n",
       "      outputDiv = document.getElementById(\"altair-viz-69c9f630bb2d4279a888d1468795c7b1\");\n",
       "    }\n",
       "    const paths = {\n",
       "      \"vega\": \"https://cdn.jsdelivr.net/npm//vega@5?noext\",\n",
       "      \"vega-lib\": \"https://cdn.jsdelivr.net/npm//vega-lib?noext\",\n",
       "      \"vega-lite\": \"https://cdn.jsdelivr.net/npm//vega-lite@4.8.1?noext\",\n",
       "      \"vega-embed\": \"https://cdn.jsdelivr.net/npm//vega-embed@6?noext\",\n",
       "    };\n",
       "\n",
       "    function loadScript(lib) {\n",
       "      return new Promise(function(resolve, reject) {\n",
       "        var s = document.createElement('script');\n",
       "        s.src = paths[lib];\n",
       "        s.async = true;\n",
       "        s.onload = () => resolve(paths[lib]);\n",
       "        s.onerror = () => reject(`Error loading script: ${paths[lib]}`);\n",
       "        document.getElementsByTagName(\"head\")[0].appendChild(s);\n",
       "      });\n",
       "    }\n",
       "\n",
       "    function showError(err) {\n",
       "      outputDiv.innerHTML = `<div class=\"error\" style=\"color:red;\">${err}</div>`;\n",
       "      throw err;\n",
       "    }\n",
       "\n",
       "    function displayChart(vegaEmbed) {\n",
       "      vegaEmbed(outputDiv, spec, embedOpt)\n",
       "        .catch(err => showError(`Javascript Error: ${err.message}<br>This usually means there's a typo in your chart specification. See the javascript console for the full traceback.`));\n",
       "    }\n",
       "\n",
       "    if(typeof define === \"function\" && define.amd) {\n",
       "      requirejs.config({paths});\n",
       "      require([\"vega-embed\"], displayChart, err => showError(`Error loading script: ${err.message}`));\n",
       "    } else if (typeof vegaEmbed === \"function\") {\n",
       "      displayChart(vegaEmbed);\n",
       "    } else {\n",
       "      loadScript(\"vega\")\n",
       "        .then(() => loadScript(\"vega-lite\"))\n",
       "        .then(() => loadScript(\"vega-embed\"))\n",
       "        .catch(showError)\n",
       "        .then(() => displayChart(vegaEmbed));\n",
       "    }\n",
       "  })({\"config\": {\"view\": {\"continuousWidth\": 400, \"continuousHeight\": 300}}, \"data\": {\"name\": \"data-b2332753bd4e7e3337539bbc6f75f29d\"}, \"mark\": \"bar\", \"encoding\": {\"color\": {\"type\": \"nominal\", \"field\": \"Victim\"}, \"column\": {\"type\": \"nominal\", \"field\": \"Category\"}, \"x\": {\"type\": \"ordinal\", \"field\": \"Victim\"}, \"y\": {\"type\": \"quantitative\", \"aggregate\": \"sum\", \"field\": \"Count\"}}, \"$schema\": \"https://vega.github.io/schema/vega-lite/v4.8.1.json\", \"datasets\": {\"data-b2332753bd4e7e3337539bbc6f75f29d\": [{\"Category\": 17.0, \"Count\": 70, \"Victim\": \"Persons\"}, {\"Category\": 17.0, \"Count\": 70, \"Victim\": \"Motorist\"}]}}, {\"mode\": \"vega-lite\"});\n",
       "</script>"
      ],
      "text/plain": [
       "alt.Chart(...)"
      ]
     },
     "metadata": {},
     "output_type": "display_data"
    },
    {
     "data": {
      "text/html": [
       "\n",
       "<div id=\"altair-viz-bf960203256b41119b158f858c5ef560\"></div>\n",
       "<script type=\"text/javascript\">\n",
       "  (function(spec, embedOpt){\n",
       "    let outputDiv = document.currentScript.previousElementSibling;\n",
       "    if (outputDiv.id !== \"altair-viz-bf960203256b41119b158f858c5ef560\") {\n",
       "      outputDiv = document.getElementById(\"altair-viz-bf960203256b41119b158f858c5ef560\");\n",
       "    }\n",
       "    const paths = {\n",
       "      \"vega\": \"https://cdn.jsdelivr.net/npm//vega@5?noext\",\n",
       "      \"vega-lib\": \"https://cdn.jsdelivr.net/npm//vega-lib?noext\",\n",
       "      \"vega-lite\": \"https://cdn.jsdelivr.net/npm//vega-lite@4.8.1?noext\",\n",
       "      \"vega-embed\": \"https://cdn.jsdelivr.net/npm//vega-embed@6?noext\",\n",
       "    };\n",
       "\n",
       "    function loadScript(lib) {\n",
       "      return new Promise(function(resolve, reject) {\n",
       "        var s = document.createElement('script');\n",
       "        s.src = paths[lib];\n",
       "        s.async = true;\n",
       "        s.onload = () => resolve(paths[lib]);\n",
       "        s.onerror = () => reject(`Error loading script: ${paths[lib]}`);\n",
       "        document.getElementsByTagName(\"head\")[0].appendChild(s);\n",
       "      });\n",
       "    }\n",
       "\n",
       "    function showError(err) {\n",
       "      outputDiv.innerHTML = `<div class=\"error\" style=\"color:red;\">${err}</div>`;\n",
       "      throw err;\n",
       "    }\n",
       "\n",
       "    function displayChart(vegaEmbed) {\n",
       "      vegaEmbed(outputDiv, spec, embedOpt)\n",
       "        .catch(err => showError(`Javascript Error: ${err.message}<br>This usually means there's a typo in your chart specification. See the javascript console for the full traceback.`));\n",
       "    }\n",
       "\n",
       "    if(typeof define === \"function\" && define.amd) {\n",
       "      requirejs.config({paths});\n",
       "      require([\"vega-embed\"], displayChart, err => showError(`Error loading script: ${err.message}`));\n",
       "    } else if (typeof vegaEmbed === \"function\") {\n",
       "      displayChart(vegaEmbed);\n",
       "    } else {\n",
       "      loadScript(\"vega\")\n",
       "        .then(() => loadScript(\"vega-lite\"))\n",
       "        .then(() => loadScript(\"vega-embed\"))\n",
       "        .catch(showError)\n",
       "        .then(() => displayChart(vegaEmbed));\n",
       "    }\n",
       "  })({\"config\": {\"view\": {\"continuousWidth\": 400, \"continuousHeight\": 300}}, \"data\": {\"name\": \"data-492553cf3945ffe2a962b801a34d4e5c\"}, \"mark\": \"bar\", \"encoding\": {\"color\": {\"type\": \"nominal\", \"field\": \"Victim\"}, \"column\": {\"type\": \"nominal\", \"field\": \"Category\"}, \"x\": {\"type\": \"ordinal\", \"field\": \"Victim\"}, \"y\": {\"type\": \"quantitative\", \"aggregate\": \"sum\", \"field\": \"Count\"}}, \"$schema\": \"https://vega.github.io/schema/vega-lite/v4.8.1.json\", \"datasets\": {\"data-492553cf3945ffe2a962b801a34d4e5c\": [{\"Category\": 22.0, \"Count\": 60, \"Victim\": \"Persons\"}]}}, {\"mode\": \"vega-lite\"});\n",
       "</script>"
      ],
      "text/plain": [
       "alt.Chart(...)"
      ]
     },
     "metadata": {},
     "output_type": "display_data"
    },
    {
     "data": {
      "text/html": [
       "\n",
       "<div id=\"altair-viz-44388764f794495dafc24d3d380bfca2\"></div>\n",
       "<script type=\"text/javascript\">\n",
       "  (function(spec, embedOpt){\n",
       "    let outputDiv = document.currentScript.previousElementSibling;\n",
       "    if (outputDiv.id !== \"altair-viz-44388764f794495dafc24d3d380bfca2\") {\n",
       "      outputDiv = document.getElementById(\"altair-viz-44388764f794495dafc24d3d380bfca2\");\n",
       "    }\n",
       "    const paths = {\n",
       "      \"vega\": \"https://cdn.jsdelivr.net/npm//vega@5?noext\",\n",
       "      \"vega-lib\": \"https://cdn.jsdelivr.net/npm//vega-lib?noext\",\n",
       "      \"vega-lite\": \"https://cdn.jsdelivr.net/npm//vega-lite@4.8.1?noext\",\n",
       "      \"vega-embed\": \"https://cdn.jsdelivr.net/npm//vega-embed@6?noext\",\n",
       "    };\n",
       "\n",
       "    function loadScript(lib) {\n",
       "      return new Promise(function(resolve, reject) {\n",
       "        var s = document.createElement('script');\n",
       "        s.src = paths[lib];\n",
       "        s.async = true;\n",
       "        s.onload = () => resolve(paths[lib]);\n",
       "        s.onerror = () => reject(`Error loading script: ${paths[lib]}`);\n",
       "        document.getElementsByTagName(\"head\")[0].appendChild(s);\n",
       "      });\n",
       "    }\n",
       "\n",
       "    function showError(err) {\n",
       "      outputDiv.innerHTML = `<div class=\"error\" style=\"color:red;\">${err}</div>`;\n",
       "      throw err;\n",
       "    }\n",
       "\n",
       "    function displayChart(vegaEmbed) {\n",
       "      vegaEmbed(outputDiv, spec, embedOpt)\n",
       "        .catch(err => showError(`Javascript Error: ${err.message}<br>This usually means there's a typo in your chart specification. See the javascript console for the full traceback.`));\n",
       "    }\n",
       "\n",
       "    if(typeof define === \"function\" && define.amd) {\n",
       "      requirejs.config({paths});\n",
       "      require([\"vega-embed\"], displayChart, err => showError(`Error loading script: ${err.message}`));\n",
       "    } else if (typeof vegaEmbed === \"function\") {\n",
       "      displayChart(vegaEmbed);\n",
       "    } else {\n",
       "      loadScript(\"vega\")\n",
       "        .then(() => loadScript(\"vega-lite\"))\n",
       "        .then(() => loadScript(\"vega-embed\"))\n",
       "        .catch(showError)\n",
       "        .then(() => displayChart(vegaEmbed));\n",
       "    }\n",
       "  })({\"config\": {\"view\": {\"continuousWidth\": 400, \"continuousHeight\": 300}}, \"data\": {\"name\": \"data-5e47f65a1c3fab87e42964c02f0e18c6\"}, \"mark\": \"bar\", \"encoding\": {\"color\": {\"type\": \"nominal\", \"field\": \"Victim\"}, \"column\": {\"type\": \"nominal\", \"field\": \"Category\"}, \"x\": {\"type\": \"ordinal\", \"field\": \"Victim\"}, \"y\": {\"type\": \"quantitative\", \"aggregate\": \"sum\", \"field\": \"Count\"}}, \"$schema\": \"https://vega.github.io/schema/vega-lite/v4.8.1.json\", \"datasets\": {\"data-5e47f65a1c3fab87e42964c02f0e18c6\": [{\"Category\": 15.0, \"Count\": 32, \"Victim\": \"Persons\"}, {\"Category\": 15.0, \"Count\": 32, \"Victim\": \"Motorist\"}]}}, {\"mode\": \"vega-lite\"});\n",
       "</script>"
      ],
      "text/plain": [
       "alt.Chart(...)"
      ]
     },
     "metadata": {},
     "output_type": "display_data"
    },
    {
     "data": {
      "text/html": [
       "\n",
       "<div id=\"altair-viz-b53677e4b10d48abb4bb8f53e4dd3587\"></div>\n",
       "<script type=\"text/javascript\">\n",
       "  (function(spec, embedOpt){\n",
       "    let outputDiv = document.currentScript.previousElementSibling;\n",
       "    if (outputDiv.id !== \"altair-viz-b53677e4b10d48abb4bb8f53e4dd3587\") {\n",
       "      outputDiv = document.getElementById(\"altair-viz-b53677e4b10d48abb4bb8f53e4dd3587\");\n",
       "    }\n",
       "    const paths = {\n",
       "      \"vega\": \"https://cdn.jsdelivr.net/npm//vega@5?noext\",\n",
       "      \"vega-lib\": \"https://cdn.jsdelivr.net/npm//vega-lib?noext\",\n",
       "      \"vega-lite\": \"https://cdn.jsdelivr.net/npm//vega-lite@4.8.1?noext\",\n",
       "      \"vega-embed\": \"https://cdn.jsdelivr.net/npm//vega-embed@6?noext\",\n",
       "    };\n",
       "\n",
       "    function loadScript(lib) {\n",
       "      return new Promise(function(resolve, reject) {\n",
       "        var s = document.createElement('script');\n",
       "        s.src = paths[lib];\n",
       "        s.async = true;\n",
       "        s.onload = () => resolve(paths[lib]);\n",
       "        s.onerror = () => reject(`Error loading script: ${paths[lib]}`);\n",
       "        document.getElementsByTagName(\"head\")[0].appendChild(s);\n",
       "      });\n",
       "    }\n",
       "\n",
       "    function showError(err) {\n",
       "      outputDiv.innerHTML = `<div class=\"error\" style=\"color:red;\">${err}</div>`;\n",
       "      throw err;\n",
       "    }\n",
       "\n",
       "    function displayChart(vegaEmbed) {\n",
       "      vegaEmbed(outputDiv, spec, embedOpt)\n",
       "        .catch(err => showError(`Javascript Error: ${err.message}<br>This usually means there's a typo in your chart specification. See the javascript console for the full traceback.`));\n",
       "    }\n",
       "\n",
       "    if(typeof define === \"function\" && define.amd) {\n",
       "      requirejs.config({paths});\n",
       "      require([\"vega-embed\"], displayChart, err => showError(`Error loading script: ${err.message}`));\n",
       "    } else if (typeof vegaEmbed === \"function\") {\n",
       "      displayChart(vegaEmbed);\n",
       "    } else {\n",
       "      loadScript(\"vega\")\n",
       "        .then(() => loadScript(\"vega-lite\"))\n",
       "        .then(() => loadScript(\"vega-embed\"))\n",
       "        .catch(showError)\n",
       "        .then(() => displayChart(vegaEmbed));\n",
       "    }\n",
       "  })({\"config\": {\"view\": {\"continuousWidth\": 400, \"continuousHeight\": 300}}, \"data\": {\"name\": \"data-c8c0451cec290003e3556e53802faf8f\"}, \"mark\": \"bar\", \"encoding\": {\"color\": {\"type\": \"nominal\", \"field\": \"Victim\"}, \"column\": {\"type\": \"nominal\", \"field\": \"Category\"}, \"x\": {\"type\": \"ordinal\", \"field\": \"Victim\"}, \"y\": {\"type\": \"quantitative\", \"aggregate\": \"sum\", \"field\": \"Count\"}}, \"$schema\": \"https://vega.github.io/schema/vega-lite/v4.8.1.json\", \"datasets\": {\"data-c8c0451cec290003e3556e53802faf8f\": [{\"Category\": 13.0, \"Count\": 28, \"Victim\": \"Persons\"}, {\"Category\": 13.0, \"Count\": 28, \"Victim\": \"Motorist\"}]}}, {\"mode\": \"vega-lite\"});\n",
       "</script>"
      ],
      "text/plain": [
       "alt.Chart(...)"
      ]
     },
     "metadata": {},
     "output_type": "display_data"
    },
    {
     "data": {
      "text/html": [
       "\n",
       "<div id=\"altair-viz-6dbd632309d7476a99dae13daae6f421\"></div>\n",
       "<script type=\"text/javascript\">\n",
       "  (function(spec, embedOpt){\n",
       "    let outputDiv = document.currentScript.previousElementSibling;\n",
       "    if (outputDiv.id !== \"altair-viz-6dbd632309d7476a99dae13daae6f421\") {\n",
       "      outputDiv = document.getElementById(\"altair-viz-6dbd632309d7476a99dae13daae6f421\");\n",
       "    }\n",
       "    const paths = {\n",
       "      \"vega\": \"https://cdn.jsdelivr.net/npm//vega@5?noext\",\n",
       "      \"vega-lib\": \"https://cdn.jsdelivr.net/npm//vega-lib?noext\",\n",
       "      \"vega-lite\": \"https://cdn.jsdelivr.net/npm//vega-lite@4.8.1?noext\",\n",
       "      \"vega-embed\": \"https://cdn.jsdelivr.net/npm//vega-embed@6?noext\",\n",
       "    };\n",
       "\n",
       "    function loadScript(lib) {\n",
       "      return new Promise(function(resolve, reject) {\n",
       "        var s = document.createElement('script');\n",
       "        s.src = paths[lib];\n",
       "        s.async = true;\n",
       "        s.onload = () => resolve(paths[lib]);\n",
       "        s.onerror = () => reject(`Error loading script: ${paths[lib]}`);\n",
       "        document.getElementsByTagName(\"head\")[0].appendChild(s);\n",
       "      });\n",
       "    }\n",
       "\n",
       "    function showError(err) {\n",
       "      outputDiv.innerHTML = `<div class=\"error\" style=\"color:red;\">${err}</div>`;\n",
       "      throw err;\n",
       "    }\n",
       "\n",
       "    function displayChart(vegaEmbed) {\n",
       "      vegaEmbed(outputDiv, spec, embedOpt)\n",
       "        .catch(err => showError(`Javascript Error: ${err.message}<br>This usually means there's a typo in your chart specification. See the javascript console for the full traceback.`));\n",
       "    }\n",
       "\n",
       "    if(typeof define === \"function\" && define.amd) {\n",
       "      requirejs.config({paths});\n",
       "      require([\"vega-embed\"], displayChart, err => showError(`Error loading script: ${err.message}`));\n",
       "    } else if (typeof vegaEmbed === \"function\") {\n",
       "      displayChart(vegaEmbed);\n",
       "    } else {\n",
       "      loadScript(\"vega\")\n",
       "        .then(() => loadScript(\"vega-lite\"))\n",
       "        .then(() => loadScript(\"vega-embed\"))\n",
       "        .catch(showError)\n",
       "        .then(() => displayChart(vegaEmbed));\n",
       "    }\n",
       "  })({\"config\": {\"view\": {\"continuousWidth\": 400, \"continuousHeight\": 300}}, \"data\": {\"name\": \"data-06282fe1e04fc9aad65200188dc8c003\"}, \"mark\": \"bar\", \"encoding\": {\"color\": {\"type\": \"nominal\", \"field\": \"Victim\"}, \"column\": {\"type\": \"nominal\", \"field\": \"Category\"}, \"x\": {\"type\": \"ordinal\", \"field\": \"Victim\"}, \"y\": {\"type\": \"quantitative\", \"aggregate\": \"sum\", \"field\": \"Count\"}}, \"$schema\": \"https://vega.github.io/schema/vega-lite/v4.8.1.json\", \"datasets\": {\"data-06282fe1e04fc9aad65200188dc8c003\": [{\"Category\": 11.0, \"Count\": 27, \"Victim\": \"Persons\"}, {\"Category\": 11.0, \"Count\": 27, \"Victim\": \"Motorist\"}]}}, {\"mode\": \"vega-lite\"});\n",
       "</script>"
      ],
      "text/plain": [
       "alt.Chart(...)"
      ]
     },
     "metadata": {},
     "output_type": "display_data"
    },
    {
     "data": {
      "text/html": [
       "\n",
       "<div id=\"altair-viz-3b1f035765104411ba1c98fede76fe6d\"></div>\n",
       "<script type=\"text/javascript\">\n",
       "  (function(spec, embedOpt){\n",
       "    let outputDiv = document.currentScript.previousElementSibling;\n",
       "    if (outputDiv.id !== \"altair-viz-3b1f035765104411ba1c98fede76fe6d\") {\n",
       "      outputDiv = document.getElementById(\"altair-viz-3b1f035765104411ba1c98fede76fe6d\");\n",
       "    }\n",
       "    const paths = {\n",
       "      \"vega\": \"https://cdn.jsdelivr.net/npm//vega@5?noext\",\n",
       "      \"vega-lib\": \"https://cdn.jsdelivr.net/npm//vega-lib?noext\",\n",
       "      \"vega-lite\": \"https://cdn.jsdelivr.net/npm//vega-lite@4.8.1?noext\",\n",
       "      \"vega-embed\": \"https://cdn.jsdelivr.net/npm//vega-embed@6?noext\",\n",
       "    };\n",
       "\n",
       "    function loadScript(lib) {\n",
       "      return new Promise(function(resolve, reject) {\n",
       "        var s = document.createElement('script');\n",
       "        s.src = paths[lib];\n",
       "        s.async = true;\n",
       "        s.onload = () => resolve(paths[lib]);\n",
       "        s.onerror = () => reject(`Error loading script: ${paths[lib]}`);\n",
       "        document.getElementsByTagName(\"head\")[0].appendChild(s);\n",
       "      });\n",
       "    }\n",
       "\n",
       "    function showError(err) {\n",
       "      outputDiv.innerHTML = `<div class=\"error\" style=\"color:red;\">${err}</div>`;\n",
       "      throw err;\n",
       "    }\n",
       "\n",
       "    function displayChart(vegaEmbed) {\n",
       "      vegaEmbed(outputDiv, spec, embedOpt)\n",
       "        .catch(err => showError(`Javascript Error: ${err.message}<br>This usually means there's a typo in your chart specification. See the javascript console for the full traceback.`));\n",
       "    }\n",
       "\n",
       "    if(typeof define === \"function\" && define.amd) {\n",
       "      requirejs.config({paths});\n",
       "      require([\"vega-embed\"], displayChart, err => showError(`Error loading script: ${err.message}`));\n",
       "    } else if (typeof vegaEmbed === \"function\") {\n",
       "      displayChart(vegaEmbed);\n",
       "    } else {\n",
       "      loadScript(\"vega\")\n",
       "        .then(() => loadScript(\"vega-lite\"))\n",
       "        .then(() => loadScript(\"vega-embed\"))\n",
       "        .catch(showError)\n",
       "        .then(() => displayChart(vegaEmbed));\n",
       "    }\n",
       "  })({\"config\": {\"view\": {\"continuousWidth\": 400, \"continuousHeight\": 300}}, \"data\": {\"name\": \"data-9f7fd961ae8029f3ac6e962dff45ff47\"}, \"mark\": \"bar\", \"encoding\": {\"color\": {\"type\": \"nominal\", \"field\": \"Victim\"}, \"column\": {\"type\": \"nominal\", \"field\": \"Category\"}, \"x\": {\"type\": \"ordinal\", \"field\": \"Victim\"}, \"y\": {\"type\": \"quantitative\", \"aggregate\": \"sum\", \"field\": \"Count\"}}, \"$schema\": \"https://vega.github.io/schema/vega-lite/v4.8.1.json\", \"datasets\": {\"data-9f7fd961ae8029f3ac6e962dff45ff47\": [{\"Category\": 12.0, \"Count\": 22, \"Victim\": \"Persons\"}, {\"Category\": 12.0, \"Count\": 22, \"Victim\": \"Motorist\"}]}}, {\"mode\": \"vega-lite\"});\n",
       "</script>"
      ],
      "text/plain": [
       "alt.Chart(...)"
      ]
     },
     "metadata": {},
     "output_type": "display_data"
    },
    {
     "data": {
      "text/html": [
       "\n",
       "<div id=\"altair-viz-70d37084288545c69b5923efe137310d\"></div>\n",
       "<script type=\"text/javascript\">\n",
       "  (function(spec, embedOpt){\n",
       "    let outputDiv = document.currentScript.previousElementSibling;\n",
       "    if (outputDiv.id !== \"altair-viz-70d37084288545c69b5923efe137310d\") {\n",
       "      outputDiv = document.getElementById(\"altair-viz-70d37084288545c69b5923efe137310d\");\n",
       "    }\n",
       "    const paths = {\n",
       "      \"vega\": \"https://cdn.jsdelivr.net/npm//vega@5?noext\",\n",
       "      \"vega-lib\": \"https://cdn.jsdelivr.net/npm//vega-lib?noext\",\n",
       "      \"vega-lite\": \"https://cdn.jsdelivr.net/npm//vega-lite@4.8.1?noext\",\n",
       "      \"vega-embed\": \"https://cdn.jsdelivr.net/npm//vega-embed@6?noext\",\n",
       "    };\n",
       "\n",
       "    function loadScript(lib) {\n",
       "      return new Promise(function(resolve, reject) {\n",
       "        var s = document.createElement('script');\n",
       "        s.src = paths[lib];\n",
       "        s.async = true;\n",
       "        s.onload = () => resolve(paths[lib]);\n",
       "        s.onerror = () => reject(`Error loading script: ${paths[lib]}`);\n",
       "        document.getElementsByTagName(\"head\")[0].appendChild(s);\n",
       "      });\n",
       "    }\n",
       "\n",
       "    function showError(err) {\n",
       "      outputDiv.innerHTML = `<div class=\"error\" style=\"color:red;\">${err}</div>`;\n",
       "      throw err;\n",
       "    }\n",
       "\n",
       "    function displayChart(vegaEmbed) {\n",
       "      vegaEmbed(outputDiv, spec, embedOpt)\n",
       "        .catch(err => showError(`Javascript Error: ${err.message}<br>This usually means there's a typo in your chart specification. See the javascript console for the full traceback.`));\n",
       "    }\n",
       "\n",
       "    if(typeof define === \"function\" && define.amd) {\n",
       "      requirejs.config({paths});\n",
       "      require([\"vega-embed\"], displayChart, err => showError(`Error loading script: ${err.message}`));\n",
       "    } else if (typeof vegaEmbed === \"function\") {\n",
       "      displayChart(vegaEmbed);\n",
       "    } else {\n",
       "      loadScript(\"vega\")\n",
       "        .then(() => loadScript(\"vega-lite\"))\n",
       "        .then(() => loadScript(\"vega-embed\"))\n",
       "        .catch(showError)\n",
       "        .then(() => displayChart(vegaEmbed));\n",
       "    }\n",
       "  })({\"config\": {\"view\": {\"continuousWidth\": 400, \"continuousHeight\": 300}}, \"data\": {\"name\": \"data-ed402ed05fab76d1574dd2b925140ba2\"}, \"mark\": \"bar\", \"encoding\": {\"color\": {\"type\": \"nominal\", \"field\": \"Victim\"}, \"column\": {\"type\": \"nominal\", \"field\": \"Category\"}, \"x\": {\"type\": \"ordinal\", \"field\": \"Victim\"}, \"y\": {\"type\": \"quantitative\", \"aggregate\": \"sum\", \"field\": \"Count\"}}, \"$schema\": \"https://vega.github.io/schema/vega-lite/v4.8.1.json\", \"datasets\": {\"data-ed402ed05fab76d1574dd2b925140ba2\": [{\"Category\": 14.0, \"Count\": 20, \"Victim\": \"Persons\"}, {\"Category\": 14.0, \"Count\": 20, \"Victim\": \"Motorist\"}]}}, {\"mode\": \"vega-lite\"});\n",
       "</script>"
      ],
      "text/plain": [
       "alt.Chart(...)"
      ]
     },
     "metadata": {},
     "output_type": "display_data"
    },
    {
     "data": {
      "text/html": [
       "\n",
       "<div id=\"altair-viz-cea4f4cde48043ca9d8315400b6f54d9\"></div>\n",
       "<script type=\"text/javascript\">\n",
       "  (function(spec, embedOpt){\n",
       "    let outputDiv = document.currentScript.previousElementSibling;\n",
       "    if (outputDiv.id !== \"altair-viz-cea4f4cde48043ca9d8315400b6f54d9\") {\n",
       "      outputDiv = document.getElementById(\"altair-viz-cea4f4cde48043ca9d8315400b6f54d9\");\n",
       "    }\n",
       "    const paths = {\n",
       "      \"vega\": \"https://cdn.jsdelivr.net/npm//vega@5?noext\",\n",
       "      \"vega-lib\": \"https://cdn.jsdelivr.net/npm//vega-lib?noext\",\n",
       "      \"vega-lite\": \"https://cdn.jsdelivr.net/npm//vega-lite@4.8.1?noext\",\n",
       "      \"vega-embed\": \"https://cdn.jsdelivr.net/npm//vega-embed@6?noext\",\n",
       "    };\n",
       "\n",
       "    function loadScript(lib) {\n",
       "      return new Promise(function(resolve, reject) {\n",
       "        var s = document.createElement('script');\n",
       "        s.src = paths[lib];\n",
       "        s.async = true;\n",
       "        s.onload = () => resolve(paths[lib]);\n",
       "        s.onerror = () => reject(`Error loading script: ${paths[lib]}`);\n",
       "        document.getElementsByTagName(\"head\")[0].appendChild(s);\n",
       "      });\n",
       "    }\n",
       "\n",
       "    function showError(err) {\n",
       "      outputDiv.innerHTML = `<div class=\"error\" style=\"color:red;\">${err}</div>`;\n",
       "      throw err;\n",
       "    }\n",
       "\n",
       "    function displayChart(vegaEmbed) {\n",
       "      vegaEmbed(outputDiv, spec, embedOpt)\n",
       "        .catch(err => showError(`Javascript Error: ${err.message}<br>This usually means there's a typo in your chart specification. See the javascript console for the full traceback.`));\n",
       "    }\n",
       "\n",
       "    if(typeof define === \"function\" && define.amd) {\n",
       "      requirejs.config({paths});\n",
       "      require([\"vega-embed\"], displayChart, err => showError(`Error loading script: ${err.message}`));\n",
       "    } else if (typeof vegaEmbed === \"function\") {\n",
       "      displayChart(vegaEmbed);\n",
       "    } else {\n",
       "      loadScript(\"vega\")\n",
       "        .then(() => loadScript(\"vega-lite\"))\n",
       "        .then(() => loadScript(\"vega-embed\"))\n",
       "        .catch(showError)\n",
       "        .then(() => displayChart(vegaEmbed));\n",
       "    }\n",
       "  })({\"config\": {\"view\": {\"continuousWidth\": 400, \"continuousHeight\": 300}}, \"data\": {\"name\": \"data-067e9c31070f3d89dff3fce94cb744bf\"}, \"mark\": \"bar\", \"encoding\": {\"color\": {\"type\": \"nominal\", \"field\": \"Victim\"}, \"column\": {\"type\": \"nominal\", \"field\": \"Category\"}, \"x\": {\"type\": \"ordinal\", \"field\": \"Victim\"}, \"y\": {\"type\": \"quantitative\", \"aggregate\": \"sum\", \"field\": \"Count\"}}, \"$schema\": \"https://vega.github.io/schema/vega-lite/v4.8.1.json\", \"datasets\": {\"data-067e9c31070f3d89dff3fce94cb744bf\": [{\"Category\": 20.0, \"Count\": 16, \"Victim\": \"Persons\"}, {\"Category\": 20.0, \"Count\": 16, \"Victim\": \"Motorist\"}]}}, {\"mode\": \"vega-lite\"});\n",
       "</script>"
      ],
      "text/plain": [
       "alt.Chart(...)"
      ]
     },
     "metadata": {},
     "output_type": "display_data"
    },
    {
     "data": {
      "text/html": [
       "\n",
       "<div id=\"altair-viz-2f535ecc77d24123b4b773f971f8525b\"></div>\n",
       "<script type=\"text/javascript\">\n",
       "  (function(spec, embedOpt){\n",
       "    let outputDiv = document.currentScript.previousElementSibling;\n",
       "    if (outputDiv.id !== \"altair-viz-2f535ecc77d24123b4b773f971f8525b\") {\n",
       "      outputDiv = document.getElementById(\"altair-viz-2f535ecc77d24123b4b773f971f8525b\");\n",
       "    }\n",
       "    const paths = {\n",
       "      \"vega\": \"https://cdn.jsdelivr.net/npm//vega@5?noext\",\n",
       "      \"vega-lib\": \"https://cdn.jsdelivr.net/npm//vega-lib?noext\",\n",
       "      \"vega-lite\": \"https://cdn.jsdelivr.net/npm//vega-lite@4.8.1?noext\",\n",
       "      \"vega-embed\": \"https://cdn.jsdelivr.net/npm//vega-embed@6?noext\",\n",
       "    };\n",
       "\n",
       "    function loadScript(lib) {\n",
       "      return new Promise(function(resolve, reject) {\n",
       "        var s = document.createElement('script');\n",
       "        s.src = paths[lib];\n",
       "        s.async = true;\n",
       "        s.onload = () => resolve(paths[lib]);\n",
       "        s.onerror = () => reject(`Error loading script: ${paths[lib]}`);\n",
       "        document.getElementsByTagName(\"head\")[0].appendChild(s);\n",
       "      });\n",
       "    }\n",
       "\n",
       "    function showError(err) {\n",
       "      outputDiv.innerHTML = `<div class=\"error\" style=\"color:red;\">${err}</div>`;\n",
       "      throw err;\n",
       "    }\n",
       "\n",
       "    function displayChart(vegaEmbed) {\n",
       "      vegaEmbed(outputDiv, spec, embedOpt)\n",
       "        .catch(err => showError(`Javascript Error: ${err.message}<br>This usually means there's a typo in your chart specification. See the javascript console for the full traceback.`));\n",
       "    }\n",
       "\n",
       "    if(typeof define === \"function\" && define.amd) {\n",
       "      requirejs.config({paths});\n",
       "      require([\"vega-embed\"], displayChart, err => showError(`Error loading script: ${err.message}`));\n",
       "    } else if (typeof vegaEmbed === \"function\") {\n",
       "      displayChart(vegaEmbed);\n",
       "    } else {\n",
       "      loadScript(\"vega\")\n",
       "        .then(() => loadScript(\"vega-lite\"))\n",
       "        .then(() => loadScript(\"vega-embed\"))\n",
       "        .catch(showError)\n",
       "        .then(() => displayChart(vegaEmbed));\n",
       "    }\n",
       "  })({\"config\": {\"view\": {\"continuousWidth\": 400, \"continuousHeight\": 300}}, \"data\": {\"name\": \"data-68a7495c714efa41284f5c7582774be4\"}, \"mark\": \"bar\", \"encoding\": {\"color\": {\"type\": \"nominal\", \"field\": \"Victim\"}, \"column\": {\"type\": \"nominal\", \"field\": \"Category\"}, \"x\": {\"type\": \"ordinal\", \"field\": \"Victim\"}, \"y\": {\"type\": \"quantitative\", \"aggregate\": \"sum\", \"field\": \"Count\"}}, \"$schema\": \"https://vega.github.io/schema/vega-lite/v4.8.1.json\", \"datasets\": {\"data-68a7495c714efa41284f5c7582774be4\": [{\"Category\": 21.0, \"Count\": 60, \"Victim\": \"Motorist\"}]}}, {\"mode\": \"vega-lite\"});\n",
       "</script>"
      ],
      "text/plain": [
       "alt.Chart(...)"
      ]
     },
     "metadata": {},
     "output_type": "display_data"
    }
   ],
   "source": [
    "all_vals_category = injury_comparison_combined_df['Category'].unique()\n",
    "\n",
    "charts = []\n",
    "\n",
    "for val in all_vals_category:\n",
    "    chart = alt.Chart(injury_comparison_combined_df[injury_comparison_combined_df['Category'] == val]).mark_bar().encode(\n",
    "        x='Victim:O',\n",
    "        y='sum(Count):Q',\n",
    "        color='Victim:N',\n",
    "        column='Category:N'\n",
    "    )\n",
    "\n",
    "    chart.display()"
   ]
  },
  {
   "cell_type": "markdown",
   "metadata": {},
   "source": [
    "## Q4. Attributes of vehicles with most accidents <a class=\"anchor\" id=\"q4_start\"></a>"
   ]
  },
  {
   "cell_type": "markdown",
   "metadata": {},
   "source": [
    "### Vehicle | Type:  Comparing crashes by vehicle types"
   ]
  },
  {
   "cell_type": "code",
   "execution_count": 37,
   "metadata": {},
   "outputs": [
    {
     "data": {
      "text/plain": [
       "[('Sedan', 396927),\n",
       " ('Station Wagon/Sport Utility Vehicle', 317809),\n",
       " ('Taxi', 43815),\n",
       " ('Pick-up Truck', 27956),\n",
       " ('Box Truck', 18856),\n",
       " ('Bus', 18220),\n",
       " ('Bike', 9482),\n",
       " ('Tractor Truck Diesel', 7155),\n",
       " ('Van', 6098),\n",
       " ('Motorcycle', 3756)]"
      ]
     },
     "execution_count": 37,
     "metadata": {},
     "output_type": "execute_result"
    }
   ],
   "source": [
    "vehicle_types_combined = Counter(sample_mv_combined_df['VEHICLE_TYPE'].value_counts().to_dict())\n",
    "vehicle_types_combined.pop('Does Not Apply', None)\n",
    "vehicle_types_combined.pop('Unknown', None)\n",
    "vehicle_types_combined_df = pd.DataFrame(vehicle_types_combined.items(), columns=['Factor', 'Count'])\n",
    "\n",
    "# Top 10 pre crash events\n",
    "vehicle_types_combined.most_common(10)"
   ]
  },
  {
   "cell_type": "code",
   "execution_count": 38,
   "metadata": {},
   "outputs": [
    {
     "data": {
      "text/html": [
       "\n",
       "<div id=\"altair-viz-d4ff41d8c9e64547a64a9f9fecb16ea4\"></div>\n",
       "<script type=\"text/javascript\">\n",
       "  (function(spec, embedOpt){\n",
       "    let outputDiv = document.currentScript.previousElementSibling;\n",
       "    if (outputDiv.id !== \"altair-viz-d4ff41d8c9e64547a64a9f9fecb16ea4\") {\n",
       "      outputDiv = document.getElementById(\"altair-viz-d4ff41d8c9e64547a64a9f9fecb16ea4\");\n",
       "    }\n",
       "    const paths = {\n",
       "      \"vega\": \"https://cdn.jsdelivr.net/npm//vega@5?noext\",\n",
       "      \"vega-lib\": \"https://cdn.jsdelivr.net/npm//vega-lib?noext\",\n",
       "      \"vega-lite\": \"https://cdn.jsdelivr.net/npm//vega-lite@4.8.1?noext\",\n",
       "      \"vega-embed\": \"https://cdn.jsdelivr.net/npm//vega-embed@6?noext\",\n",
       "    };\n",
       "\n",
       "    function loadScript(lib) {\n",
       "      return new Promise(function(resolve, reject) {\n",
       "        var s = document.createElement('script');\n",
       "        s.src = paths[lib];\n",
       "        s.async = true;\n",
       "        s.onload = () => resolve(paths[lib]);\n",
       "        s.onerror = () => reject(`Error loading script: ${paths[lib]}`);\n",
       "        document.getElementsByTagName(\"head\")[0].appendChild(s);\n",
       "      });\n",
       "    }\n",
       "\n",
       "    function showError(err) {\n",
       "      outputDiv.innerHTML = `<div class=\"error\" style=\"color:red;\">${err}</div>`;\n",
       "      throw err;\n",
       "    }\n",
       "\n",
       "    function displayChart(vegaEmbed) {\n",
       "      vegaEmbed(outputDiv, spec, embedOpt)\n",
       "        .catch(err => showError(`Javascript Error: ${err.message}<br>This usually means there's a typo in your chart specification. See the javascript console for the full traceback.`));\n",
       "    }\n",
       "\n",
       "    if(typeof define === \"function\" && define.amd) {\n",
       "      requirejs.config({paths});\n",
       "      require([\"vega-embed\"], displayChart, err => showError(`Error loading script: ${err.message}`));\n",
       "    } else if (typeof vegaEmbed === \"function\") {\n",
       "      displayChart(vegaEmbed);\n",
       "    } else {\n",
       "      loadScript(\"vega\")\n",
       "        .then(() => loadScript(\"vega-lite\"))\n",
       "        .then(() => loadScript(\"vega-embed\"))\n",
       "        .catch(showError)\n",
       "        .then(() => displayChart(vegaEmbed));\n",
       "    }\n",
       "  })({\"config\": {\"view\": {\"continuousWidth\": 400, \"continuousHeight\": 300}}, \"data\": {\"name\": \"data-1d40310655c96672e2240a4f0f5c9bef\"}, \"mark\": \"bar\", \"encoding\": {\"x\": {\"type\": \"quantitative\", \"aggregate\": \"sum\", \"field\": \"Count\"}, \"y\": {\"type\": \"nominal\", \"field\": \"Factor\", \"sort\": \"-x\"}}, \"$schema\": \"https://vega.github.io/schema/vega-lite/v4.8.1.json\", \"datasets\": {\"data-1d40310655c96672e2240a4f0f5c9bef\": [{\"Factor\": \"Sedan\", \"Count\": 396927}, {\"Factor\": \"Station Wagon/Sport Utility Vehicle\", \"Count\": 317809}, {\"Factor\": \"Taxi\", \"Count\": 43815}, {\"Factor\": \"Pick-up Truck\", \"Count\": 27956}, {\"Factor\": \"Box Truck\", \"Count\": 18856}, {\"Factor\": \"Bus\", \"Count\": 18220}, {\"Factor\": \"Bike\", \"Count\": 9482}, {\"Factor\": \"Tractor Truck Diesel\", \"Count\": 7155}, {\"Factor\": \"Van\", \"Count\": 6098}, {\"Factor\": \"Motorcycle\", \"Count\": 3756}]}}, {\"mode\": \"vega-lite\"});\n",
       "</script>"
      ],
      "text/plain": [
       "alt.Chart(...)"
      ]
     },
     "execution_count": 38,
     "metadata": {},
     "output_type": "execute_result"
    }
   ],
   "source": [
    "alt.Chart(vehicle_types_combined_df.nlargest(10, 'Count')).mark_bar().encode(\n",
    "    x='sum(Count)',\n",
    "    y=alt.Y('Factor:N',sort='-x')\n",
    ")"
   ]
  },
  {
   "cell_type": "markdown",
   "metadata": {},
   "source": [
    "### Vehicle | Makes:  Comparing crashes by vehicle makes"
   ]
  },
  {
   "cell_type": "code",
   "execution_count": 39,
   "metadata": {},
   "outputs": [
    {
     "data": {
      "text/plain": [
       "[('TOYT -CAR/SUV', 156536),\n",
       " ('HOND -CAR/SUV', 104890),\n",
       " ('NISS -CAR/SUV', 89058),\n",
       " ('FORD -CAR/SUV', 73373),\n",
       " ('CHEV -CAR/SUV', 41425),\n",
       " ('HYUN -CAR/SUV', 30894),\n",
       " ('MERZ -CAR/SUV', 27034),\n",
       " ('JEEP -CAR/SUV', 26577),\n",
       " ('BMW -CAR/SUV', 24705),\n",
       " ('DODG -CAR/SUV', 21875)]"
      ]
     },
     "execution_count": 39,
     "metadata": {},
     "output_type": "execute_result"
    }
   ],
   "source": [
    "vehicle_makes_combined = Counter(sample_mv_combined_df['VEHICLE_MAKE'].value_counts().to_dict())\n",
    "vehicle_makes_combined.pop('Does Not Apply', None)\n",
    "vehicle_makes_combined.pop('Unknown', None)\n",
    "vehicle_makes_combined_df = pd.DataFrame(vehicle_makes_combined.items(), columns=['Factor', 'Count'])\n",
    "\n",
    "# Top 10 pre crash events\n",
    "vehicle_makes_combined.most_common(10)"
   ]
  },
  {
   "cell_type": "code",
   "execution_count": 40,
   "metadata": {},
   "outputs": [
    {
     "data": {
      "text/html": [
       "\n",
       "<div id=\"altair-viz-da9208e018ce46b7b15eada9ddc43c87\"></div>\n",
       "<script type=\"text/javascript\">\n",
       "  (function(spec, embedOpt){\n",
       "    let outputDiv = document.currentScript.previousElementSibling;\n",
       "    if (outputDiv.id !== \"altair-viz-da9208e018ce46b7b15eada9ddc43c87\") {\n",
       "      outputDiv = document.getElementById(\"altair-viz-da9208e018ce46b7b15eada9ddc43c87\");\n",
       "    }\n",
       "    const paths = {\n",
       "      \"vega\": \"https://cdn.jsdelivr.net/npm//vega@5?noext\",\n",
       "      \"vega-lib\": \"https://cdn.jsdelivr.net/npm//vega-lib?noext\",\n",
       "      \"vega-lite\": \"https://cdn.jsdelivr.net/npm//vega-lite@4.8.1?noext\",\n",
       "      \"vega-embed\": \"https://cdn.jsdelivr.net/npm//vega-embed@6?noext\",\n",
       "    };\n",
       "\n",
       "    function loadScript(lib) {\n",
       "      return new Promise(function(resolve, reject) {\n",
       "        var s = document.createElement('script');\n",
       "        s.src = paths[lib];\n",
       "        s.async = true;\n",
       "        s.onload = () => resolve(paths[lib]);\n",
       "        s.onerror = () => reject(`Error loading script: ${paths[lib]}`);\n",
       "        document.getElementsByTagName(\"head\")[0].appendChild(s);\n",
       "      });\n",
       "    }\n",
       "\n",
       "    function showError(err) {\n",
       "      outputDiv.innerHTML = `<div class=\"error\" style=\"color:red;\">${err}</div>`;\n",
       "      throw err;\n",
       "    }\n",
       "\n",
       "    function displayChart(vegaEmbed) {\n",
       "      vegaEmbed(outputDiv, spec, embedOpt)\n",
       "        .catch(err => showError(`Javascript Error: ${err.message}<br>This usually means there's a typo in your chart specification. See the javascript console for the full traceback.`));\n",
       "    }\n",
       "\n",
       "    if(typeof define === \"function\" && define.amd) {\n",
       "      requirejs.config({paths});\n",
       "      require([\"vega-embed\"], displayChart, err => showError(`Error loading script: ${err.message}`));\n",
       "    } else if (typeof vegaEmbed === \"function\") {\n",
       "      displayChart(vegaEmbed);\n",
       "    } else {\n",
       "      loadScript(\"vega\")\n",
       "        .then(() => loadScript(\"vega-lite\"))\n",
       "        .then(() => loadScript(\"vega-embed\"))\n",
       "        .catch(showError)\n",
       "        .then(() => displayChart(vegaEmbed));\n",
       "    }\n",
       "  })({\"config\": {\"view\": {\"continuousWidth\": 400, \"continuousHeight\": 300}}, \"data\": {\"name\": \"data-5c44875840c761ed61d00bc4645b6d3f\"}, \"mark\": \"bar\", \"encoding\": {\"x\": {\"type\": \"quantitative\", \"aggregate\": \"sum\", \"field\": \"Count\"}, \"y\": {\"type\": \"nominal\", \"field\": \"Factor\", \"sort\": \"-x\"}}, \"$schema\": \"https://vega.github.io/schema/vega-lite/v4.8.1.json\", \"datasets\": {\"data-5c44875840c761ed61d00bc4645b6d3f\": [{\"Factor\": \"TOYT -CAR/SUV\", \"Count\": 156536}, {\"Factor\": \"HOND -CAR/SUV\", \"Count\": 104890}, {\"Factor\": \"NISS -CAR/SUV\", \"Count\": 89058}, {\"Factor\": \"FORD -CAR/SUV\", \"Count\": 73373}, {\"Factor\": \"CHEV -CAR/SUV\", \"Count\": 41425}, {\"Factor\": \"HYUN -CAR/SUV\", \"Count\": 30894}, {\"Factor\": \"MERZ -CAR/SUV\", \"Count\": 27034}, {\"Factor\": \"JEEP -CAR/SUV\", \"Count\": 26577}, {\"Factor\": \"BMW -CAR/SUV\", \"Count\": 24705}, {\"Factor\": \"DODG -CAR/SUV\", \"Count\": 21875}, {\"Factor\": \"LEXS -CAR/SUV\", \"Count\": 19674}, {\"Factor\": \"ACUR -CAR/SUV\", \"Count\": 17714}, {\"Factor\": \"INFI -CAR/SUV\", \"Count\": 16653}, {\"Factor\": \"VOLK -CAR/SUV\", \"Count\": 11731}, {\"Factor\": \"SUBA -CAR/SUV\", \"Count\": 11388}, {\"Factor\": \"CHRY -CAR/SUV\", \"Count\": 11149}, {\"Factor\": \"KIA -CAR/SUV\", \"Count\": 10237}, {\"Factor\": \"GMC -CAR/SUV\", \"Count\": 9842}, {\"Factor\": \"AUDI -CAR/SUV\", \"Count\": 9126}, {\"Factor\": \"MAZD -CAR/SUV\", \"Count\": 8945}]}}, {\"mode\": \"vega-lite\"});\n",
       "</script>"
      ],
      "text/plain": [
       "alt.Chart(...)"
      ]
     },
     "execution_count": 40,
     "metadata": {},
     "output_type": "execute_result"
    }
   ],
   "source": [
    "alt.Chart(vehicle_makes_combined_df.nlargest(20, 'Count')).mark_bar().encode(\n",
    "    x='sum(Count)',\n",
    "    y=alt.Y('Factor:N',sort='-x')\n",
    ")"
   ]
  },
  {
   "cell_type": "markdown",
   "metadata": {},
   "source": [
    "### Vehicle Market Share | Makes:  Comparing market share of vehicle makes in the dataset"
   ]
  },
  {
   "cell_type": "code",
   "execution_count": 42,
   "metadata": {},
   "outputs": [
    {
     "ename": "NameError",
     "evalue": "name 'vehicle_year_combined_df' is not defined",
     "output_type": "error",
     "traceback": [
      "\u001b[1;31m---------------------------------------------------------------------------\u001b[0m",
      "\u001b[1;31mNameError\u001b[0m                                 Traceback (most recent call last)",
      "\u001b[1;32m<ipython-input-42-951a5e485cea>\u001b[0m in \u001b[0;36m<module>\u001b[1;34m\u001b[0m\n\u001b[1;32m----> 1\u001b[1;33m \u001b[0mall_vehicle_count\u001b[0m \u001b[1;33m=\u001b[0m \u001b[0mvehicle_year_combined_df\u001b[0m\u001b[1;33m[\u001b[0m\u001b[1;34m'Count'\u001b[0m\u001b[1;33m]\u001b[0m\u001b[1;33m.\u001b[0m\u001b[0msum\u001b[0m\u001b[1;33m(\u001b[0m\u001b[1;33m)\u001b[0m\u001b[1;33m\u001b[0m\u001b[1;33m\u001b[0m\u001b[0m\n\u001b[0m\u001b[0;32m      2\u001b[0m \u001b[0mvehicle_makes_combined_df\u001b[0m\u001b[1;33m[\u001b[0m\u001b[1;34m'vehicle_share'\u001b[0m\u001b[1;33m]\u001b[0m \u001b[1;33m=\u001b[0m \u001b[0mvehicle_makes_combined_df\u001b[0m\u001b[1;33m.\u001b[0m\u001b[0mapply\u001b[0m\u001b[1;33m(\u001b[0m\u001b[1;32mlambda\u001b[0m \u001b[0mrow\u001b[0m\u001b[1;33m:\u001b[0m \u001b[1;33m(\u001b[0m\u001b[0mrow\u001b[0m\u001b[1;33m.\u001b[0m\u001b[0mCount\u001b[0m \u001b[1;33m/\u001b[0m \u001b[0mall_vehicle_count\u001b[0m\u001b[1;33m)\u001b[0m \u001b[1;33m*\u001b[0m \u001b[1;36m100\u001b[0m\u001b[1;33m,\u001b[0m \u001b[0maxis\u001b[0m\u001b[1;33m=\u001b[0m\u001b[1;36m1\u001b[0m\u001b[1;33m)\u001b[0m\u001b[1;33m\u001b[0m\u001b[1;33m\u001b[0m\u001b[0m\n\u001b[0;32m      3\u001b[0m \u001b[1;33m\u001b[0m\u001b[0m\n\u001b[0;32m      4\u001b[0m \u001b[0mvehicle_makes_combined\u001b[0m\u001b[1;33m.\u001b[0m\u001b[0mnlargest\u001b[0m\u001b[1;33m(\u001b[0m\u001b[1;36m10\u001b[0m\u001b[1;33m,\u001b[0m \u001b[1;34m'vehicle_share'\u001b[0m\u001b[1;33m)\u001b[0m\u001b[1;33m\u001b[0m\u001b[1;33m\u001b[0m\u001b[0m\n",
      "\u001b[1;31mNameError\u001b[0m: name 'vehicle_year_combined_df' is not defined"
     ]
    }
   ],
   "source": [
    "all_vehicle_count = vehicle_year_combined_df['Count'].sum()\n",
    "vehicle_makes_combined_df['vehicle_share'] = vehicle_makes_combined_df.apply(lambda row: (row.Count / all_vehicle_count) * 100, axis=1)\n",
    "\n",
    "vehicle_makes_combined.nlargest(10, 'vehicle_share')"
   ]
  },
  {
   "cell_type": "markdown",
   "metadata": {},
   "source": [
    "### Vehicle | Year:  Comparing crashes by vehicle year"
   ]
  },
  {
   "cell_type": "code",
   "execution_count": 43,
   "metadata": {},
   "outputs": [
    {
     "data": {
      "text/plain": [
       "[(2017.0, 107605),\n",
       " (2016.0, 96449),\n",
       " (2015.0, 85042),\n",
       " (2018.0, 64721),\n",
       " (2014.0, 62403),\n",
       " (2013.0, 52973),\n",
       " (2012.0, 42296),\n",
       " (2011.0, 37987),\n",
       " (2007.0, 34843),\n",
       " (2008.0, 33622)]"
      ]
     },
     "execution_count": 43,
     "metadata": {},
     "output_type": "execute_result"
    }
   ],
   "source": [
    "vehicle_year_combined = Counter(sample_mv_combined_df['VEHICLE_YEAR'].value_counts().to_dict())\n",
    "vehicle_year_combined.pop('Does Not Apply', None)\n",
    "vehicle_year_combined.pop('Unknown', None)\n",
    "vehicle_year_combined_df = pd.DataFrame(vehicle_year_combined.items(), columns=['Factor', 'Count'])\n",
    "\n",
    "# Top 10 pre crash events\n",
    "vehicle_year_combined.most_common(10)"
   ]
  },
  {
   "cell_type": "code",
   "execution_count": 44,
   "metadata": {},
   "outputs": [
    {
     "data": {
      "text/html": [
       "\n",
       "<div id=\"altair-viz-272f49ea0d5c4fda8cf5d6ca34e0b896\"></div>\n",
       "<script type=\"text/javascript\">\n",
       "  (function(spec, embedOpt){\n",
       "    let outputDiv = document.currentScript.previousElementSibling;\n",
       "    if (outputDiv.id !== \"altair-viz-272f49ea0d5c4fda8cf5d6ca34e0b896\") {\n",
       "      outputDiv = document.getElementById(\"altair-viz-272f49ea0d5c4fda8cf5d6ca34e0b896\");\n",
       "    }\n",
       "    const paths = {\n",
       "      \"vega\": \"https://cdn.jsdelivr.net/npm//vega@5?noext\",\n",
       "      \"vega-lib\": \"https://cdn.jsdelivr.net/npm//vega-lib?noext\",\n",
       "      \"vega-lite\": \"https://cdn.jsdelivr.net/npm//vega-lite@4.8.1?noext\",\n",
       "      \"vega-embed\": \"https://cdn.jsdelivr.net/npm//vega-embed@6?noext\",\n",
       "    };\n",
       "\n",
       "    function loadScript(lib) {\n",
       "      return new Promise(function(resolve, reject) {\n",
       "        var s = document.createElement('script');\n",
       "        s.src = paths[lib];\n",
       "        s.async = true;\n",
       "        s.onload = () => resolve(paths[lib]);\n",
       "        s.onerror = () => reject(`Error loading script: ${paths[lib]}`);\n",
       "        document.getElementsByTagName(\"head\")[0].appendChild(s);\n",
       "      });\n",
       "    }\n",
       "\n",
       "    function showError(err) {\n",
       "      outputDiv.innerHTML = `<div class=\"error\" style=\"color:red;\">${err}</div>`;\n",
       "      throw err;\n",
       "    }\n",
       "\n",
       "    function displayChart(vegaEmbed) {\n",
       "      vegaEmbed(outputDiv, spec, embedOpt)\n",
       "        .catch(err => showError(`Javascript Error: ${err.message}<br>This usually means there's a typo in your chart specification. See the javascript console for the full traceback.`));\n",
       "    }\n",
       "\n",
       "    if(typeof define === \"function\" && define.amd) {\n",
       "      requirejs.config({paths});\n",
       "      require([\"vega-embed\"], displayChart, err => showError(`Error loading script: ${err.message}`));\n",
       "    } else if (typeof vegaEmbed === \"function\") {\n",
       "      displayChart(vegaEmbed);\n",
       "    } else {\n",
       "      loadScript(\"vega\")\n",
       "        .then(() => loadScript(\"vega-lite\"))\n",
       "        .then(() => loadScript(\"vega-embed\"))\n",
       "        .catch(showError)\n",
       "        .then(() => displayChart(vegaEmbed));\n",
       "    }\n",
       "  })({\"config\": {\"view\": {\"continuousWidth\": 400, \"continuousHeight\": 300}}, \"data\": {\"name\": \"data-c7fce851ff1187272a5dda5db834de13\"}, \"mark\": \"bar\", \"encoding\": {\"x\": {\"type\": \"quantitative\", \"aggregate\": \"sum\", \"field\": \"Count\"}, \"y\": {\"type\": \"nominal\", \"field\": \"Factor\", \"sort\": \"-x\"}}, \"$schema\": \"https://vega.github.io/schema/vega-lite/v4.8.1.json\", \"datasets\": {\"data-c7fce851ff1187272a5dda5db834de13\": [{\"Factor\": 2017.0, \"Count\": 107605}, {\"Factor\": 2016.0, \"Count\": 96449}, {\"Factor\": 2015.0, \"Count\": 85042}, {\"Factor\": 2018.0, \"Count\": 64721}, {\"Factor\": 2014.0, \"Count\": 62403}, {\"Factor\": 2013.0, \"Count\": 52973}, {\"Factor\": 2012.0, \"Count\": 42296}, {\"Factor\": 2011.0, \"Count\": 37987}, {\"Factor\": 2007.0, \"Count\": 34843}, {\"Factor\": 2008.0, \"Count\": 33622}, {\"Factor\": 2010.0, \"Count\": 31643}, {\"Factor\": 2006.0, \"Count\": 30860}, {\"Factor\": 2005.0, \"Count\": 28628}, {\"Factor\": 2009.0, \"Count\": 28030}, {\"Factor\": 2004.0, \"Count\": 24248}, {\"Factor\": 2003.0, \"Count\": 20688}, {\"Factor\": 2002.0, \"Count\": 16240}, {\"Factor\": 2001.0, \"Count\": 12524}, {\"Factor\": 2000.0, \"Count\": 10860}, {\"Factor\": 1999.0, \"Count\": 7738}]}}, {\"mode\": \"vega-lite\"});\n",
       "</script>"
      ],
      "text/plain": [
       "alt.Chart(...)"
      ]
     },
     "execution_count": 44,
     "metadata": {},
     "output_type": "execute_result"
    }
   ],
   "source": [
    "alt.Chart(vehicle_year_combined_df.nlargest(20, 'Count')).mark_bar().encode(\n",
    "    x='sum(Count)',\n",
    "    y=alt.Y('Factor:N',sort='-x')\n",
    ")"
   ]
  },
  {
   "cell_type": "markdown",
   "metadata": {},
   "source": [
    "### Vehicle Market Share | Year:  Comparing market share of vehicle years in the dataset"
   ]
  },
  {
   "cell_type": "code",
   "execution_count": 45,
   "metadata": {},
   "outputs": [
    {
     "data": {
      "text/html": [
       "<div>\n",
       "<style scoped>\n",
       "    .dataframe tbody tr th:only-of-type {\n",
       "        vertical-align: middle;\n",
       "    }\n",
       "\n",
       "    .dataframe tbody tr th {\n",
       "        vertical-align: top;\n",
       "    }\n",
       "\n",
       "    .dataframe thead th {\n",
       "        text-align: right;\n",
       "    }\n",
       "</style>\n",
       "<table border=\"1\" class=\"dataframe\">\n",
       "  <thead>\n",
       "    <tr style=\"text-align: right;\">\n",
       "      <th></th>\n",
       "      <th>Factor</th>\n",
       "      <th>Count</th>\n",
       "      <th>vehicle_share</th>\n",
       "    </tr>\n",
       "  </thead>\n",
       "  <tbody>\n",
       "    <tr>\n",
       "      <th>0</th>\n",
       "      <td>2017.0</td>\n",
       "      <td>107605</td>\n",
       "      <td>12.637274</td>\n",
       "    </tr>\n",
       "    <tr>\n",
       "      <th>1</th>\n",
       "      <td>2016.0</td>\n",
       "      <td>96449</td>\n",
       "      <td>11.327099</td>\n",
       "    </tr>\n",
       "    <tr>\n",
       "      <th>2</th>\n",
       "      <td>2015.0</td>\n",
       "      <td>85042</td>\n",
       "      <td>9.987446</td>\n",
       "    </tr>\n",
       "    <tr>\n",
       "      <th>3</th>\n",
       "      <td>2018.0</td>\n",
       "      <td>64721</td>\n",
       "      <td>7.600920</td>\n",
       "    </tr>\n",
       "    <tr>\n",
       "      <th>4</th>\n",
       "      <td>2014.0</td>\n",
       "      <td>62403</td>\n",
       "      <td>7.328691</td>\n",
       "    </tr>\n",
       "    <tr>\n",
       "      <th>5</th>\n",
       "      <td>2013.0</td>\n",
       "      <td>52973</td>\n",
       "      <td>6.221220</td>\n",
       "    </tr>\n",
       "    <tr>\n",
       "      <th>6</th>\n",
       "      <td>2012.0</td>\n",
       "      <td>42296</td>\n",
       "      <td>4.967298</td>\n",
       "    </tr>\n",
       "    <tr>\n",
       "      <th>7</th>\n",
       "      <td>2011.0</td>\n",
       "      <td>37987</td>\n",
       "      <td>4.461244</td>\n",
       "    </tr>\n",
       "    <tr>\n",
       "      <th>8</th>\n",
       "      <td>2007.0</td>\n",
       "      <td>34843</td>\n",
       "      <td>4.092008</td>\n",
       "    </tr>\n",
       "    <tr>\n",
       "      <th>9</th>\n",
       "      <td>2008.0</td>\n",
       "      <td>33622</td>\n",
       "      <td>3.948612</td>\n",
       "    </tr>\n",
       "  </tbody>\n",
       "</table>\n",
       "</div>"
      ],
      "text/plain": [
       "   Factor   Count  vehicle_share\n",
       "0  2017.0  107605      12.637274\n",
       "1  2016.0   96449      11.327099\n",
       "2  2015.0   85042       9.987446\n",
       "3  2018.0   64721       7.600920\n",
       "4  2014.0   62403       7.328691\n",
       "5  2013.0   52973       6.221220\n",
       "6  2012.0   42296       4.967298\n",
       "7  2011.0   37987       4.461244\n",
       "8  2007.0   34843       4.092008\n",
       "9  2008.0   33622       3.948612"
      ]
     },
     "execution_count": 45,
     "metadata": {},
     "output_type": "execute_result"
    }
   ],
   "source": [
    "all_vehicle_count = vehicle_year_combined_df['Count'].sum()\n",
    "vehicle_year_combined_df['vehicle_share'] = vehicle_year_combined_df.apply(lambda row: (row.Count / all_vehicle_count) * 100, axis=1)\n",
    "\n",
    "vehicle_year_combined_df.nlargest(10, 'vehicle_share')"
   ]
  },
  {
   "cell_type": "markdown",
   "metadata": {},
   "source": [
    "### Vehicle | Make & Year:  Comparing crashes by vehicle make and year"
   ]
  },
  {
   "cell_type": "code",
   "execution_count": 46,
   "metadata": {},
   "outputs": [
    {
     "data": {
      "text/plain": [
       "[('TOYT -CAR/SUV | 2015.0', 22607),\n",
       " ('TOYT -CAR/SUV | 2017.0', 19279),\n",
       " ('TOYT -CAR/SUV | 2016.0', 18968),\n",
       " ('TOYT -CAR/SUV | 2014.0', 16274),\n",
       " ('HOND -CAR/SUV | 2017.0', 13486),\n",
       " ('HOND -CAR/SUV | 2016.0', 12636),\n",
       " ('NISS -CAR/SUV | 2017.0', 12418),\n",
       " ('NISS -CAR/SUV | 2016.0', 11826),\n",
       " ('TOYT -CAR/SUV | 2013.0', 10542),\n",
       " ('TOYT -CAR/SUV | 2018.0', 10129),\n",
       " ('NISS -CAR/SUV | 2015.0', 9913),\n",
       " ('FORD -CAR/SUV | 2017.0', 9067),\n",
       " ('HOND -CAR/SUV | 2015.0', 8274),\n",
       " ('HOND -CAR/SUV | 2018.0', 8239),\n",
       " ('TOYT -CAR/SUV | 2012.0', 8069)]"
      ]
     },
     "execution_count": 46,
     "metadata": {},
     "output_type": "execute_result"
    }
   ],
   "source": [
    "vehicle_make_year_raw_df = sample_mv_combined_df.copy()\n",
    "vehicle_make_year_raw_df.dropna(subset=['VEHICLE_MAKE'], inplace=True)\n",
    "vehicle_make_year_raw_df.dropna(subset=['VEHICLE_YEAR'], inplace=True)\n",
    "\n",
    "vehicle_make_year_raw_df['VEHICLE_MAKE_YEAR'] = vehicle_make_year_raw_df.apply(lambda row: str(row['VEHICLE_MAKE']) + ' | ' + str(row['VEHICLE_YEAR']), axis=1)\n",
    "\n",
    "vehicle_make_year_combined = Counter(vehicle_make_year_raw_df['VEHICLE_MAKE_YEAR'].value_counts().to_dict())\n",
    "vehicle_make_year_combined.pop('Does Not Apply', None)\n",
    "vehicle_make_year_combined.pop('Unknown', None)\n",
    "vehicle_make_year_combined_df = pd.DataFrame(vehicle_make_year_combined.items(), columns=['Factor', 'Count'])\n",
    "\n",
    "# Top 10 pre crash events\n",
    "vehicle_make_year_combined.most_common(15)"
   ]
  },
  {
   "cell_type": "markdown",
   "metadata": {},
   "source": [
    "### Vehicle Market Share | Make & Year:  Comparing market share of vehicle make and year combinations in the dataset"
   ]
  },
  {
   "cell_type": "code",
   "execution_count": 47,
   "metadata": {},
   "outputs": [
    {
     "data": {
      "text/html": [
       "<div>\n",
       "<style scoped>\n",
       "    .dataframe tbody tr th:only-of-type {\n",
       "        vertical-align: middle;\n",
       "    }\n",
       "\n",
       "    .dataframe tbody tr th {\n",
       "        vertical-align: top;\n",
       "    }\n",
       "\n",
       "    .dataframe thead th {\n",
       "        text-align: right;\n",
       "    }\n",
       "</style>\n",
       "<table border=\"1\" class=\"dataframe\">\n",
       "  <thead>\n",
       "    <tr style=\"text-align: right;\">\n",
       "      <th></th>\n",
       "      <th>Factor</th>\n",
       "      <th>Count</th>\n",
       "      <th>vehicle_share</th>\n",
       "    </tr>\n",
       "  </thead>\n",
       "  <tbody>\n",
       "    <tr>\n",
       "      <th>0</th>\n",
       "      <td>TOYT -CAR/SUV | 2015.0</td>\n",
       "      <td>22607</td>\n",
       "      <td>2.685928</td>\n",
       "    </tr>\n",
       "    <tr>\n",
       "      <th>1</th>\n",
       "      <td>TOYT -CAR/SUV | 2017.0</td>\n",
       "      <td>19279</td>\n",
       "      <td>2.290530</td>\n",
       "    </tr>\n",
       "    <tr>\n",
       "      <th>2</th>\n",
       "      <td>TOYT -CAR/SUV | 2016.0</td>\n",
       "      <td>18968</td>\n",
       "      <td>2.253580</td>\n",
       "    </tr>\n",
       "    <tr>\n",
       "      <th>3</th>\n",
       "      <td>TOYT -CAR/SUV | 2014.0</td>\n",
       "      <td>16274</td>\n",
       "      <td>1.933507</td>\n",
       "    </tr>\n",
       "    <tr>\n",
       "      <th>4</th>\n",
       "      <td>HOND -CAR/SUV | 2017.0</td>\n",
       "      <td>13486</td>\n",
       "      <td>1.602266</td>\n",
       "    </tr>\n",
       "    <tr>\n",
       "      <th>5</th>\n",
       "      <td>HOND -CAR/SUV | 2016.0</td>\n",
       "      <td>12636</td>\n",
       "      <td>1.501278</td>\n",
       "    </tr>\n",
       "    <tr>\n",
       "      <th>6</th>\n",
       "      <td>NISS -CAR/SUV | 2017.0</td>\n",
       "      <td>12418</td>\n",
       "      <td>1.475377</td>\n",
       "    </tr>\n",
       "    <tr>\n",
       "      <th>7</th>\n",
       "      <td>NISS -CAR/SUV | 2016.0</td>\n",
       "      <td>11826</td>\n",
       "      <td>1.405042</td>\n",
       "    </tr>\n",
       "    <tr>\n",
       "      <th>8</th>\n",
       "      <td>TOYT -CAR/SUV | 2013.0</td>\n",
       "      <td>10542</td>\n",
       "      <td>1.252491</td>\n",
       "    </tr>\n",
       "    <tr>\n",
       "      <th>9</th>\n",
       "      <td>TOYT -CAR/SUV | 2018.0</td>\n",
       "      <td>10129</td>\n",
       "      <td>1.203422</td>\n",
       "    </tr>\n",
       "  </tbody>\n",
       "</table>\n",
       "</div>"
      ],
      "text/plain": [
       "                   Factor  Count  vehicle_share\n",
       "0  TOYT -CAR/SUV | 2015.0  22607       2.685928\n",
       "1  TOYT -CAR/SUV | 2017.0  19279       2.290530\n",
       "2  TOYT -CAR/SUV | 2016.0  18968       2.253580\n",
       "3  TOYT -CAR/SUV | 2014.0  16274       1.933507\n",
       "4  HOND -CAR/SUV | 2017.0  13486       1.602266\n",
       "5  HOND -CAR/SUV | 2016.0  12636       1.501278\n",
       "6  NISS -CAR/SUV | 2017.0  12418       1.475377\n",
       "7  NISS -CAR/SUV | 2016.0  11826       1.405042\n",
       "8  TOYT -CAR/SUV | 2013.0  10542       1.252491\n",
       "9  TOYT -CAR/SUV | 2018.0  10129       1.203422"
      ]
     },
     "execution_count": 47,
     "metadata": {},
     "output_type": "execute_result"
    }
   ],
   "source": [
    "all_vehicle_count = vehicle_make_year_combined_df['Count'].sum()\n",
    "vehicle_make_year_combined_df['vehicle_share'] = vehicle_make_year_combined_df.apply(lambda row: (row.Count / all_vehicle_count) * 100, axis=1)\n",
    "\n",
    "vehicle_make_year_combined_df.nlargest(10, 'vehicle_share')"
   ]
  },
  {
   "cell_type": "code",
   "execution_count": null,
   "metadata": {},
   "outputs": [],
   "source": []
  }
 ],
 "metadata": {
  "kernelspec": {
   "display_name": "Python 3",
   "language": "python",
   "name": "python3"
  },
  "language_info": {
   "codemirror_mode": {
    "name": "ipython",
    "version": 3
   },
   "file_extension": ".py",
   "mimetype": "text/x-python",
   "name": "python",
   "nbconvert_exporter": "python",
   "pygments_lexer": "ipython3",
   "version": "3.8.8"
  }
 },
 "nbformat": 4,
 "nbformat_minor": 1
}
